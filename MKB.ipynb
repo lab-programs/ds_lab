{
  "nbformat": 4,
  "nbformat_minor": 0,
  "metadata": {
    "colab": {
      "name": "MKB.ipynb",
      "provenance": [],
      "collapsed_sections": []
    },
    "kernelspec": {
      "name": "python3",
      "display_name": "Python 3"
    },
    "language_info": {
      "name": "python"
    }
  },
  "cells": [
    {
      "cell_type": "markdown",
      "metadata": {
        "id": "KVT8g3VI2CcE"
      },
      "source": [
        "# Does Mann ki baat affect the discussions on Twitter? "
      ]
    },
    {
      "cell_type": "code",
      "source": [
        "import pandas as pd\n",
        "import json\n",
        "import re"
      ],
      "metadata": {
        "id": "lt0UPRMACx8L"
      },
      "execution_count": null,
      "outputs": []
    },
    {
      "cell_type": "code",
      "source": [
        "import gensim\n",
        "from bokeh.layouts import gridplot, row, column\n",
        "from gensim.corpora import Dictionary\n",
        "from gensim.models import TfidfModel, CoherenceModel\n",
        "from gensim.parsing.preprocessing import STOPWORDS\n",
        "from nltk import sent_tokenize, word_tokenize, WordNetLemmatizer, PorterStemmer, text\n",
        "import pandas as pd\n",
        "import matplotlib.pyplot as plt\n",
        "from textblob import TextBlob\n",
        "from bokeh.plotting import output_file , figure ,show\n",
        "sentence= []\n",
        "rm_stop = []\n",
        "li = []\n",
        "stop = ['fellow','countrymen', 'dear', 'greetings','new','feel','dirt','need','days','years','baat','world','babasaheb', 'ambedkar', 'mann','country','india','world' 'namaskar', 'feeling', 'like', 'today','day','year']\n",
        "wordnet_lemmatizer = WordNetLemmatizer()\n",
        "output_file('plot.html')\n",
        "#layout = gridplot()\n"
      ],
      "metadata": {
        "id": "tUIwCL5JV_PJ"
      },
      "execution_count": null,
      "outputs": []
    },
    {
      "cell_type": "code",
      "source": [
        "!rm -rf MKB.csv cleaned_tweets48.csv\n",
        "!wget https://media.githubusercontent.com/media/tezz-io/ds_lab/main/output/MKB.csv\n",
        "!wget https://media.githubusercontent.com/media/tezz-io/ds_lab/main/output/cleaned_tweets48.csv\n",
        "!wget https://raw.githubusercontent.com/tezz-io/ds_lab/main/output/mkb_speech_raw.json\n",
        "!wget https://raw.githubusercontent.com/tezz-io/ds_lab/main/output/tweets48.json"
      ],
      "metadata": {
        "colab": {
          "base_uri": "https://localhost:8080/"
        },
        "id": "6CjStcmVUTBc",
        "outputId": "7a4ce917-35a6-402f-8ff7-c0e330ba9242",
        "collapsed": true
      },
      "execution_count": null,
      "outputs": [
        {
          "output_type": "stream",
          "name": "stdout",
          "text": [
            "--2022-02-18 04:34:10--  https://media.githubusercontent.com/media/tezz-io/ds_lab/main/output/MKB.csv\n",
            "Resolving media.githubusercontent.com (media.githubusercontent.com)... 185.199.111.133, 185.199.109.133, 185.199.110.133, ...\n",
            "Connecting to media.githubusercontent.com (media.githubusercontent.com)|185.199.111.133|:443... connected.\n",
            "HTTP request sent, awaiting response... 200 OK\n",
            "Length: 2973553 (2.8M) [text/plain]\n",
            "Saving to: ‘MKB.csv’\n",
            "\n",
            "MKB.csv             100%[===================>]   2.83M  --.-KB/s    in 0.1s    \n",
            "\n",
            "2022-02-18 04:34:11 (28.7 MB/s) - ‘MKB.csv’ saved [2973553/2973553]\n",
            "\n",
            "--2022-02-18 04:34:11--  https://media.githubusercontent.com/media/tezz-io/ds_lab/main/output/cleaned_tweets48.csv\n",
            "Resolving media.githubusercontent.com (media.githubusercontent.com)... 185.199.111.133, 185.199.109.133, 185.199.110.133, ...\n",
            "Connecting to media.githubusercontent.com (media.githubusercontent.com)|185.199.111.133|:443... connected.\n",
            "HTTP request sent, awaiting response... 200 OK\n",
            "Length: 21100294 (20M) [text/plain]\n",
            "Saving to: ‘cleaned_tweets48.csv’\n",
            "\n",
            "cleaned_tweets48.cs 100%[===================>]  20.12M  87.3MB/s    in 0.2s    \n",
            "\n",
            "2022-02-18 04:34:12 (87.3 MB/s) - ‘cleaned_tweets48.csv’ saved [21100294/21100294]\n",
            "\n",
            "--2022-02-18 04:34:12--  https://raw.githubusercontent.com/tezz-io/ds_lab/main/output/mkb_speech_raw.json\n",
            "Resolving raw.githubusercontent.com (raw.githubusercontent.com)... 185.199.108.133, 185.199.109.133, 185.199.110.133, ...\n",
            "Connecting to raw.githubusercontent.com (raw.githubusercontent.com)|185.199.108.133|:443... connected.\n",
            "HTTP request sent, awaiting response... 200 OK\n",
            "Length: 1836583 (1.8M) [text/plain]\n",
            "Saving to: ‘mkb_speech_raw.json.3’\n",
            "\n",
            "mkb_speech_raw.json 100%[===================>]   1.75M  --.-KB/s    in 0.08s   \n",
            "\n",
            "2022-02-18 04:34:12 (21.1 MB/s) - ‘mkb_speech_raw.json.3’ saved [1836583/1836583]\n",
            "\n",
            "--2022-02-18 04:34:12--  https://raw.githubusercontent.com/tezz-io/ds_lab/main/output/tweets48.json\n",
            "Resolving raw.githubusercontent.com (raw.githubusercontent.com)... 185.199.108.133, 185.199.111.133, 185.199.110.133, ...\n",
            "Connecting to raw.githubusercontent.com (raw.githubusercontent.com)|185.199.108.133|:443... connected.\n",
            "HTTP request sent, awaiting response... 200 OK\n",
            "Length: 53185159 (51M) [text/plain]\n",
            "Saving to: ‘tweets48.json.3’\n",
            "\n",
            "tweets48.json.3     100%[===================>]  50.72M   112MB/s    in 0.5s    \n",
            "\n",
            "2022-02-18 04:34:13 (112 MB/s) - ‘tweets48.json.3’ saved [53185159/53185159]\n",
            "\n"
          ]
        }
      ]
    },
    {
      "cell_type": "code",
      "source": [
        "import nltk\n",
        "nltk.download('brown')\n",
        "nltk.download('wordnet')\n",
        "nltk.download('punkt')"
      ],
      "metadata": {
        "colab": {
          "base_uri": "https://localhost:8080/"
        },
        "id": "EpdfD0Y3WHTL",
        "outputId": "0eb3b3c7-ecef-4794-e2b2-fe35fa1be7d1",
        "collapsed": true
      },
      "execution_count": null,
      "outputs": [
        {
          "output_type": "stream",
          "name": "stdout",
          "text": [
            "[nltk_data] Downloading package brown to /root/nltk_data...\n",
            "[nltk_data]   Package brown is already up-to-date!\n",
            "[nltk_data] Downloading package wordnet to /root/nltk_data...\n",
            "[nltk_data]   Package wordnet is already up-to-date!\n",
            "[nltk_data] Downloading package punkt to /root/nltk_data...\n",
            "[nltk_data]   Package punkt is already up-to-date!\n"
          ]
        },
        {
          "output_type": "execute_result",
          "data": {
            "text/plain": [
              "True"
            ]
          },
          "metadata": {},
          "execution_count": 95
        }
      ]
    },
    {
      "cell_type": "markdown",
      "metadata": {
        "id": "do6G2sE1mPM-"
      },
      "source": [
        "# Dataset"
      ]
    },
    {
      "cell_type": "markdown",
      "metadata": {
        "id": "azt9U51iNsvo"
      },
      "source": [
        "## MKB data"
      ]
    },
    {
      "cell_type": "code",
      "metadata": {
        "id": "iwJuQWaHMvp0"
      },
      "source": [
        "test_data = pd.read_json('mkb_speech_raw.json', typ = 'Series')"
      ],
      "execution_count": null,
      "outputs": []
    },
    {
      "cell_type": "code",
      "metadata": {
        "colab": {
          "base_uri": "https://localhost:8080/"
        },
        "id": "dJkAprQ2Noxj",
        "outputId": "b9d44df3-1cbd-4c28-ad75-2c55a59c0780"
      },
      "source": [
        "test_data.index"
      ],
      "execution_count": null,
      "outputs": [
        {
          "output_type": "execute_result",
          "data": {
            "text/plain": [
              "Int64Index([20211024, 20210926, 20210829, 20210725, 20210627, 20210530,\n",
              "            20210425, 20210328, 20210228, 20210131, 20201227, 20201129,\n",
              "            20201025, 20200927, 20200830, 20200726, 20200628, 20200531,\n",
              "            20200426, 20200329, 20200223, 20200126, 20191229, 20191124,\n",
              "            20191027, 20190929, 20190825, 20190728, 20190630, 20190224,\n",
              "            20190127, 20181230, 20181125, 20181028, 20180930, 20180826,\n",
              "            20180729, 20180624, 20180527, 20180429, 20180325, 20180225,\n",
              "            20180128, 20171231, 20171029, 20170924, 20170827, 20170730,\n",
              "            20170625, 20170528, 20170430, 20170326, 20170226, 20170129,\n",
              "            20161225, 20161127, 20161030, 20160925, 20160828, 20160731,\n",
              "            20160626, 20160522, 20160424, 20160327, 20160228, 20160131,\n",
              "            20151227, 20151129, 20151025, 20150920, 20150830, 20150726,\n",
              "            20150628, 20150531, 20150426, 20150322, 20150222, 20150127,\n",
              "            20141214, 20141102, 20141003],\n",
              "           dtype='int64')"
            ]
          },
          "metadata": {},
          "execution_count": 97
        }
      ]
    },
    {
      "cell_type": "code",
      "metadata": {
        "id": "ClKuW8qMNpid"
      },
      "source": [
        "df2 = pd.DataFrame([i for i in test_data.index], columns=['Episode'])\n",
        "df2.set_index('Episode')\n",
        "df2['Content'] = test_data.values"
      ],
      "execution_count": null,
      "outputs": []
    },
    {
      "cell_type": "code",
      "metadata": {
        "colab": {
          "base_uri": "https://localhost:8080/",
          "height": 448
        },
        "id": "6dS2KKI4N1Wc",
        "outputId": "e7b41c2c-657f-429e-e79e-aa6087aea40e"
      },
      "source": [
        "df2"
      ],
      "execution_count": null,
      "outputs": [
        {
          "output_type": "execute_result",
          "data": {
            "text/html": [
              "\n",
              "  <div id=\"df-b0286e6a-04cf-4488-b273-2beb8f746a42\">\n",
              "    <div class=\"colab-df-container\">\n",
              "      <div>\n",
              "<style scoped>\n",
              "    .dataframe tbody tr th:only-of-type {\n",
              "        vertical-align: middle;\n",
              "    }\n",
              "\n",
              "    .dataframe tbody tr th {\n",
              "        vertical-align: top;\n",
              "    }\n",
              "\n",
              "    .dataframe thead th {\n",
              "        text-align: right;\n",
              "    }\n",
              "</style>\n",
              "<table border=\"1\" class=\"dataframe\">\n",
              "  <thead>\n",
              "    <tr style=\"text-align: right;\">\n",
              "      <th></th>\n",
              "      <th>Episode</th>\n",
              "      <th>Content</th>\n",
              "    </tr>\n",
              "  </thead>\n",
              "  <tbody>\n",
              "    <tr>\n",
              "      <th>0</th>\n",
              "      <td>20211024</td>\n",
              "      <td>My dear countrymen,\\nNamaskar…namaskar a billi...</td>\n",
              "    </tr>\n",
              "    <tr>\n",
              "      <th>1</th>\n",
              "      <td>20210926</td>\n",
              "      <td>My dear countrymen,\\nNamaskar. You are aware t...</td>\n",
              "    </tr>\n",
              "    <tr>\n",
              "      <th>2</th>\n",
              "      <td>20210829</td>\n",
              "      <td>My dear countrymen, Namaskar.\\nAll of us know ...</td>\n",
              "    </tr>\n",
              "    <tr>\n",
              "      <th>3</th>\n",
              "      <td>20210725</td>\n",
              "      <td>My dear countrymen, Namaskar. A few amazing pi...</td>\n",
              "    </tr>\n",
              "    <tr>\n",
              "      <th>4</th>\n",
              "      <td>20210627</td>\n",
              "      <td>My dear countrymen, Namaskar.\\nOften in Mann K...</td>\n",
              "    </tr>\n",
              "    <tr>\n",
              "      <th>...</th>\n",
              "      <td>...</td>\n",
              "      <td>...</td>\n",
              "    </tr>\n",
              "    <tr>\n",
              "      <th>76</th>\n",
              "      <td>20150222</td>\n",
              "      <td>Hello, my young friends. Today probably the en...</td>\n",
              "    </tr>\n",
              "    <tr>\n",
              "      <th>77</th>\n",
              "      <td>20150127</td>\n",
              "      <td>\\n\\n\\n(Hon’ble Shri Narendra Modi):\\nToday, Sh...</td>\n",
              "    </tr>\n",
              "    <tr>\n",
              "      <th>78</th>\n",
              "      <td>20141214</td>\n",
              "      <td>\\nMy Dear Fellow Countrymen,\\nToday I have thi...</td>\n",
              "    </tr>\n",
              "    <tr>\n",
              "      <th>79</th>\n",
              "      <td>20141102</td>\n",
              "      <td>My dear fellow countrymen, \\nI am with you aga...</td>\n",
              "    </tr>\n",
              "    <tr>\n",
              "      <th>80</th>\n",
              "      <td>20141003</td>\n",
              "      <td>My Dear Countrymen,\\nToday is the holy festiva...</td>\n",
              "    </tr>\n",
              "  </tbody>\n",
              "</table>\n",
              "<p>81 rows × 2 columns</p>\n",
              "</div>\n",
              "      <button class=\"colab-df-convert\" onclick=\"convertToInteractive('df-b0286e6a-04cf-4488-b273-2beb8f746a42')\"\n",
              "              title=\"Convert this dataframe to an interactive table.\"\n",
              "              style=\"display:none;\">\n",
              "        \n",
              "  <svg xmlns=\"http://www.w3.org/2000/svg\" height=\"24px\"viewBox=\"0 0 24 24\"\n",
              "       width=\"24px\">\n",
              "    <path d=\"M0 0h24v24H0V0z\" fill=\"none\"/>\n",
              "    <path d=\"M18.56 5.44l.94 2.06.94-2.06 2.06-.94-2.06-.94-.94-2.06-.94 2.06-2.06.94zm-11 1L8.5 8.5l.94-2.06 2.06-.94-2.06-.94L8.5 2.5l-.94 2.06-2.06.94zm10 10l.94 2.06.94-2.06 2.06-.94-2.06-.94-.94-2.06-.94 2.06-2.06.94z\"/><path d=\"M17.41 7.96l-1.37-1.37c-.4-.4-.92-.59-1.43-.59-.52 0-1.04.2-1.43.59L10.3 9.45l-7.72 7.72c-.78.78-.78 2.05 0 2.83L4 21.41c.39.39.9.59 1.41.59.51 0 1.02-.2 1.41-.59l7.78-7.78 2.81-2.81c.8-.78.8-2.07 0-2.86zM5.41 20L4 18.59l7.72-7.72 1.47 1.35L5.41 20z\"/>\n",
              "  </svg>\n",
              "      </button>\n",
              "      \n",
              "  <style>\n",
              "    .colab-df-container {\n",
              "      display:flex;\n",
              "      flex-wrap:wrap;\n",
              "      gap: 12px;\n",
              "    }\n",
              "\n",
              "    .colab-df-convert {\n",
              "      background-color: #E8F0FE;\n",
              "      border: none;\n",
              "      border-radius: 50%;\n",
              "      cursor: pointer;\n",
              "      display: none;\n",
              "      fill: #1967D2;\n",
              "      height: 32px;\n",
              "      padding: 0 0 0 0;\n",
              "      width: 32px;\n",
              "    }\n",
              "\n",
              "    .colab-df-convert:hover {\n",
              "      background-color: #E2EBFA;\n",
              "      box-shadow: 0px 1px 2px rgba(60, 64, 67, 0.3), 0px 1px 3px 1px rgba(60, 64, 67, 0.15);\n",
              "      fill: #174EA6;\n",
              "    }\n",
              "\n",
              "    [theme=dark] .colab-df-convert {\n",
              "      background-color: #3B4455;\n",
              "      fill: #D2E3FC;\n",
              "    }\n",
              "\n",
              "    [theme=dark] .colab-df-convert:hover {\n",
              "      background-color: #434B5C;\n",
              "      box-shadow: 0px 1px 3px 1px rgba(0, 0, 0, 0.15);\n",
              "      filter: drop-shadow(0px 1px 2px rgba(0, 0, 0, 0.3));\n",
              "      fill: #FFFFFF;\n",
              "    }\n",
              "  </style>\n",
              "\n",
              "      <script>\n",
              "        const buttonEl =\n",
              "          document.querySelector('#df-b0286e6a-04cf-4488-b273-2beb8f746a42 button.colab-df-convert');\n",
              "        buttonEl.style.display =\n",
              "          google.colab.kernel.accessAllowed ? 'block' : 'none';\n",
              "\n",
              "        async function convertToInteractive(key) {\n",
              "          const element = document.querySelector('#df-b0286e6a-04cf-4488-b273-2beb8f746a42');\n",
              "          const dataTable =\n",
              "            await google.colab.kernel.invokeFunction('convertToInteractive',\n",
              "                                                     [key], {});\n",
              "          if (!dataTable) return;\n",
              "\n",
              "          const docLinkHtml = 'Like what you see? Visit the ' +\n",
              "            '<a target=\"_blank\" href=https://colab.research.google.com/notebooks/data_table.ipynb>data table notebook</a>'\n",
              "            + ' to learn more about interactive tables.';\n",
              "          element.innerHTML = '';\n",
              "          dataTable['output_type'] = 'display_data';\n",
              "          await google.colab.output.renderOutput(dataTable, element);\n",
              "          const docLink = document.createElement('div');\n",
              "          docLink.innerHTML = docLinkHtml;\n",
              "          element.appendChild(docLink);\n",
              "        }\n",
              "      </script>\n",
              "    </div>\n",
              "  </div>\n",
              "  "
            ],
            "text/plain": [
              "     Episode                                            Content\n",
              "0   20211024  My dear countrymen,\\nNamaskar…namaskar a billi...\n",
              "1   20210926  My dear countrymen,\\nNamaskar. You are aware t...\n",
              "2   20210829  My dear countrymen, Namaskar.\\nAll of us know ...\n",
              "3   20210725  My dear countrymen, Namaskar. A few amazing pi...\n",
              "4   20210627  My dear countrymen, Namaskar.\\nOften in Mann K...\n",
              "..       ...                                                ...\n",
              "76  20150222  Hello, my young friends. Today probably the en...\n",
              "77  20150127  \\n\\n\\n(Hon’ble Shri Narendra Modi):\\nToday, Sh...\n",
              "78  20141214  \\nMy Dear Fellow Countrymen,\\nToday I have thi...\n",
              "79  20141102  My dear fellow countrymen, \\nI am with you aga...\n",
              "80  20141003  My Dear Countrymen,\\nToday is the holy festiva...\n",
              "\n",
              "[81 rows x 2 columns]"
            ]
          },
          "metadata": {},
          "execution_count": 99
        }
      ]
    },
    {
      "cell_type": "code",
      "metadata": {
        "id": "v91GlvSMN3EN"
      },
      "source": [
        "# Dictionary of English Contractions\n",
        "contractions_dict = { \"ain't\": \"are not\",\"'s\":\" is\",\"aren't\": \"are not\",\n",
        "                     \"can't\": \"cannot\",\"can't've\": \"cannot have\",\n",
        "                     \"'cause\": \"because\",\"could've\": \"could have\",\"couldn't\": \"could not\",\n",
        "                     \"couldn't've\": \"could not have\", \"didn't\": \"did not\",\"doesn't\": \"does not\",\n",
        "                     \"don't\": \"do not\",\"hadn't\": \"had not\",\"hadn't've\": \"had not have\",\n",
        "                     \"hasn't\": \"has not\",\"haven't\": \"have not\",\"he'd\": \"he would\",\n",
        "                     \"he'd've\": \"he would have\",\"he'll\": \"he will\", \"he'll've\": \"he will have\",\n",
        "                     \"how'd\": \"how did\",\"how'd'y\": \"how do you\",\"how'll\": \"how will\",\n",
        "                     \"I'd\": \"I would\", \"I'd've\": \"I would have\",\"I'll\": \"I will\",\n",
        "                     \"I'll've\": \"I will have\",\"I'm\": \"I am\",\"I've\": \"I have\", \"isn't\": \"is not\",\n",
        "                     \"it'd\": \"it would\",\"it'd've\": \"it would have\",\"it'll\": \"it will\",\n",
        "                     \"it'll've\": \"it will have\", \"let's\": \"let us\",\"ma'am\": \"madam\",\n",
        "                     \"mayn't\": \"may not\",\"might've\": \"might have\",\"mightn't\": \"might not\", \n",
        "                     \"mightn't've\": \"might not have\",\"must've\": \"must have\",\"mustn't\": \"must not\",\n",
        "                     \"mustn't've\": \"must not have\", \"needn't\": \"need not\",\n",
        "                     \"needn't've\": \"need not have\",\"o'clock\": \"of the clock\",\"oughtn't\": \"ought not\",\n",
        "                     \"oughtn't've\": \"ought not have\",\"shan't\": \"shall not\",\"sha'n't\": \"shall not\",\n",
        "                     \"shan't've\": \"shall not have\",\"she'd\": \"she would\",\"she'd've\": \"she would have\",\n",
        "                     \"she'll\": \"she will\", \"she'll've\": \"she will have\",\"should've\": \"should have\",\n",
        "                     \"shouldn't\": \"should not\", \"shouldn't've\": \"should not have\",\"so've\": \"so have\",\n",
        "                     \"that'd\": \"that would\",\"that'd've\": \"that would have\", \"there'd\": \"there would\",\n",
        "                     \"there'd've\": \"there would have\", \"they'd\": \"they would\",\n",
        "                     \"they'd've\": \"they would have\",\"they'll\": \"they will\",\n",
        "                     \"they'll've\": \"they will have\", \"they're\": \"they are\",\"they've\": \"they have\",\n",
        "                     \"to've\": \"to have\",\"wasn't\": \"was not\",\"we'd\": \"we would\",\n",
        "                     \"we'd've\": \"we would have\",\"we'll\": \"we will\",\"we'll've\": \"we will have\",\n",
        "                     \"we're\": \"we are\",\"we've\": \"we have\", \"weren't\": \"were not\",\"what'll\": \"what will\",\n",
        "                     \"what'll've\": \"what will have\",\"what're\": \"what are\", \"what've\": \"what have\",\n",
        "                     \"when've\": \"when have\",\"where'd\": \"where did\", \"where've\": \"where have\",\n",
        "                     \"who'll\": \"who will\",\"who'll've\": \"who will have\",\"who've\": \"who have\",\n",
        "                     \"why've\": \"why have\",\"will've\": \"will have\",\"won't\": \"will not\",\n",
        "                     \"won't've\": \"will not have\", \"would've\": \"would have\",\"wouldn't\": \"would not\",\n",
        "                     \"wouldn't've\": \"would not have\",\"y'all\": \"you all\", \"y'all'd\": \"you all would\",\n",
        "                     \"y'all'd've\": \"you all would have\",\"y'all're\": \"you all are\",\n",
        "                     \"y'all've\": \"you all have\", \"you'd\": \"you would\",\"you'd've\": \"you would have\",\n",
        "                     \"you'll\": \"you will\",\"you'll've\": \"you will have\", \"you're\": \"you are\",\n",
        "                     \"you've\": \"you have\"}\n",
        "\n",
        "# Regular expression for finding contractions\n",
        "contractions_re=re.compile('(%s)' % '|'.join(contractions_dict.keys()))\n",
        "\n",
        "# Function for expanding contractions\n",
        "def expand_contractions(text,contractions_dict=contractions_dict):\n",
        "  def replace(match):\n",
        "    return contractions_dict[match.group(0)]\n",
        "  return contractions_re.sub(replace, text)\n",
        "\n",
        "# Expanding Contractions in the reviews\n",
        "df2['Content']=df2['Content'].apply(lambda x:expand_contractions(x))\n"
      ],
      "execution_count": null,
      "outputs": []
    },
    {
      "cell_type": "code",
      "metadata": {
        "colab": {
          "base_uri": "https://localhost:8080/",
          "height": 228
        },
        "id": "Om0m2bY1N6yc",
        "outputId": "5bea2129-7cfa-42a6-ac17-bbcafb04b7b3"
      },
      "source": [
        "df2.head()"
      ],
      "execution_count": null,
      "outputs": [
        {
          "output_type": "execute_result",
          "data": {
            "text/html": [
              "\n",
              "  <div id=\"df-c79fde61-e15c-418e-8cc4-f2c7867ac5af\">\n",
              "    <div class=\"colab-df-container\">\n",
              "      <div>\n",
              "<style scoped>\n",
              "    .dataframe tbody tr th:only-of-type {\n",
              "        vertical-align: middle;\n",
              "    }\n",
              "\n",
              "    .dataframe tbody tr th {\n",
              "        vertical-align: top;\n",
              "    }\n",
              "\n",
              "    .dataframe thead th {\n",
              "        text-align: right;\n",
              "    }\n",
              "</style>\n",
              "<table border=\"1\" class=\"dataframe\">\n",
              "  <thead>\n",
              "    <tr style=\"text-align: right;\">\n",
              "      <th></th>\n",
              "      <th>Episode</th>\n",
              "      <th>Content</th>\n",
              "    </tr>\n",
              "  </thead>\n",
              "  <tbody>\n",
              "    <tr>\n",
              "      <th>0</th>\n",
              "      <td>20211024</td>\n",
              "      <td>My dear countrymen,\\nNamaskar…namaskar a billi...</td>\n",
              "    </tr>\n",
              "    <tr>\n",
              "      <th>1</th>\n",
              "      <td>20210926</td>\n",
              "      <td>My dear countrymen,\\nNamaskar. You are aware t...</td>\n",
              "    </tr>\n",
              "    <tr>\n",
              "      <th>2</th>\n",
              "      <td>20210829</td>\n",
              "      <td>My dear countrymen, Namaskar.\\nAll of us know ...</td>\n",
              "    </tr>\n",
              "    <tr>\n",
              "      <th>3</th>\n",
              "      <td>20210725</td>\n",
              "      <td>My dear countrymen, Namaskar. A few amazing pi...</td>\n",
              "    </tr>\n",
              "    <tr>\n",
              "      <th>4</th>\n",
              "      <td>20210627</td>\n",
              "      <td>My dear countrymen, Namaskar.\\nOften in Mann K...</td>\n",
              "    </tr>\n",
              "  </tbody>\n",
              "</table>\n",
              "</div>\n",
              "      <button class=\"colab-df-convert\" onclick=\"convertToInteractive('df-c79fde61-e15c-418e-8cc4-f2c7867ac5af')\"\n",
              "              title=\"Convert this dataframe to an interactive table.\"\n",
              "              style=\"display:none;\">\n",
              "        \n",
              "  <svg xmlns=\"http://www.w3.org/2000/svg\" height=\"24px\"viewBox=\"0 0 24 24\"\n",
              "       width=\"24px\">\n",
              "    <path d=\"M0 0h24v24H0V0z\" fill=\"none\"/>\n",
              "    <path d=\"M18.56 5.44l.94 2.06.94-2.06 2.06-.94-2.06-.94-.94-2.06-.94 2.06-2.06.94zm-11 1L8.5 8.5l.94-2.06 2.06-.94-2.06-.94L8.5 2.5l-.94 2.06-2.06.94zm10 10l.94 2.06.94-2.06 2.06-.94-2.06-.94-.94-2.06-.94 2.06-2.06.94z\"/><path d=\"M17.41 7.96l-1.37-1.37c-.4-.4-.92-.59-1.43-.59-.52 0-1.04.2-1.43.59L10.3 9.45l-7.72 7.72c-.78.78-.78 2.05 0 2.83L4 21.41c.39.39.9.59 1.41.59.51 0 1.02-.2 1.41-.59l7.78-7.78 2.81-2.81c.8-.78.8-2.07 0-2.86zM5.41 20L4 18.59l7.72-7.72 1.47 1.35L5.41 20z\"/>\n",
              "  </svg>\n",
              "      </button>\n",
              "      \n",
              "  <style>\n",
              "    .colab-df-container {\n",
              "      display:flex;\n",
              "      flex-wrap:wrap;\n",
              "      gap: 12px;\n",
              "    }\n",
              "\n",
              "    .colab-df-convert {\n",
              "      background-color: #E8F0FE;\n",
              "      border: none;\n",
              "      border-radius: 50%;\n",
              "      cursor: pointer;\n",
              "      display: none;\n",
              "      fill: #1967D2;\n",
              "      height: 32px;\n",
              "      padding: 0 0 0 0;\n",
              "      width: 32px;\n",
              "    }\n",
              "\n",
              "    .colab-df-convert:hover {\n",
              "      background-color: #E2EBFA;\n",
              "      box-shadow: 0px 1px 2px rgba(60, 64, 67, 0.3), 0px 1px 3px 1px rgba(60, 64, 67, 0.15);\n",
              "      fill: #174EA6;\n",
              "    }\n",
              "\n",
              "    [theme=dark] .colab-df-convert {\n",
              "      background-color: #3B4455;\n",
              "      fill: #D2E3FC;\n",
              "    }\n",
              "\n",
              "    [theme=dark] .colab-df-convert:hover {\n",
              "      background-color: #434B5C;\n",
              "      box-shadow: 0px 1px 3px 1px rgba(0, 0, 0, 0.15);\n",
              "      filter: drop-shadow(0px 1px 2px rgba(0, 0, 0, 0.3));\n",
              "      fill: #FFFFFF;\n",
              "    }\n",
              "  </style>\n",
              "\n",
              "      <script>\n",
              "        const buttonEl =\n",
              "          document.querySelector('#df-c79fde61-e15c-418e-8cc4-f2c7867ac5af button.colab-df-convert');\n",
              "        buttonEl.style.display =\n",
              "          google.colab.kernel.accessAllowed ? 'block' : 'none';\n",
              "\n",
              "        async function convertToInteractive(key) {\n",
              "          const element = document.querySelector('#df-c79fde61-e15c-418e-8cc4-f2c7867ac5af');\n",
              "          const dataTable =\n",
              "            await google.colab.kernel.invokeFunction('convertToInteractive',\n",
              "                                                     [key], {});\n",
              "          if (!dataTable) return;\n",
              "\n",
              "          const docLinkHtml = 'Like what you see? Visit the ' +\n",
              "            '<a target=\"_blank\" href=https://colab.research.google.com/notebooks/data_table.ipynb>data table notebook</a>'\n",
              "            + ' to learn more about interactive tables.';\n",
              "          element.innerHTML = '';\n",
              "          dataTable['output_type'] = 'display_data';\n",
              "          await google.colab.output.renderOutput(dataTable, element);\n",
              "          const docLink = document.createElement('div');\n",
              "          docLink.innerHTML = docLinkHtml;\n",
              "          element.appendChild(docLink);\n",
              "        }\n",
              "      </script>\n",
              "    </div>\n",
              "  </div>\n",
              "  "
            ],
            "text/plain": [
              "    Episode                                            Content\n",
              "0  20211024  My dear countrymen,\\nNamaskar…namaskar a billi...\n",
              "1  20210926  My dear countrymen,\\nNamaskar. You are aware t...\n",
              "2  20210829  My dear countrymen, Namaskar.\\nAll of us know ...\n",
              "3  20210725  My dear countrymen, Namaskar. A few amazing pi...\n",
              "4  20210627  My dear countrymen, Namaskar.\\nOften in Mann K..."
            ]
          },
          "metadata": {},
          "execution_count": 101
        }
      ]
    },
    {
      "cell_type": "code",
      "metadata": {
        "colab": {
          "base_uri": "https://localhost:8080/",
          "height": 228
        },
        "id": "tuNmAsrwOFO5",
        "outputId": "1ef3179d-87f1-4cb7-a228-4982fb1149c7"
      },
      "source": [
        "#Converting all words to lower case\n",
        "df2['cleaned']=df2['Content'].apply(lambda x: x.lower())\n",
        "df2.head()"
      ],
      "execution_count": null,
      "outputs": [
        {
          "output_type": "execute_result",
          "data": {
            "text/html": [
              "\n",
              "  <div id=\"df-0356af47-b17f-48ce-afd6-6ac7b721d11f\">\n",
              "    <div class=\"colab-df-container\">\n",
              "      <div>\n",
              "<style scoped>\n",
              "    .dataframe tbody tr th:only-of-type {\n",
              "        vertical-align: middle;\n",
              "    }\n",
              "\n",
              "    .dataframe tbody tr th {\n",
              "        vertical-align: top;\n",
              "    }\n",
              "\n",
              "    .dataframe thead th {\n",
              "        text-align: right;\n",
              "    }\n",
              "</style>\n",
              "<table border=\"1\" class=\"dataframe\">\n",
              "  <thead>\n",
              "    <tr style=\"text-align: right;\">\n",
              "      <th></th>\n",
              "      <th>Episode</th>\n",
              "      <th>Content</th>\n",
              "      <th>cleaned</th>\n",
              "    </tr>\n",
              "  </thead>\n",
              "  <tbody>\n",
              "    <tr>\n",
              "      <th>0</th>\n",
              "      <td>20211024</td>\n",
              "      <td>My dear countrymen,\\nNamaskar…namaskar a billi...</td>\n",
              "      <td>my dear countrymen,\\nnamaskar…namaskar a billi...</td>\n",
              "    </tr>\n",
              "    <tr>\n",
              "      <th>1</th>\n",
              "      <td>20210926</td>\n",
              "      <td>My dear countrymen,\\nNamaskar. You are aware t...</td>\n",
              "      <td>my dear countrymen,\\nnamaskar. you are aware t...</td>\n",
              "    </tr>\n",
              "    <tr>\n",
              "      <th>2</th>\n",
              "      <td>20210829</td>\n",
              "      <td>My dear countrymen, Namaskar.\\nAll of us know ...</td>\n",
              "      <td>my dear countrymen, namaskar.\\nall of us know ...</td>\n",
              "    </tr>\n",
              "    <tr>\n",
              "      <th>3</th>\n",
              "      <td>20210725</td>\n",
              "      <td>My dear countrymen, Namaskar. A few amazing pi...</td>\n",
              "      <td>my dear countrymen, namaskar. a few amazing pi...</td>\n",
              "    </tr>\n",
              "    <tr>\n",
              "      <th>4</th>\n",
              "      <td>20210627</td>\n",
              "      <td>My dear countrymen, Namaskar.\\nOften in Mann K...</td>\n",
              "      <td>my dear countrymen, namaskar.\\noften in mann k...</td>\n",
              "    </tr>\n",
              "  </tbody>\n",
              "</table>\n",
              "</div>\n",
              "      <button class=\"colab-df-convert\" onclick=\"convertToInteractive('df-0356af47-b17f-48ce-afd6-6ac7b721d11f')\"\n",
              "              title=\"Convert this dataframe to an interactive table.\"\n",
              "              style=\"display:none;\">\n",
              "        \n",
              "  <svg xmlns=\"http://www.w3.org/2000/svg\" height=\"24px\"viewBox=\"0 0 24 24\"\n",
              "       width=\"24px\">\n",
              "    <path d=\"M0 0h24v24H0V0z\" fill=\"none\"/>\n",
              "    <path d=\"M18.56 5.44l.94 2.06.94-2.06 2.06-.94-2.06-.94-.94-2.06-.94 2.06-2.06.94zm-11 1L8.5 8.5l.94-2.06 2.06-.94-2.06-.94L8.5 2.5l-.94 2.06-2.06.94zm10 10l.94 2.06.94-2.06 2.06-.94-2.06-.94-.94-2.06-.94 2.06-2.06.94z\"/><path d=\"M17.41 7.96l-1.37-1.37c-.4-.4-.92-.59-1.43-.59-.52 0-1.04.2-1.43.59L10.3 9.45l-7.72 7.72c-.78.78-.78 2.05 0 2.83L4 21.41c.39.39.9.59 1.41.59.51 0 1.02-.2 1.41-.59l7.78-7.78 2.81-2.81c.8-.78.8-2.07 0-2.86zM5.41 20L4 18.59l7.72-7.72 1.47 1.35L5.41 20z\"/>\n",
              "  </svg>\n",
              "      </button>\n",
              "      \n",
              "  <style>\n",
              "    .colab-df-container {\n",
              "      display:flex;\n",
              "      flex-wrap:wrap;\n",
              "      gap: 12px;\n",
              "    }\n",
              "\n",
              "    .colab-df-convert {\n",
              "      background-color: #E8F0FE;\n",
              "      border: none;\n",
              "      border-radius: 50%;\n",
              "      cursor: pointer;\n",
              "      display: none;\n",
              "      fill: #1967D2;\n",
              "      height: 32px;\n",
              "      padding: 0 0 0 0;\n",
              "      width: 32px;\n",
              "    }\n",
              "\n",
              "    .colab-df-convert:hover {\n",
              "      background-color: #E2EBFA;\n",
              "      box-shadow: 0px 1px 2px rgba(60, 64, 67, 0.3), 0px 1px 3px 1px rgba(60, 64, 67, 0.15);\n",
              "      fill: #174EA6;\n",
              "    }\n",
              "\n",
              "    [theme=dark] .colab-df-convert {\n",
              "      background-color: #3B4455;\n",
              "      fill: #D2E3FC;\n",
              "    }\n",
              "\n",
              "    [theme=dark] .colab-df-convert:hover {\n",
              "      background-color: #434B5C;\n",
              "      box-shadow: 0px 1px 3px 1px rgba(0, 0, 0, 0.15);\n",
              "      filter: drop-shadow(0px 1px 2px rgba(0, 0, 0, 0.3));\n",
              "      fill: #FFFFFF;\n",
              "    }\n",
              "  </style>\n",
              "\n",
              "      <script>\n",
              "        const buttonEl =\n",
              "          document.querySelector('#df-0356af47-b17f-48ce-afd6-6ac7b721d11f button.colab-df-convert');\n",
              "        buttonEl.style.display =\n",
              "          google.colab.kernel.accessAllowed ? 'block' : 'none';\n",
              "\n",
              "        async function convertToInteractive(key) {\n",
              "          const element = document.querySelector('#df-0356af47-b17f-48ce-afd6-6ac7b721d11f');\n",
              "          const dataTable =\n",
              "            await google.colab.kernel.invokeFunction('convertToInteractive',\n",
              "                                                     [key], {});\n",
              "          if (!dataTable) return;\n",
              "\n",
              "          const docLinkHtml = 'Like what you see? Visit the ' +\n",
              "            '<a target=\"_blank\" href=https://colab.research.google.com/notebooks/data_table.ipynb>data table notebook</a>'\n",
              "            + ' to learn more about interactive tables.';\n",
              "          element.innerHTML = '';\n",
              "          dataTable['output_type'] = 'display_data';\n",
              "          await google.colab.output.renderOutput(dataTable, element);\n",
              "          const docLink = document.createElement('div');\n",
              "          docLink.innerHTML = docLinkHtml;\n",
              "          element.appendChild(docLink);\n",
              "        }\n",
              "      </script>\n",
              "    </div>\n",
              "  </div>\n",
              "  "
            ],
            "text/plain": [
              "    Episode  ...                                            cleaned\n",
              "0  20211024  ...  my dear countrymen,\\nnamaskar…namaskar a billi...\n",
              "1  20210926  ...  my dear countrymen,\\nnamaskar. you are aware t...\n",
              "2  20210829  ...  my dear countrymen, namaskar.\\nall of us know ...\n",
              "3  20210725  ...  my dear countrymen, namaskar. a few amazing pi...\n",
              "4  20210627  ...  my dear countrymen, namaskar.\\noften in mann k...\n",
              "\n",
              "[5 rows x 3 columns]"
            ]
          },
          "metadata": {},
          "execution_count": 102
        }
      ]
    },
    {
      "cell_type": "code",
      "metadata": {
        "colab": {
          "base_uri": "https://localhost:8080/",
          "height": 228
        },
        "id": "tRZYrA3dOInZ",
        "outputId": "7847f576-89a1-4d6d-c220-2283a4dafff4"
      },
      "source": [
        "df2['cleaned']=df2['cleaned'].apply(lambda x: re.sub('\\w*\\d\\w*','', x))\n",
        "df2.head()"
      ],
      "execution_count": null,
      "outputs": [
        {
          "output_type": "execute_result",
          "data": {
            "text/html": [
              "\n",
              "  <div id=\"df-1f6c3b83-88f5-4efa-9fab-08bb010820b8\">\n",
              "    <div class=\"colab-df-container\">\n",
              "      <div>\n",
              "<style scoped>\n",
              "    .dataframe tbody tr th:only-of-type {\n",
              "        vertical-align: middle;\n",
              "    }\n",
              "\n",
              "    .dataframe tbody tr th {\n",
              "        vertical-align: top;\n",
              "    }\n",
              "\n",
              "    .dataframe thead th {\n",
              "        text-align: right;\n",
              "    }\n",
              "</style>\n",
              "<table border=\"1\" class=\"dataframe\">\n",
              "  <thead>\n",
              "    <tr style=\"text-align: right;\">\n",
              "      <th></th>\n",
              "      <th>Episode</th>\n",
              "      <th>Content</th>\n",
              "      <th>cleaned</th>\n",
              "    </tr>\n",
              "  </thead>\n",
              "  <tbody>\n",
              "    <tr>\n",
              "      <th>0</th>\n",
              "      <td>20211024</td>\n",
              "      <td>My dear countrymen,\\nNamaskar…namaskar a billi...</td>\n",
              "      <td>my dear countrymen,\\nnamaskar…namaskar a billi...</td>\n",
              "    </tr>\n",
              "    <tr>\n",
              "      <th>1</th>\n",
              "      <td>20210926</td>\n",
              "      <td>My dear countrymen,\\nNamaskar. You are aware t...</td>\n",
              "      <td>my dear countrymen,\\nnamaskar. you are aware t...</td>\n",
              "    </tr>\n",
              "    <tr>\n",
              "      <th>2</th>\n",
              "      <td>20210829</td>\n",
              "      <td>My dear countrymen, Namaskar.\\nAll of us know ...</td>\n",
              "      <td>my dear countrymen, namaskar.\\nall of us know ...</td>\n",
              "    </tr>\n",
              "    <tr>\n",
              "      <th>3</th>\n",
              "      <td>20210725</td>\n",
              "      <td>My dear countrymen, Namaskar. A few amazing pi...</td>\n",
              "      <td>my dear countrymen, namaskar. a few amazing pi...</td>\n",
              "    </tr>\n",
              "    <tr>\n",
              "      <th>4</th>\n",
              "      <td>20210627</td>\n",
              "      <td>My dear countrymen, Namaskar.\\nOften in Mann K...</td>\n",
              "      <td>my dear countrymen, namaskar.\\noften in mann k...</td>\n",
              "    </tr>\n",
              "  </tbody>\n",
              "</table>\n",
              "</div>\n",
              "      <button class=\"colab-df-convert\" onclick=\"convertToInteractive('df-1f6c3b83-88f5-4efa-9fab-08bb010820b8')\"\n",
              "              title=\"Convert this dataframe to an interactive table.\"\n",
              "              style=\"display:none;\">\n",
              "        \n",
              "  <svg xmlns=\"http://www.w3.org/2000/svg\" height=\"24px\"viewBox=\"0 0 24 24\"\n",
              "       width=\"24px\">\n",
              "    <path d=\"M0 0h24v24H0V0z\" fill=\"none\"/>\n",
              "    <path d=\"M18.56 5.44l.94 2.06.94-2.06 2.06-.94-2.06-.94-.94-2.06-.94 2.06-2.06.94zm-11 1L8.5 8.5l.94-2.06 2.06-.94-2.06-.94L8.5 2.5l-.94 2.06-2.06.94zm10 10l.94 2.06.94-2.06 2.06-.94-2.06-.94-.94-2.06-.94 2.06-2.06.94z\"/><path d=\"M17.41 7.96l-1.37-1.37c-.4-.4-.92-.59-1.43-.59-.52 0-1.04.2-1.43.59L10.3 9.45l-7.72 7.72c-.78.78-.78 2.05 0 2.83L4 21.41c.39.39.9.59 1.41.59.51 0 1.02-.2 1.41-.59l7.78-7.78 2.81-2.81c.8-.78.8-2.07 0-2.86zM5.41 20L4 18.59l7.72-7.72 1.47 1.35L5.41 20z\"/>\n",
              "  </svg>\n",
              "      </button>\n",
              "      \n",
              "  <style>\n",
              "    .colab-df-container {\n",
              "      display:flex;\n",
              "      flex-wrap:wrap;\n",
              "      gap: 12px;\n",
              "    }\n",
              "\n",
              "    .colab-df-convert {\n",
              "      background-color: #E8F0FE;\n",
              "      border: none;\n",
              "      border-radius: 50%;\n",
              "      cursor: pointer;\n",
              "      display: none;\n",
              "      fill: #1967D2;\n",
              "      height: 32px;\n",
              "      padding: 0 0 0 0;\n",
              "      width: 32px;\n",
              "    }\n",
              "\n",
              "    .colab-df-convert:hover {\n",
              "      background-color: #E2EBFA;\n",
              "      box-shadow: 0px 1px 2px rgba(60, 64, 67, 0.3), 0px 1px 3px 1px rgba(60, 64, 67, 0.15);\n",
              "      fill: #174EA6;\n",
              "    }\n",
              "\n",
              "    [theme=dark] .colab-df-convert {\n",
              "      background-color: #3B4455;\n",
              "      fill: #D2E3FC;\n",
              "    }\n",
              "\n",
              "    [theme=dark] .colab-df-convert:hover {\n",
              "      background-color: #434B5C;\n",
              "      box-shadow: 0px 1px 3px 1px rgba(0, 0, 0, 0.15);\n",
              "      filter: drop-shadow(0px 1px 2px rgba(0, 0, 0, 0.3));\n",
              "      fill: #FFFFFF;\n",
              "    }\n",
              "  </style>\n",
              "\n",
              "      <script>\n",
              "        const buttonEl =\n",
              "          document.querySelector('#df-1f6c3b83-88f5-4efa-9fab-08bb010820b8 button.colab-df-convert');\n",
              "        buttonEl.style.display =\n",
              "          google.colab.kernel.accessAllowed ? 'block' : 'none';\n",
              "\n",
              "        async function convertToInteractive(key) {\n",
              "          const element = document.querySelector('#df-1f6c3b83-88f5-4efa-9fab-08bb010820b8');\n",
              "          const dataTable =\n",
              "            await google.colab.kernel.invokeFunction('convertToInteractive',\n",
              "                                                     [key], {});\n",
              "          if (!dataTable) return;\n",
              "\n",
              "          const docLinkHtml = 'Like what you see? Visit the ' +\n",
              "            '<a target=\"_blank\" href=https://colab.research.google.com/notebooks/data_table.ipynb>data table notebook</a>'\n",
              "            + ' to learn more about interactive tables.';\n",
              "          element.innerHTML = '';\n",
              "          dataTable['output_type'] = 'display_data';\n",
              "          await google.colab.output.renderOutput(dataTable, element);\n",
              "          const docLink = document.createElement('div');\n",
              "          docLink.innerHTML = docLinkHtml;\n",
              "          element.appendChild(docLink);\n",
              "        }\n",
              "      </script>\n",
              "    </div>\n",
              "  </div>\n",
              "  "
            ],
            "text/plain": [
              "    Episode  ...                                            cleaned\n",
              "0  20211024  ...  my dear countrymen,\\nnamaskar…namaskar a billi...\n",
              "1  20210926  ...  my dear countrymen,\\nnamaskar. you are aware t...\n",
              "2  20210829  ...  my dear countrymen, namaskar.\\nall of us know ...\n",
              "3  20210725  ...  my dear countrymen, namaskar. a few amazing pi...\n",
              "4  20210627  ...  my dear countrymen, namaskar.\\noften in mann k...\n",
              "\n",
              "[5 rows x 3 columns]"
            ]
          },
          "metadata": {},
          "execution_count": 103
        }
      ]
    },
    {
      "cell_type": "code",
      "metadata": {
        "colab": {
          "base_uri": "https://localhost:8080/"
        },
        "id": "PdTRXfcaOQKk",
        "outputId": "9e39cb09-1dfa-4865-a88a-90632902f0c9"
      },
      "source": [
        "\n",
        "Total_words = []\n",
        "Words_without_stop = []\n",
        "import nltk \n",
        "from nltk.corpus import stopwords\n",
        "from nltk.tokenize import word_tokenize\n",
        "nltk.download('stopwords')\n",
        "nltk.download('punkt')\n",
        "stop_words = set(stopwords.words('english'))\n",
        "for i in range(0,81):\n",
        "    total_words = 0\n",
        "    total_words_removed_stop = 0\n",
        "    word_tokens = word_tokenize(df2['Content'][i])\n",
        "\n",
        "    for w in word_tokens:\n",
        "        if w not in stop_words and w != \"ji\" and w != \"also\":\n",
        "            total_words_removed_stop += 1\n",
        "        total_words += 1\n",
        "    \n",
        "    Total_words.append(total_words)\n",
        "    Words_without_stop.append(total_words_removed_stop)"
      ],
      "execution_count": null,
      "outputs": [
        {
          "output_type": "stream",
          "name": "stdout",
          "text": [
            "[nltk_data] Downloading package stopwords to /root/nltk_data...\n",
            "[nltk_data]   Package stopwords is already up-to-date!\n",
            "[nltk_data] Downloading package punkt to /root/nltk_data...\n",
            "[nltk_data]   Package punkt is already up-to-date!\n"
          ]
        }
      ]
    },
    {
      "cell_type": "code",
      "metadata": {
        "id": "d9LD1K-LOwJD"
      },
      "source": [
        "df2['Total_words'] = Total_words\n",
        "df2['Words_without_stop'] = Words_without_stop"
      ],
      "execution_count": null,
      "outputs": []
    },
    {
      "cell_type": "code",
      "metadata": {
        "id": "mjnVo2VDPFzK"
      },
      "source": [
        "#removing Stop words using nltk\n",
        "from nltk.corpus import stopwords\n",
        "from nltk.tokenize import word_tokenize\n",
        "stop_words = set(stopwords.words('english'))\n",
        "def rem_stop(text):\n",
        "    word_tokens = word_tokenize(text)\n",
        "    res = []\n",
        "    for w in word_tokens:\n",
        "        if w not in stop_words and w != \"ji\" and w != \"also\":\n",
        "            res.append(w)\n",
        "    #print(type(res))      \n",
        "    str = \" \".join(res)\n",
        "    return str"
      ],
      "execution_count": null,
      "outputs": []
    },
    {
      "cell_type": "code",
      "metadata": {
        "id": "ZIiWGxzlPH1o"
      },
      "source": [
        "df2['cleaned'] = df2['cleaned'].apply(lambda x:rem_stop(x))"
      ],
      "execution_count": null,
      "outputs": []
    },
    {
      "cell_type": "code",
      "metadata": {
        "colab": {
          "base_uri": "https://localhost:8080/",
          "height": 361
        },
        "id": "5KelUJBsPJry",
        "outputId": "007c76bb-2865-451d-bab5-7a74e8ec45b9"
      },
      "source": [
        "df2.head()"
      ],
      "execution_count": null,
      "outputs": [
        {
          "output_type": "execute_result",
          "data": {
            "text/html": [
              "\n",
              "  <div id=\"df-eb51a46d-91df-42e3-b04b-5716a2ff03c9\">\n",
              "    <div class=\"colab-df-container\">\n",
              "      <div>\n",
              "<style scoped>\n",
              "    .dataframe tbody tr th:only-of-type {\n",
              "        vertical-align: middle;\n",
              "    }\n",
              "\n",
              "    .dataframe tbody tr th {\n",
              "        vertical-align: top;\n",
              "    }\n",
              "\n",
              "    .dataframe thead th {\n",
              "        text-align: right;\n",
              "    }\n",
              "</style>\n",
              "<table border=\"1\" class=\"dataframe\">\n",
              "  <thead>\n",
              "    <tr style=\"text-align: right;\">\n",
              "      <th></th>\n",
              "      <th>Episode</th>\n",
              "      <th>Content</th>\n",
              "      <th>cleaned</th>\n",
              "      <th>Total_words</th>\n",
              "      <th>Words_without_stop</th>\n",
              "    </tr>\n",
              "  </thead>\n",
              "  <tbody>\n",
              "    <tr>\n",
              "      <th>0</th>\n",
              "      <td>20211024</td>\n",
              "      <td>My dear countrymen,\\nNamaskar…namaskar a billi...</td>\n",
              "      <td>dear countrymen , namaskar…namaskar billion ti...</td>\n",
              "      <td>4904</td>\n",
              "      <td>2982</td>\n",
              "    </tr>\n",
              "    <tr>\n",
              "      <th>1</th>\n",
              "      <td>20210926</td>\n",
              "      <td>My dear countrymen,\\nNamaskar. You are aware t...</td>\n",
              "      <td>dear countrymen , namaskar . aware important p...</td>\n",
              "      <td>4265</td>\n",
              "      <td>2540</td>\n",
              "    </tr>\n",
              "    <tr>\n",
              "      <th>2</th>\n",
              "      <td>20210829</td>\n",
              "      <td>My dear countrymen, Namaskar.\\nAll of us know ...</td>\n",
              "      <td>dear countrymen , namaskar . us know today bir...</td>\n",
              "      <td>4577</td>\n",
              "      <td>2766</td>\n",
              "    </tr>\n",
              "    <tr>\n",
              "      <th>3</th>\n",
              "      <td>20210725</td>\n",
              "      <td>My dear countrymen, Namaskar. A few amazing pi...</td>\n",
              "      <td>dear countrymen , namaskar . amazing pictures ...</td>\n",
              "      <td>4510</td>\n",
              "      <td>2763</td>\n",
              "    </tr>\n",
              "    <tr>\n",
              "      <th>4</th>\n",
              "      <td>20210627</td>\n",
              "      <td>My dear countrymen, Namaskar.\\nOften in Mann K...</td>\n",
              "      <td>dear countrymen , namaskar . often mann ki baa...</td>\n",
              "      <td>5571</td>\n",
              "      <td>3417</td>\n",
              "    </tr>\n",
              "  </tbody>\n",
              "</table>\n",
              "</div>\n",
              "      <button class=\"colab-df-convert\" onclick=\"convertToInteractive('df-eb51a46d-91df-42e3-b04b-5716a2ff03c9')\"\n",
              "              title=\"Convert this dataframe to an interactive table.\"\n",
              "              style=\"display:none;\">\n",
              "        \n",
              "  <svg xmlns=\"http://www.w3.org/2000/svg\" height=\"24px\"viewBox=\"0 0 24 24\"\n",
              "       width=\"24px\">\n",
              "    <path d=\"M0 0h24v24H0V0z\" fill=\"none\"/>\n",
              "    <path d=\"M18.56 5.44l.94 2.06.94-2.06 2.06-.94-2.06-.94-.94-2.06-.94 2.06-2.06.94zm-11 1L8.5 8.5l.94-2.06 2.06-.94-2.06-.94L8.5 2.5l-.94 2.06-2.06.94zm10 10l.94 2.06.94-2.06 2.06-.94-2.06-.94-.94-2.06-.94 2.06-2.06.94z\"/><path d=\"M17.41 7.96l-1.37-1.37c-.4-.4-.92-.59-1.43-.59-.52 0-1.04.2-1.43.59L10.3 9.45l-7.72 7.72c-.78.78-.78 2.05 0 2.83L4 21.41c.39.39.9.59 1.41.59.51 0 1.02-.2 1.41-.59l7.78-7.78 2.81-2.81c.8-.78.8-2.07 0-2.86zM5.41 20L4 18.59l7.72-7.72 1.47 1.35L5.41 20z\"/>\n",
              "  </svg>\n",
              "      </button>\n",
              "      \n",
              "  <style>\n",
              "    .colab-df-container {\n",
              "      display:flex;\n",
              "      flex-wrap:wrap;\n",
              "      gap: 12px;\n",
              "    }\n",
              "\n",
              "    .colab-df-convert {\n",
              "      background-color: #E8F0FE;\n",
              "      border: none;\n",
              "      border-radius: 50%;\n",
              "      cursor: pointer;\n",
              "      display: none;\n",
              "      fill: #1967D2;\n",
              "      height: 32px;\n",
              "      padding: 0 0 0 0;\n",
              "      width: 32px;\n",
              "    }\n",
              "\n",
              "    .colab-df-convert:hover {\n",
              "      background-color: #E2EBFA;\n",
              "      box-shadow: 0px 1px 2px rgba(60, 64, 67, 0.3), 0px 1px 3px 1px rgba(60, 64, 67, 0.15);\n",
              "      fill: #174EA6;\n",
              "    }\n",
              "\n",
              "    [theme=dark] .colab-df-convert {\n",
              "      background-color: #3B4455;\n",
              "      fill: #D2E3FC;\n",
              "    }\n",
              "\n",
              "    [theme=dark] .colab-df-convert:hover {\n",
              "      background-color: #434B5C;\n",
              "      box-shadow: 0px 1px 3px 1px rgba(0, 0, 0, 0.15);\n",
              "      filter: drop-shadow(0px 1px 2px rgba(0, 0, 0, 0.3));\n",
              "      fill: #FFFFFF;\n",
              "    }\n",
              "  </style>\n",
              "\n",
              "      <script>\n",
              "        const buttonEl =\n",
              "          document.querySelector('#df-eb51a46d-91df-42e3-b04b-5716a2ff03c9 button.colab-df-convert');\n",
              "        buttonEl.style.display =\n",
              "          google.colab.kernel.accessAllowed ? 'block' : 'none';\n",
              "\n",
              "        async function convertToInteractive(key) {\n",
              "          const element = document.querySelector('#df-eb51a46d-91df-42e3-b04b-5716a2ff03c9');\n",
              "          const dataTable =\n",
              "            await google.colab.kernel.invokeFunction('convertToInteractive',\n",
              "                                                     [key], {});\n",
              "          if (!dataTable) return;\n",
              "\n",
              "          const docLinkHtml = 'Like what you see? Visit the ' +\n",
              "            '<a target=\"_blank\" href=https://colab.research.google.com/notebooks/data_table.ipynb>data table notebook</a>'\n",
              "            + ' to learn more about interactive tables.';\n",
              "          element.innerHTML = '';\n",
              "          dataTable['output_type'] = 'display_data';\n",
              "          await google.colab.output.renderOutput(dataTable, element);\n",
              "          const docLink = document.createElement('div');\n",
              "          docLink.innerHTML = docLinkHtml;\n",
              "          element.appendChild(docLink);\n",
              "        }\n",
              "      </script>\n",
              "    </div>\n",
              "  </div>\n",
              "  "
            ],
            "text/plain": [
              "    Episode  ... Words_without_stop\n",
              "0  20211024  ...               2982\n",
              "1  20210926  ...               2540\n",
              "2  20210829  ...               2766\n",
              "3  20210725  ...               2763\n",
              "4  20210627  ...               3417\n",
              "\n",
              "[5 rows x 5 columns]"
            ]
          },
          "metadata": {},
          "execution_count": 108
        }
      ]
    },
    {
      "cell_type": "code",
      "metadata": {
        "id": "EkECXVLOPLWW"
      },
      "source": [
        "df2 = df2.rename(columns = {'cleaned':'Cleaned_content'})"
      ],
      "execution_count": null,
      "outputs": []
    },
    {
      "cell_type": "code",
      "metadata": {
        "id": "OzNz2Ij3PQF8"
      },
      "source": [
        "yrs = []\n",
        "for i in range(0,81):\n",
        "    year = str(df2['Episode'][i])\n",
        "    yrs.append(year[:4])\n",
        "df2['Year'] = yrs"
      ],
      "execution_count": null,
      "outputs": []
    },
    {
      "cell_type": "code",
      "metadata": {
        "id": "GGUNill1PVXn"
      },
      "source": [
        "df2['Cleaned_content'] = df2['Cleaned_content'].apply(lambda x:re.sub(r'[^\\w]',' ',x))"
      ],
      "execution_count": null,
      "outputs": []
    },
    {
      "cell_type": "code",
      "metadata": {
        "id": "erdSt8MMPYRl"
      },
      "source": [
        "#Saving the cleaned MKB file\n",
        "#df2.to_csv('MKB.csv',index = False, encoding = 'utf-8')"
      ],
      "execution_count": null,
      "outputs": []
    },
    {
      "cell_type": "code",
      "metadata": {
        "id": "4gTFilQZPbdg"
      },
      "source": [
        ""
      ],
      "execution_count": null,
      "outputs": []
    },
    {
      "cell_type": "markdown",
      "metadata": {
        "id": "oaQ0_l75Pmtv"
      },
      "source": [
        "## Twitter Data"
      ]
    },
    {
      "cell_type": "code",
      "metadata": {
        "id": "gyElwH4gPpAc"
      },
      "source": [
        "#Tweets 48 contains the tweets for 48hrs after the MKB episode is released\n",
        "tweets48 = open('tweets48.json')\n",
        "data = json.loads(tweets48.read())\n",
        "df = pd.DataFrame.from_dict(data, orient='index')"
      ],
      "execution_count": null,
      "outputs": []
    },
    {
      "cell_type": "code",
      "metadata": {
        "id": "aZubZ-jKP8Zw"
      },
      "source": [
        ""
      ],
      "execution_count": null,
      "outputs": []
    },
    {
      "cell_type": "code",
      "metadata": {
        "colab": {
          "base_uri": "https://localhost:8080/"
        },
        "id": "8-yIAvq9QFLf",
        "outputId": "25a7ecfa-72ed-41d4-e4a0-3c0448cf0ff4"
      },
      "source": [
        "data['--']\n",
        "del data['--']\n",
        "dates = list(data.keys())\n",
        "dates"
      ],
      "execution_count": null,
      "outputs": [
        {
          "output_type": "execute_result",
          "data": {
            "text/plain": [
              "['2021-10-24',\n",
              " '2021-09-26',\n",
              " '2021-08-29',\n",
              " '2021-07-25',\n",
              " '2021-06-27',\n",
              " '2021-05-30',\n",
              " '2021-04-25',\n",
              " '2021-03-28',\n",
              " '2021-02-28',\n",
              " '2021-01-31',\n",
              " '2020-12-27',\n",
              " '2020-11-29',\n",
              " '2020-10-25',\n",
              " '2020-09-27',\n",
              " '2020-08-30',\n",
              " '2020-07-26',\n",
              " '2020-06-28',\n",
              " '2020-05-31',\n",
              " '2020-04-26',\n",
              " '2020-03-29',\n",
              " '2020-02-23',\n",
              " '2020-01-26',\n",
              " '2019-12-29',\n",
              " '2019-11-24',\n",
              " '2019-10-27',\n",
              " '2019-09-29',\n",
              " '2019-08-25',\n",
              " '2019-07-28',\n",
              " '2019-06-30',\n",
              " '2019-02-24',\n",
              " '2019-01-27',\n",
              " '2018-12-30',\n",
              " '2018-11-25',\n",
              " '2018-10-28',\n",
              " '2018-09-30',\n",
              " '2018-08-26',\n",
              " '2018-07-29',\n",
              " '2018-06-24',\n",
              " '2018-05-27',\n",
              " '2018-04-29',\n",
              " '2018-03-25',\n",
              " '2018-02-25',\n",
              " '2018-01-28',\n",
              " '2017-12-31',\n",
              " '2017-10-29',\n",
              " '2017-09-24',\n",
              " '2017-08-27',\n",
              " '2017-07-30',\n",
              " '2017-06-25',\n",
              " '2017-05-28',\n",
              " '2017-04-30',\n",
              " '2017-03-26',\n",
              " '2017-02-26',\n",
              " '2017-01-29',\n",
              " '2016-12-25',\n",
              " '2016-11-27',\n",
              " '2016-10-30',\n",
              " '2016-09-25',\n",
              " '2016-08-28',\n",
              " '2016-07-31',\n",
              " '2016-06-26',\n",
              " '2016-05-22',\n",
              " '2016-04-24',\n",
              " '2016-03-27',\n",
              " '2016-02-28',\n",
              " '2016-01-31',\n",
              " '2015-12-27',\n",
              " '2015-11-29',\n",
              " '2015-10-25',\n",
              " '2015-09-20',\n",
              " '2015-08-30',\n",
              " '2015-07-26',\n",
              " '2015-06-28',\n",
              " '2015-05-31',\n",
              " '2015-04-26',\n",
              " '2015-03-22',\n",
              " '2015-02-22',\n",
              " '2015-01-27',\n",
              " '2014-12-14',\n",
              " '2014-11-02',\n",
              " '2014-10-03']"
            ]
          },
          "metadata": {},
          "execution_count": 114
        }
      ]
    },
    {
      "cell_type": "code",
      "metadata": {
        "id": "HH7ns6ZdQL1A"
      },
      "source": [
        "dfs = {}\n",
        "for i in dates:\n",
        "  df = pd.DataFrame.from_dict(data[i], orient='index')\n",
        "  ids = []\n",
        "  epi_dates = []\n",
        "  for j, r in df.iterrows():\n",
        "    ids.append(r.name)\n",
        "    epi_dates.append(i)\n",
        "  df['id'] = ids\n",
        "  df['date'] = epi_dates\n",
        "  df.columns = ['content', 'id', 'date']\n",
        "  dfs[i] = df"
      ],
      "execution_count": null,
      "outputs": []
    },
    {
      "cell_type": "code",
      "metadata": {
        "colab": {
          "base_uri": "https://localhost:8080/",
          "height": 448
        },
        "id": "WcRum6tNQYyX",
        "outputId": "cfd59695-1ff3-4d05-f61d-3044a17bbcc8"
      },
      "source": [
        "dfs[dates[12]]"
      ],
      "execution_count": null,
      "outputs": [
        {
          "output_type": "execute_result",
          "data": {
            "text/html": [
              "\n",
              "  <div id=\"df-ef484cb3-593c-4cd1-a972-3ea62c8ba7fe\">\n",
              "    <div class=\"colab-df-container\">\n",
              "      <div>\n",
              "<style scoped>\n",
              "    .dataframe tbody tr th:only-of-type {\n",
              "        vertical-align: middle;\n",
              "    }\n",
              "\n",
              "    .dataframe tbody tr th {\n",
              "        vertical-align: top;\n",
              "    }\n",
              "\n",
              "    .dataframe thead th {\n",
              "        text-align: right;\n",
              "    }\n",
              "</style>\n",
              "<table border=\"1\" class=\"dataframe\">\n",
              "  <thead>\n",
              "    <tr style=\"text-align: right;\">\n",
              "      <th></th>\n",
              "      <th>content</th>\n",
              "      <th>id</th>\n",
              "      <th>date</th>\n",
              "    </tr>\n",
              "  </thead>\n",
              "  <tbody>\n",
              "    <tr>\n",
              "      <th>1320875135973273600</th>\n",
              "      <td>@narendramodi It should be changed from #mannk...</td>\n",
              "      <td>1320875135973273600</td>\n",
              "      <td>2020-10-25</td>\n",
              "    </tr>\n",
              "    <tr>\n",
              "      <th>1320840069209489408</th>\n",
              "      <td>#MannKiBaat</td>\n",
              "      <td>1320840069209489408</td>\n",
              "      <td>2020-10-25</td>\n",
              "    </tr>\n",
              "    <tr>\n",
              "      <th>1320834383515963398</th>\n",
              "      <td>When are proud of our heritage, the world take...</td>\n",
              "      <td>1320834383515963398</td>\n",
              "      <td>2020-10-25</td>\n",
              "    </tr>\n",
              "    <tr>\n",
              "      <th>1320834213319376896</th>\n",
              "      <td>During #MannKiBaat today, we will know about a...</td>\n",
              "      <td>1320834213319376896</td>\n",
              "      <td>2020-10-25</td>\n",
              "    </tr>\n",
              "    <tr>\n",
              "      <th>1320826331320389632</th>\n",
              "      <td>Unskippable YouTube ads make me think if the v...</td>\n",
              "      <td>1320826331320389632</td>\n",
              "      <td>2020-10-25</td>\n",
              "    </tr>\n",
              "    <tr>\n",
              "      <th>...</th>\n",
              "      <td>...</td>\n",
              "      <td>...</td>\n",
              "      <td>...</td>\n",
              "    </tr>\n",
              "    <tr>\n",
              "      <th>1320362534789173249</th>\n",
              "      <td>¿Cómo se vincula un lugar de México con Khadi?...</td>\n",
              "      <td>1320362534789173249</td>\n",
              "      <td>2020-10-25</td>\n",
              "    </tr>\n",
              "    <tr>\n",
              "      <th>1320362327942688774</th>\n",
              "      <td>திரையரங்குகள் எப்போது திறக்கப்படும் ? முதல்வர்...</td>\n",
              "      <td>1320362327942688774</td>\n",
              "      <td>2020-10-25</td>\n",
              "    </tr>\n",
              "    <tr>\n",
              "      <th>1320362229192036353</th>\n",
              "      <td>J-K’s Pulwama helps make country self-reliant ...</td>\n",
              "      <td>1320362229192036353</td>\n",
              "      <td>2020-10-25</td>\n",
              "    </tr>\n",
              "    <tr>\n",
              "      <th>1320361666320592896</th>\n",
              "      <td>#MannKiBaat is that we want our own #ancientun...</td>\n",
              "      <td>1320361666320592896</td>\n",
              "      <td>2020-10-25</td>\n",
              "    </tr>\n",
              "    <tr>\n",
              "      <th>1320361621152174080</th>\n",
              "      <td>#MannKiBaat https://t.co/JkcPVvBY54</td>\n",
              "      <td>1320361621152174080</td>\n",
              "      <td>2020-10-25</td>\n",
              "    </tr>\n",
              "  </tbody>\n",
              "</table>\n",
              "<p>2001 rows × 3 columns</p>\n",
              "</div>\n",
              "      <button class=\"colab-df-convert\" onclick=\"convertToInteractive('df-ef484cb3-593c-4cd1-a972-3ea62c8ba7fe')\"\n",
              "              title=\"Convert this dataframe to an interactive table.\"\n",
              "              style=\"display:none;\">\n",
              "        \n",
              "  <svg xmlns=\"http://www.w3.org/2000/svg\" height=\"24px\"viewBox=\"0 0 24 24\"\n",
              "       width=\"24px\">\n",
              "    <path d=\"M0 0h24v24H0V0z\" fill=\"none\"/>\n",
              "    <path d=\"M18.56 5.44l.94 2.06.94-2.06 2.06-.94-2.06-.94-.94-2.06-.94 2.06-2.06.94zm-11 1L8.5 8.5l.94-2.06 2.06-.94-2.06-.94L8.5 2.5l-.94 2.06-2.06.94zm10 10l.94 2.06.94-2.06 2.06-.94-2.06-.94-.94-2.06-.94 2.06-2.06.94z\"/><path d=\"M17.41 7.96l-1.37-1.37c-.4-.4-.92-.59-1.43-.59-.52 0-1.04.2-1.43.59L10.3 9.45l-7.72 7.72c-.78.78-.78 2.05 0 2.83L4 21.41c.39.39.9.59 1.41.59.51 0 1.02-.2 1.41-.59l7.78-7.78 2.81-2.81c.8-.78.8-2.07 0-2.86zM5.41 20L4 18.59l7.72-7.72 1.47 1.35L5.41 20z\"/>\n",
              "  </svg>\n",
              "      </button>\n",
              "      \n",
              "  <style>\n",
              "    .colab-df-container {\n",
              "      display:flex;\n",
              "      flex-wrap:wrap;\n",
              "      gap: 12px;\n",
              "    }\n",
              "\n",
              "    .colab-df-convert {\n",
              "      background-color: #E8F0FE;\n",
              "      border: none;\n",
              "      border-radius: 50%;\n",
              "      cursor: pointer;\n",
              "      display: none;\n",
              "      fill: #1967D2;\n",
              "      height: 32px;\n",
              "      padding: 0 0 0 0;\n",
              "      width: 32px;\n",
              "    }\n",
              "\n",
              "    .colab-df-convert:hover {\n",
              "      background-color: #E2EBFA;\n",
              "      box-shadow: 0px 1px 2px rgba(60, 64, 67, 0.3), 0px 1px 3px 1px rgba(60, 64, 67, 0.15);\n",
              "      fill: #174EA6;\n",
              "    }\n",
              "\n",
              "    [theme=dark] .colab-df-convert {\n",
              "      background-color: #3B4455;\n",
              "      fill: #D2E3FC;\n",
              "    }\n",
              "\n",
              "    [theme=dark] .colab-df-convert:hover {\n",
              "      background-color: #434B5C;\n",
              "      box-shadow: 0px 1px 3px 1px rgba(0, 0, 0, 0.15);\n",
              "      filter: drop-shadow(0px 1px 2px rgba(0, 0, 0, 0.3));\n",
              "      fill: #FFFFFF;\n",
              "    }\n",
              "  </style>\n",
              "\n",
              "      <script>\n",
              "        const buttonEl =\n",
              "          document.querySelector('#df-ef484cb3-593c-4cd1-a972-3ea62c8ba7fe button.colab-df-convert');\n",
              "        buttonEl.style.display =\n",
              "          google.colab.kernel.accessAllowed ? 'block' : 'none';\n",
              "\n",
              "        async function convertToInteractive(key) {\n",
              "          const element = document.querySelector('#df-ef484cb3-593c-4cd1-a972-3ea62c8ba7fe');\n",
              "          const dataTable =\n",
              "            await google.colab.kernel.invokeFunction('convertToInteractive',\n",
              "                                                     [key], {});\n",
              "          if (!dataTable) return;\n",
              "\n",
              "          const docLinkHtml = 'Like what you see? Visit the ' +\n",
              "            '<a target=\"_blank\" href=https://colab.research.google.com/notebooks/data_table.ipynb>data table notebook</a>'\n",
              "            + ' to learn more about interactive tables.';\n",
              "          element.innerHTML = '';\n",
              "          dataTable['output_type'] = 'display_data';\n",
              "          await google.colab.output.renderOutput(dataTable, element);\n",
              "          const docLink = document.createElement('div');\n",
              "          docLink.innerHTML = docLinkHtml;\n",
              "          element.appendChild(docLink);\n",
              "        }\n",
              "      </script>\n",
              "    </div>\n",
              "  </div>\n",
              "  "
            ],
            "text/plain": [
              "                                                               content  ...        date\n",
              "1320875135973273600  @narendramodi It should be changed from #mannk...  ...  2020-10-25\n",
              "1320840069209489408                                        #MannKiBaat  ...  2020-10-25\n",
              "1320834383515963398  When are proud of our heritage, the world take...  ...  2020-10-25\n",
              "1320834213319376896  During #MannKiBaat today, we will know about a...  ...  2020-10-25\n",
              "1320826331320389632  Unskippable YouTube ads make me think if the v...  ...  2020-10-25\n",
              "...                                                                ...  ...         ...\n",
              "1320362534789173249  ¿Cómo se vincula un lugar de México con Khadi?...  ...  2020-10-25\n",
              "1320362327942688774  திரையரங்குகள் எப்போது திறக்கப்படும் ? முதல்வர்...  ...  2020-10-25\n",
              "1320362229192036353  J-K’s Pulwama helps make country self-reliant ...  ...  2020-10-25\n",
              "1320361666320592896  #MannKiBaat is that we want our own #ancientun...  ...  2020-10-25\n",
              "1320361621152174080                #MannKiBaat https://t.co/JkcPVvBY54  ...  2020-10-25\n",
              "\n",
              "[2001 rows x 3 columns]"
            ]
          },
          "metadata": {},
          "execution_count": 116
        }
      ]
    },
    {
      "cell_type": "code",
      "metadata": {
        "id": "kw5nCJ_eQ5J3"
      },
      "source": [
        "big_df = dfs[dates[0]]\n",
        "for i in range(1, len(dates)):\n",
        "  big_df = big_df.append(dfs[dates[i]])"
      ],
      "execution_count": null,
      "outputs": []
    },
    {
      "cell_type": "code",
      "metadata": {
        "colab": {
          "base_uri": "https://localhost:8080/",
          "height": 448
        },
        "id": "wodSrqFMQ7_0",
        "outputId": "7908a3e0-9568-4e85-aa72-fbfc11c888cf"
      },
      "source": [
        "big_df = big_df[['id', 'date', 'content']]\n",
        "big_df"
      ],
      "execution_count": null,
      "outputs": [
        {
          "output_type": "execute_result",
          "data": {
            "text/html": [
              "\n",
              "  <div id=\"df-447e5a79-d216-4a22-9727-ede44cc14b31\">\n",
              "    <div class=\"colab-df-container\">\n",
              "      <div>\n",
              "<style scoped>\n",
              "    .dataframe tbody tr th:only-of-type {\n",
              "        vertical-align: middle;\n",
              "    }\n",
              "\n",
              "    .dataframe tbody tr th {\n",
              "        vertical-align: top;\n",
              "    }\n",
              "\n",
              "    .dataframe thead th {\n",
              "        text-align: right;\n",
              "    }\n",
              "</style>\n",
              "<table border=\"1\" class=\"dataframe\">\n",
              "  <thead>\n",
              "    <tr style=\"text-align: right;\">\n",
              "      <th></th>\n",
              "      <th>id</th>\n",
              "      <th>date</th>\n",
              "      <th>content</th>\n",
              "    </tr>\n",
              "  </thead>\n",
              "  <tbody>\n",
              "    <tr>\n",
              "      <th>1452749734716661762</th>\n",
              "      <td>1452749734716661762</td>\n",
              "      <td>2021-10-24</td>\n",
              "      <td>#Mannkibaat\\n\\nvia NaMo App</td>\n",
              "    </tr>\n",
              "    <tr>\n",
              "      <th>1452725732002697219</th>\n",
              "      <td>1452725732002697219</td>\n",
              "      <td>2021-10-24</td>\n",
              "      <td>#MannKiBaat #PMModi #MyGovIndia Those who do n...</td>\n",
              "    </tr>\n",
              "    <tr>\n",
              "      <th>1452720861367078912</th>\n",
              "      <td>1452720861367078912</td>\n",
              "      <td>2021-10-24</td>\n",
              "      <td>आप local खरीदेंगे तो आपका त्योहार भी रोशन होगा...</td>\n",
              "    </tr>\n",
              "    <tr>\n",
              "      <th>1452720388371357699</th>\n",
              "      <td>1452720388371357699</td>\n",
              "      <td>2021-10-24</td>\n",
              "      <td>@javedmansari @LangaMahesh Nobody in BJP would...</td>\n",
              "    </tr>\n",
              "    <tr>\n",
              "      <th>1452713887451607044</th>\n",
              "      <td>1452713887451607044</td>\n",
              "      <td>2021-10-24</td>\n",
              "      <td>Listened to our Hon PM Shri.@narendramodi ji’s...</td>\n",
              "    </tr>\n",
              "    <tr>\n",
              "      <th>...</th>\n",
              "      <td>...</td>\n",
              "      <td>...</td>\n",
              "      <td>...</td>\n",
              "    </tr>\n",
              "    <tr>\n",
              "      <th>517902912857460737</th>\n",
              "      <td>517902912857460737</td>\n",
              "      <td>2014-10-03</td>\n",
              "      <td>The 1.25 billion population will get to hear M...</td>\n",
              "    </tr>\n",
              "    <tr>\n",
              "      <th>517900645626421248</th>\n",
              "      <td>517900645626421248</td>\n",
              "      <td>2014-10-03</td>\n",
              "      <td>Live Streaming #NarendraModi’s Speech- #MannKi...</td>\n",
              "    </tr>\n",
              "    <tr>\n",
              "      <th>517900128561004544</th>\n",
              "      <td>517900128561004544</td>\n",
              "      <td>2014-10-03</td>\n",
              "      <td>RJ #NaMo #MannKiBaat @airnewsalerts</td>\n",
              "    </tr>\n",
              "    <tr>\n",
              "      <th>517881722302513152</th>\n",
              "      <td>517881722302513152</td>\n",
              "      <td>2014-10-03</td>\n",
              "      <td>Listen to #Mannkibaat at 11am on #94.3MYFM all...</td>\n",
              "    </tr>\n",
              "    <tr>\n",
              "      <th>517876236585304064</th>\n",
              "      <td>517876236585304064</td>\n",
              "      <td>2014-10-03</td>\n",
              "      <td>#mannkibaat humare prime minister Narendra Mod...</td>\n",
              "    </tr>\n",
              "  </tbody>\n",
              "</table>\n",
              "<p>160188 rows × 3 columns</p>\n",
              "</div>\n",
              "      <button class=\"colab-df-convert\" onclick=\"convertToInteractive('df-447e5a79-d216-4a22-9727-ede44cc14b31')\"\n",
              "              title=\"Convert this dataframe to an interactive table.\"\n",
              "              style=\"display:none;\">\n",
              "        \n",
              "  <svg xmlns=\"http://www.w3.org/2000/svg\" height=\"24px\"viewBox=\"0 0 24 24\"\n",
              "       width=\"24px\">\n",
              "    <path d=\"M0 0h24v24H0V0z\" fill=\"none\"/>\n",
              "    <path d=\"M18.56 5.44l.94 2.06.94-2.06 2.06-.94-2.06-.94-.94-2.06-.94 2.06-2.06.94zm-11 1L8.5 8.5l.94-2.06 2.06-.94-2.06-.94L8.5 2.5l-.94 2.06-2.06.94zm10 10l.94 2.06.94-2.06 2.06-.94-2.06-.94-.94-2.06-.94 2.06-2.06.94z\"/><path d=\"M17.41 7.96l-1.37-1.37c-.4-.4-.92-.59-1.43-.59-.52 0-1.04.2-1.43.59L10.3 9.45l-7.72 7.72c-.78.78-.78 2.05 0 2.83L4 21.41c.39.39.9.59 1.41.59.51 0 1.02-.2 1.41-.59l7.78-7.78 2.81-2.81c.8-.78.8-2.07 0-2.86zM5.41 20L4 18.59l7.72-7.72 1.47 1.35L5.41 20z\"/>\n",
              "  </svg>\n",
              "      </button>\n",
              "      \n",
              "  <style>\n",
              "    .colab-df-container {\n",
              "      display:flex;\n",
              "      flex-wrap:wrap;\n",
              "      gap: 12px;\n",
              "    }\n",
              "\n",
              "    .colab-df-convert {\n",
              "      background-color: #E8F0FE;\n",
              "      border: none;\n",
              "      border-radius: 50%;\n",
              "      cursor: pointer;\n",
              "      display: none;\n",
              "      fill: #1967D2;\n",
              "      height: 32px;\n",
              "      padding: 0 0 0 0;\n",
              "      width: 32px;\n",
              "    }\n",
              "\n",
              "    .colab-df-convert:hover {\n",
              "      background-color: #E2EBFA;\n",
              "      box-shadow: 0px 1px 2px rgba(60, 64, 67, 0.3), 0px 1px 3px 1px rgba(60, 64, 67, 0.15);\n",
              "      fill: #174EA6;\n",
              "    }\n",
              "\n",
              "    [theme=dark] .colab-df-convert {\n",
              "      background-color: #3B4455;\n",
              "      fill: #D2E3FC;\n",
              "    }\n",
              "\n",
              "    [theme=dark] .colab-df-convert:hover {\n",
              "      background-color: #434B5C;\n",
              "      box-shadow: 0px 1px 3px 1px rgba(0, 0, 0, 0.15);\n",
              "      filter: drop-shadow(0px 1px 2px rgba(0, 0, 0, 0.3));\n",
              "      fill: #FFFFFF;\n",
              "    }\n",
              "  </style>\n",
              "\n",
              "      <script>\n",
              "        const buttonEl =\n",
              "          document.querySelector('#df-447e5a79-d216-4a22-9727-ede44cc14b31 button.colab-df-convert');\n",
              "        buttonEl.style.display =\n",
              "          google.colab.kernel.accessAllowed ? 'block' : 'none';\n",
              "\n",
              "        async function convertToInteractive(key) {\n",
              "          const element = document.querySelector('#df-447e5a79-d216-4a22-9727-ede44cc14b31');\n",
              "          const dataTable =\n",
              "            await google.colab.kernel.invokeFunction('convertToInteractive',\n",
              "                                                     [key], {});\n",
              "          if (!dataTable) return;\n",
              "\n",
              "          const docLinkHtml = 'Like what you see? Visit the ' +\n",
              "            '<a target=\"_blank\" href=https://colab.research.google.com/notebooks/data_table.ipynb>data table notebook</a>'\n",
              "            + ' to learn more about interactive tables.';\n",
              "          element.innerHTML = '';\n",
              "          dataTable['output_type'] = 'display_data';\n",
              "          await google.colab.output.renderOutput(dataTable, element);\n",
              "          const docLink = document.createElement('div');\n",
              "          docLink.innerHTML = docLinkHtml;\n",
              "          element.appendChild(docLink);\n",
              "        }\n",
              "      </script>\n",
              "    </div>\n",
              "  </div>\n",
              "  "
            ],
            "text/plain": [
              "                                      id  ...                                            content\n",
              "1452749734716661762  1452749734716661762  ...                        #Mannkibaat\\n\\nvia NaMo App\n",
              "1452725732002697219  1452725732002697219  ...  #MannKiBaat #PMModi #MyGovIndia Those who do n...\n",
              "1452720861367078912  1452720861367078912  ...  आप local खरीदेंगे तो आपका त्योहार भी रोशन होगा...\n",
              "1452720388371357699  1452720388371357699  ...  @javedmansari @LangaMahesh Nobody in BJP would...\n",
              "1452713887451607044  1452713887451607044  ...  Listened to our Hon PM Shri.@narendramodi ji’s...\n",
              "...                                  ...  ...                                                ...\n",
              "517902912857460737    517902912857460737  ...  The 1.25 billion population will get to hear M...\n",
              "517900645626421248    517900645626421248  ...  Live Streaming #NarendraModi’s Speech- #MannKi...\n",
              "517900128561004544    517900128561004544  ...                RJ #NaMo #MannKiBaat @airnewsalerts\n",
              "517881722302513152    517881722302513152  ...  Listen to #Mannkibaat at 11am on #94.3MYFM all...\n",
              "517876236585304064    517876236585304064  ...  #mannkibaat humare prime minister Narendra Mod...\n",
              "\n",
              "[160188 rows x 3 columns]"
            ]
          },
          "metadata": {},
          "execution_count": 118
        }
      ]
    },
    {
      "cell_type": "code",
      "metadata": {
        "id": "Tyq_u9UZRATV"
      },
      "source": [
        "#big_df.to_csv('twitter48.csv', index=False, encoding='utf8')"
      ],
      "execution_count": null,
      "outputs": []
    },
    {
      "cell_type": "code",
      "metadata": {
        "id": "xvweJL0XRZUb",
        "colab": {
          "base_uri": "https://localhost:8080/"
        },
        "outputId": "3178cbd7-2944-4110-e9d5-9e6d192f3917"
      },
      "source": [
        "## Cleaning\n",
        "## cleaner and etl_twitter are python script files, for cleaning data. Uses the same procedure as MKB along with additional cleanup\n",
        "## such as Hashtag and mention removals \n",
        "!wget https://raw.githubusercontent.com/tezz-io/ds_lab/main/Code/scripts/cleaner.py\n",
        "!wget https://raw.githubusercontent.com/tezz-io/ds_lab/main/Code/scripts/etl_twitter.py\n",
        "from cleaner import clean_df\n",
        "from etl_twitter import get_big_df\n",
        "import pandas as pd\n",
        "\n",
        "\n",
        "df = get_big_df('tweets48.json') \n",
        "\n",
        "df1 = clean_df(df, cols=['content'])\n",
        "\n",
        "df1.drop('content', 1, inplace=True)\n",
        "df1.rename({'cleaned_content': 'content'}, axis=1, inplace=True)\n",
        "df1.to_csv('cleaned_tweets48.csv')\n",
        "\n",
        "#df1.head()\n"
      ],
      "execution_count": null,
      "outputs": [
        {
          "output_type": "stream",
          "name": "stdout",
          "text": [
            "--2022-02-18 04:34:48--  https://raw.githubusercontent.com/tezz-io/ds_lab/main/Code/scripts/cleaner.py\n",
            "Resolving raw.githubusercontent.com (raw.githubusercontent.com)... 185.199.108.133, 185.199.109.133, 185.199.110.133, ...\n",
            "Connecting to raw.githubusercontent.com (raw.githubusercontent.com)|185.199.108.133|:443... connected.\n",
            "HTTP request sent, awaiting response... 200 OK\n",
            "Length: 4246 (4.1K) [text/plain]\n",
            "Saving to: ‘cleaner.py.2’\n",
            "\n",
            "\rcleaner.py.2          0%[                    ]       0  --.-KB/s               \rcleaner.py.2        100%[===================>]   4.15K  --.-KB/s    in 0s      \n",
            "\n",
            "2022-02-18 04:34:48 (41.4 MB/s) - ‘cleaner.py.2’ saved [4246/4246]\n",
            "\n",
            "--2022-02-18 04:34:48--  https://raw.githubusercontent.com/tezz-io/ds_lab/main/Code/scripts/etl_twitter.py\n",
            "Resolving raw.githubusercontent.com (raw.githubusercontent.com)... 185.199.108.133, 185.199.109.133, 185.199.110.133, ...\n",
            "Connecting to raw.githubusercontent.com (raw.githubusercontent.com)|185.199.108.133|:443... connected.\n",
            "HTTP request sent, awaiting response... 200 OK\n",
            "Length: 720 [text/plain]\n",
            "Saving to: ‘etl_twitter.py.2’\n",
            "\n",
            "etl_twitter.py.2    100%[===================>]     720  --.-KB/s    in 0s      \n",
            "\n",
            "2022-02-18 04:34:48 (48.6 MB/s) - ‘etl_twitter.py.2’ saved [720/720]\n",
            "\n"
          ]
        },
        {
          "output_type": "stream",
          "name": "stderr",
          "text": [
            "/usr/local/lib/python3.7/dist-packages/ipykernel_launcher.py:15: FutureWarning:\n",
            "\n",
            "In a future version of pandas all arguments of DataFrame.drop except for the argument 'labels' will be keyword-only\n",
            "\n"
          ]
        }
      ]
    },
    {
      "cell_type": "markdown",
      "metadata": {
        "id": "iONt0iICSPCt"
      },
      "source": [
        "# Visualizations"
      ]
    },
    {
      "cell_type": "markdown",
      "metadata": {
        "id": "SIbm1RfLSYN4"
      },
      "source": [
        "### MKB"
      ]
    },
    {
      "cell_type": "markdown",
      "metadata": {
        "id": "Mx9Oqa6Ol8vK"
      },
      "source": [
        "Word Frequency"
      ]
    },
    {
      "cell_type": "code",
      "metadata": {
        "id": "lkas08tYSXRW"
      },
      "source": [
        "import pandas as pd\n",
        "import matplotlib.pyplot as plt\n",
        "import nltk\n",
        "from sklearn.feature_extraction.text import CountVectorizer\n",
        "from wordcloud import WordCloud\n",
        "from textwrap import wrap\n",
        "import numpy as np\n",
        "import seaborn as sns"
      ],
      "execution_count": null,
      "outputs": []
    },
    {
      "cell_type": "code",
      "metadata": {
        "colab": {
          "base_uri": "https://localhost:8080/",
          "height": 449
        },
        "id": "FaqSDRklSf7I",
        "outputId": "dde8de92-1d69-4252-b00d-3d4a7b9897b7"
      },
      "source": [
        "df2 = pd.read_csv('MKB.csv')\n",
        "df2.head()"
      ],
      "execution_count": null,
      "outputs": [
        {
          "output_type": "execute_result",
          "data": {
            "text/html": [
              "\n",
              "  <div id=\"df-9f3a8d85-17d2-4a8b-8d94-46cf870feed2\">\n",
              "    <div class=\"colab-df-container\">\n",
              "      <div>\n",
              "<style scoped>\n",
              "    .dataframe tbody tr th:only-of-type {\n",
              "        vertical-align: middle;\n",
              "    }\n",
              "\n",
              "    .dataframe tbody tr th {\n",
              "        vertical-align: top;\n",
              "    }\n",
              "\n",
              "    .dataframe thead th {\n",
              "        text-align: right;\n",
              "    }\n",
              "</style>\n",
              "<table border=\"1\" class=\"dataframe\">\n",
              "  <thead>\n",
              "    <tr style=\"text-align: right;\">\n",
              "      <th></th>\n",
              "      <th>Episode</th>\n",
              "      <th>Content</th>\n",
              "      <th>Views</th>\n",
              "      <th>Likes</th>\n",
              "      <th>Dislikes</th>\n",
              "      <th>Cleaned_content</th>\n",
              "      <th>Total_words</th>\n",
              "      <th>Words_without_stop</th>\n",
              "      <th>Year</th>\n",
              "    </tr>\n",
              "  </thead>\n",
              "  <tbody>\n",
              "    <tr>\n",
              "      <th>0</th>\n",
              "      <td>20211024</td>\n",
              "      <td>My dear countrymen,\\nNamaskar…namaskar a billi...</td>\n",
              "      <td>24394</td>\n",
              "      <td>1799</td>\n",
              "      <td>627</td>\n",
              "      <td>dear countrymen namaskar namaskar billion time...</td>\n",
              "      <td>4904</td>\n",
              "      <td>3014</td>\n",
              "      <td>2021</td>\n",
              "    </tr>\n",
              "    <tr>\n",
              "      <th>1</th>\n",
              "      <td>20210926</td>\n",
              "      <td>My dear countrymen,\\nNamaskar. You are aware t...</td>\n",
              "      <td>22728</td>\n",
              "      <td>1310</td>\n",
              "      <td>490</td>\n",
              "      <td>dear countrymen namaskar aware important progr...</td>\n",
              "      <td>4266</td>\n",
              "      <td>2564</td>\n",
              "      <td>2021</td>\n",
              "    </tr>\n",
              "    <tr>\n",
              "      <th>2</th>\n",
              "      <td>20210829</td>\n",
              "      <td>My dear countrymen, Namaskar.\\nAll of us know ...</td>\n",
              "      <td>12047</td>\n",
              "      <td>416</td>\n",
              "      <td>1156</td>\n",
              "      <td>dear countrymen namaskar us know today birth a...</td>\n",
              "      <td>4579</td>\n",
              "      <td>2799</td>\n",
              "      <td>2021</td>\n",
              "    </tr>\n",
              "    <tr>\n",
              "      <th>3</th>\n",
              "      <td>20210725</td>\n",
              "      <td>My dear countrymen, Namaskar. A few amazing pi...</td>\n",
              "      <td>50659</td>\n",
              "      <td>2332</td>\n",
              "      <td>5577</td>\n",
              "      <td>dear countrymen namaskar amazing pictures take...</td>\n",
              "      <td>4510</td>\n",
              "      <td>2782</td>\n",
              "      <td>2021</td>\n",
              "    </tr>\n",
              "    <tr>\n",
              "      <th>4</th>\n",
              "      <td>20210627</td>\n",
              "      <td>My dear countrymen, Namaskar.\\nOften in Mann K...</td>\n",
              "      <td>71155</td>\n",
              "      <td>1828</td>\n",
              "      <td>11115</td>\n",
              "      <td>dear countrymen namaskar often mann ki baat vo...</td>\n",
              "      <td>5572</td>\n",
              "      <td>3451</td>\n",
              "      <td>2021</td>\n",
              "    </tr>\n",
              "  </tbody>\n",
              "</table>\n",
              "</div>\n",
              "      <button class=\"colab-df-convert\" onclick=\"convertToInteractive('df-9f3a8d85-17d2-4a8b-8d94-46cf870feed2')\"\n",
              "              title=\"Convert this dataframe to an interactive table.\"\n",
              "              style=\"display:none;\">\n",
              "        \n",
              "  <svg xmlns=\"http://www.w3.org/2000/svg\" height=\"24px\"viewBox=\"0 0 24 24\"\n",
              "       width=\"24px\">\n",
              "    <path d=\"M0 0h24v24H0V0z\" fill=\"none\"/>\n",
              "    <path d=\"M18.56 5.44l.94 2.06.94-2.06 2.06-.94-2.06-.94-.94-2.06-.94 2.06-2.06.94zm-11 1L8.5 8.5l.94-2.06 2.06-.94-2.06-.94L8.5 2.5l-.94 2.06-2.06.94zm10 10l.94 2.06.94-2.06 2.06-.94-2.06-.94-.94-2.06-.94 2.06-2.06.94z\"/><path d=\"M17.41 7.96l-1.37-1.37c-.4-.4-.92-.59-1.43-.59-.52 0-1.04.2-1.43.59L10.3 9.45l-7.72 7.72c-.78.78-.78 2.05 0 2.83L4 21.41c.39.39.9.59 1.41.59.51 0 1.02-.2 1.41-.59l7.78-7.78 2.81-2.81c.8-.78.8-2.07 0-2.86zM5.41 20L4 18.59l7.72-7.72 1.47 1.35L5.41 20z\"/>\n",
              "  </svg>\n",
              "      </button>\n",
              "      \n",
              "  <style>\n",
              "    .colab-df-container {\n",
              "      display:flex;\n",
              "      flex-wrap:wrap;\n",
              "      gap: 12px;\n",
              "    }\n",
              "\n",
              "    .colab-df-convert {\n",
              "      background-color: #E8F0FE;\n",
              "      border: none;\n",
              "      border-radius: 50%;\n",
              "      cursor: pointer;\n",
              "      display: none;\n",
              "      fill: #1967D2;\n",
              "      height: 32px;\n",
              "      padding: 0 0 0 0;\n",
              "      width: 32px;\n",
              "    }\n",
              "\n",
              "    .colab-df-convert:hover {\n",
              "      background-color: #E2EBFA;\n",
              "      box-shadow: 0px 1px 2px rgba(60, 64, 67, 0.3), 0px 1px 3px 1px rgba(60, 64, 67, 0.15);\n",
              "      fill: #174EA6;\n",
              "    }\n",
              "\n",
              "    [theme=dark] .colab-df-convert {\n",
              "      background-color: #3B4455;\n",
              "      fill: #D2E3FC;\n",
              "    }\n",
              "\n",
              "    [theme=dark] .colab-df-convert:hover {\n",
              "      background-color: #434B5C;\n",
              "      box-shadow: 0px 1px 3px 1px rgba(0, 0, 0, 0.15);\n",
              "      filter: drop-shadow(0px 1px 2px rgba(0, 0, 0, 0.3));\n",
              "      fill: #FFFFFF;\n",
              "    }\n",
              "  </style>\n",
              "\n",
              "      <script>\n",
              "        const buttonEl =\n",
              "          document.querySelector('#df-9f3a8d85-17d2-4a8b-8d94-46cf870feed2 button.colab-df-convert');\n",
              "        buttonEl.style.display =\n",
              "          google.colab.kernel.accessAllowed ? 'block' : 'none';\n",
              "\n",
              "        async function convertToInteractive(key) {\n",
              "          const element = document.querySelector('#df-9f3a8d85-17d2-4a8b-8d94-46cf870feed2');\n",
              "          const dataTable =\n",
              "            await google.colab.kernel.invokeFunction('convertToInteractive',\n",
              "                                                     [key], {});\n",
              "          if (!dataTable) return;\n",
              "\n",
              "          const docLinkHtml = 'Like what you see? Visit the ' +\n",
              "            '<a target=\"_blank\" href=https://colab.research.google.com/notebooks/data_table.ipynb>data table notebook</a>'\n",
              "            + ' to learn more about interactive tables.';\n",
              "          element.innerHTML = '';\n",
              "          dataTable['output_type'] = 'display_data';\n",
              "          await google.colab.output.renderOutput(dataTable, element);\n",
              "          const docLink = document.createElement('div');\n",
              "          docLink.innerHTML = docLinkHtml;\n",
              "          element.appendChild(docLink);\n",
              "        }\n",
              "      </script>\n",
              "    </div>\n",
              "  </div>\n",
              "  "
            ],
            "text/plain": [
              "    Episode  ...  Year\n",
              "0  20211024  ...  2021\n",
              "1  20210926  ...  2021\n",
              "2  20210829  ...  2021\n",
              "3  20210725  ...  2021\n",
              "4  20210627  ...  2021\n",
              "\n",
              "[5 rows x 9 columns]"
            ]
          },
          "metadata": {},
          "execution_count": 122
        }
      ]
    },
    {
      "cell_type": "code",
      "metadata": {
        "id": "hDgb5LDjSiov"
      },
      "source": [
        "all_text = \" \"\n",
        "\n",
        "for i in range(0,81):\n",
        "    all_text += df2['Cleaned_content'][i] + \" \""
      ],
      "execution_count": null,
      "outputs": []
    },
    {
      "cell_type": "code",
      "metadata": {
        "id": "jl3BYvw9Spo_"
      },
      "source": [
        "from nltk import FreqDist\n",
        "dist = FreqDist(x for x in all_text.split(' ') if x.isalnum())\n",
        "common_words = pd.DataFrame(dist.most_common(10), columns = ['Word', 'Frequency'])"
      ],
      "execution_count": null,
      "outputs": []
    },
    {
      "cell_type": "code",
      "metadata": {
        "id": "j5aIulUlSwTv"
      },
      "source": [
        "Top30 = dist.most_common(30)\n",
        "Top30_df = pd.DataFrame(Top30, columns = ['Word', 'Frequency'])\n",
        "#Top30_df.to_csv('Top30.csv', index = False)"
      ],
      "execution_count": null,
      "outputs": []
    },
    {
      "cell_type": "code",
      "metadata": {
        "colab": {
          "base_uri": "https://localhost:8080/",
          "height": 386
        },
        "id": "O8CBV_NOS0Zh",
        "outputId": "6ac55fc0-1f6c-43d7-ecbe-6f92ab5d3bad"
      },
      "source": [
        "common_words"
      ],
      "execution_count": null,
      "outputs": [
        {
          "output_type": "execute_result",
          "data": {
            "text/html": [
              "\n",
              "  <div id=\"df-68f20df6-b65f-4637-8418-14c0f375ffb2\">\n",
              "    <div class=\"colab-df-container\">\n",
              "      <div>\n",
              "<style scoped>\n",
              "    .dataframe tbody tr th:only-of-type {\n",
              "        vertical-align: middle;\n",
              "    }\n",
              "\n",
              "    .dataframe tbody tr th {\n",
              "        vertical-align: top;\n",
              "    }\n",
              "\n",
              "    .dataframe thead th {\n",
              "        text-align: right;\n",
              "    }\n",
              "</style>\n",
              "<table border=\"1\" class=\"dataframe\">\n",
              "  <thead>\n",
              "    <tr style=\"text-align: right;\">\n",
              "      <th></th>\n",
              "      <th>Word</th>\n",
              "      <th>Frequency</th>\n",
              "    </tr>\n",
              "  </thead>\n",
              "  <tbody>\n",
              "    <tr>\n",
              "      <th>0</th>\n",
              "      <td>people</td>\n",
              "      <td>1498</td>\n",
              "    </tr>\n",
              "    <tr>\n",
              "      <th>1</th>\n",
              "      <td>also</td>\n",
              "      <td>1387</td>\n",
              "    </tr>\n",
              "    <tr>\n",
              "      <th>2</th>\n",
              "      <td>india</td>\n",
              "      <td>1321</td>\n",
              "    </tr>\n",
              "    <tr>\n",
              "      <th>3</th>\n",
              "      <td>country</td>\n",
              "      <td>1245</td>\n",
              "    </tr>\n",
              "    <tr>\n",
              "      <th>4</th>\n",
              "      <td>one</td>\n",
              "      <td>1049</td>\n",
              "    </tr>\n",
              "    <tr>\n",
              "      <th>5</th>\n",
              "      <td>many</td>\n",
              "      <td>975</td>\n",
              "    </tr>\n",
              "    <tr>\n",
              "      <th>6</th>\n",
              "      <td>us</td>\n",
              "      <td>799</td>\n",
              "    </tr>\n",
              "    <tr>\n",
              "      <th>7</th>\n",
              "      <td>countrymen</td>\n",
              "      <td>746</td>\n",
              "    </tr>\n",
              "    <tr>\n",
              "      <th>8</th>\n",
              "      <td>time</td>\n",
              "      <td>731</td>\n",
              "    </tr>\n",
              "    <tr>\n",
              "      <th>9</th>\n",
              "      <td>new</td>\n",
              "      <td>726</td>\n",
              "    </tr>\n",
              "  </tbody>\n",
              "</table>\n",
              "</div>\n",
              "      <button class=\"colab-df-convert\" onclick=\"convertToInteractive('df-68f20df6-b65f-4637-8418-14c0f375ffb2')\"\n",
              "              title=\"Convert this dataframe to an interactive table.\"\n",
              "              style=\"display:none;\">\n",
              "        \n",
              "  <svg xmlns=\"http://www.w3.org/2000/svg\" height=\"24px\"viewBox=\"0 0 24 24\"\n",
              "       width=\"24px\">\n",
              "    <path d=\"M0 0h24v24H0V0z\" fill=\"none\"/>\n",
              "    <path d=\"M18.56 5.44l.94 2.06.94-2.06 2.06-.94-2.06-.94-.94-2.06-.94 2.06-2.06.94zm-11 1L8.5 8.5l.94-2.06 2.06-.94-2.06-.94L8.5 2.5l-.94 2.06-2.06.94zm10 10l.94 2.06.94-2.06 2.06-.94-2.06-.94-.94-2.06-.94 2.06-2.06.94z\"/><path d=\"M17.41 7.96l-1.37-1.37c-.4-.4-.92-.59-1.43-.59-.52 0-1.04.2-1.43.59L10.3 9.45l-7.72 7.72c-.78.78-.78 2.05 0 2.83L4 21.41c.39.39.9.59 1.41.59.51 0 1.02-.2 1.41-.59l7.78-7.78 2.81-2.81c.8-.78.8-2.07 0-2.86zM5.41 20L4 18.59l7.72-7.72 1.47 1.35L5.41 20z\"/>\n",
              "  </svg>\n",
              "      </button>\n",
              "      \n",
              "  <style>\n",
              "    .colab-df-container {\n",
              "      display:flex;\n",
              "      flex-wrap:wrap;\n",
              "      gap: 12px;\n",
              "    }\n",
              "\n",
              "    .colab-df-convert {\n",
              "      background-color: #E8F0FE;\n",
              "      border: none;\n",
              "      border-radius: 50%;\n",
              "      cursor: pointer;\n",
              "      display: none;\n",
              "      fill: #1967D2;\n",
              "      height: 32px;\n",
              "      padding: 0 0 0 0;\n",
              "      width: 32px;\n",
              "    }\n",
              "\n",
              "    .colab-df-convert:hover {\n",
              "      background-color: #E2EBFA;\n",
              "      box-shadow: 0px 1px 2px rgba(60, 64, 67, 0.3), 0px 1px 3px 1px rgba(60, 64, 67, 0.15);\n",
              "      fill: #174EA6;\n",
              "    }\n",
              "\n",
              "    [theme=dark] .colab-df-convert {\n",
              "      background-color: #3B4455;\n",
              "      fill: #D2E3FC;\n",
              "    }\n",
              "\n",
              "    [theme=dark] .colab-df-convert:hover {\n",
              "      background-color: #434B5C;\n",
              "      box-shadow: 0px 1px 3px 1px rgba(0, 0, 0, 0.15);\n",
              "      filter: drop-shadow(0px 1px 2px rgba(0, 0, 0, 0.3));\n",
              "      fill: #FFFFFF;\n",
              "    }\n",
              "  </style>\n",
              "\n",
              "      <script>\n",
              "        const buttonEl =\n",
              "          document.querySelector('#df-68f20df6-b65f-4637-8418-14c0f375ffb2 button.colab-df-convert');\n",
              "        buttonEl.style.display =\n",
              "          google.colab.kernel.accessAllowed ? 'block' : 'none';\n",
              "\n",
              "        async function convertToInteractive(key) {\n",
              "          const element = document.querySelector('#df-68f20df6-b65f-4637-8418-14c0f375ffb2');\n",
              "          const dataTable =\n",
              "            await google.colab.kernel.invokeFunction('convertToInteractive',\n",
              "                                                     [key], {});\n",
              "          if (!dataTable) return;\n",
              "\n",
              "          const docLinkHtml = 'Like what you see? Visit the ' +\n",
              "            '<a target=\"_blank\" href=https://colab.research.google.com/notebooks/data_table.ipynb>data table notebook</a>'\n",
              "            + ' to learn more about interactive tables.';\n",
              "          element.innerHTML = '';\n",
              "          dataTable['output_type'] = 'display_data';\n",
              "          await google.colab.output.renderOutput(dataTable, element);\n",
              "          const docLink = document.createElement('div');\n",
              "          docLink.innerHTML = docLinkHtml;\n",
              "          element.appendChild(docLink);\n",
              "        }\n",
              "      </script>\n",
              "    </div>\n",
              "  </div>\n",
              "  "
            ],
            "text/plain": [
              "         Word  Frequency\n",
              "0      people       1498\n",
              "1        also       1387\n",
              "2       india       1321\n",
              "3     country       1245\n",
              "4         one       1049\n",
              "5        many        975\n",
              "6          us        799\n",
              "7  countrymen        746\n",
              "8        time        731\n",
              "9         new        726"
            ]
          },
          "metadata": {},
          "execution_count": 126
        }
      ]
    },
    {
      "cell_type": "code",
      "metadata": {
        "colab": {
          "base_uri": "https://localhost:8080/",
          "height": 627
        },
        "id": "3OgZBdYoS2Ap",
        "outputId": "2eb8752d-de7b-4f00-bf64-4689c53c8767"
      },
      "source": [
        "plt.figure(figsize = (15,10))\n",
        "plt.bar(common_words['Word'],common_words['Frequency'])\n",
        "plt.title(\"Top 10 words\")\n",
        "plt.show()"
      ],
      "execution_count": null,
      "outputs": [
        {
          "output_type": "display_data",
          "data": {
            "image/png": "[encoded data removed]",
            "text/plain": [
              "<Figure size 1080x720 with 1 Axes>"
            ]
          },
          "metadata": {
            "needs_background": "light"
          }
        }
      ]
    },
    {
      "cell_type": "markdown",
      "metadata": {
        "id": "7gRq6mc4lxc-"
      },
      "source": [
        "POS Tagging"
      ]
    },
    {
      "cell_type": "code",
      "metadata": {
        "id": "oEgJ0y5RTUQL",
        "colab": {
          "base_uri": "https://localhost:8080/"
        },
        "outputId": "9dc6b520-8331-411b-f3cb-13c958e2a4a6"
      },
      "source": [
        "\n",
        "from textblob import TextBlob\n",
        "import pandas as pd\n",
        "\n",
        "df = pd.read_csv('MKB.csv')\n",
        "\n",
        "string = \"\"\n",
        "for i, r in df.iterrows():\n",
        "  string += r['Content'] + \" \" \n",
        "\n",
        "len(string)\n"
      ],
      "execution_count": null,
      "outputs": [
        {
          "output_type": "execute_result",
          "data": {
            "text/plain": [
              "1793455"
            ]
          },
          "metadata": {},
          "execution_count": 128
        }
      ]
    },
    {
      "cell_type": "code",
      "metadata": {
        "colab": {
          "base_uri": "https://localhost:8080/"
        },
        "id": "mUL7K9FglhMn",
        "outputId": "d62c5c40-4b99-439b-e074-c5287138c844"
      },
      "source": [
        "import nltk\n",
        "nltk.download('punkt')\n",
        "nltk.download('averaged_perceptron_tagger')\n",
        "\n",
        "blob = TextBlob(string)\n",
        "df1 = pd.DataFrame()\n",
        "words = []\n",
        "tags = []\n",
        "x = blob.tags\n",
        "for i in x:\n",
        "  words.append(i[0])\n",
        "  tags.append(i[1])\n",
        "\n",
        "df1['word'] = words\n",
        "df1['tag'] = tags"
      ],
      "execution_count": null,
      "outputs": [
        {
          "output_type": "stream",
          "name": "stdout",
          "text": [
            "[nltk_data] Downloading package punkt to /root/nltk_data...\n",
            "[nltk_data]   Package punkt is already up-to-date!\n",
            "[nltk_data] Downloading package averaged_perceptron_tagger to\n",
            "[nltk_data]     /root/nltk_data...\n",
            "[nltk_data]   Package averaged_perceptron_tagger is already up-to-\n",
            "[nltk_data]       date!\n"
          ]
        }
      ]
    },
    {
      "cell_type": "code",
      "metadata": {
        "colab": {
          "base_uri": "https://localhost:8080/",
          "height": 561
        },
        "id": "MK7EDQXalhHA",
        "outputId": "e816eb9b-5da1-4acc-8f3b-1e921d5ecfd2"
      },
      "source": [
        "df1.head()\n",
        "\n",
        "s1 = df1.groupby('tag')['word'].count().sort_values(ascending = False)\n",
        "s1.plot.bar(figsize=(20,10))"
      ],
      "execution_count": null,
      "outputs": [
        {
          "output_type": "execute_result",
          "data": {
            "text/plain": [
              "<matplotlib.axes._subplots.AxesSubplot at 0x7f1346049f50>"
            ]
          },
          "metadata": {},
          "execution_count": 130
        },
        {
          "output_type": "display_data",
          "data": {
            "image/png": "[encoded data removed]",
            "text/plain": [
              "<Figure size 1440x720 with 1 Axes>"
            ]
          },
          "metadata": {
            "needs_background": "light"
          }
        }
      ]
    },
    {
      "cell_type": "code",
      "metadata": {
        "id": "rlK6DWDclhC_"
      },
      "source": [
        ""
      ],
      "execution_count": null,
      "outputs": []
    },
    {
      "cell_type": "markdown",
      "metadata": {
        "id": "C_Ilvn4uTpas"
      },
      "source": [
        "### Twitter"
      ]
    },
    {
      "cell_type": "markdown",
      "metadata": {
        "id": "NX84sruUTuz2"
      },
      "source": [
        "Language Tagging"
      ]
    },
    {
      "cell_type": "code",
      "metadata": {
        "id": "kMKZdoF5TsCb"
      },
      "source": [
        "def get_big_df( file_name ):\n",
        "  file = open( file_name )\n",
        "  data = json.loads(file.read())\n",
        "  \n",
        "  df = pd.DataFrame.from_dict(data, orient='index')\n",
        "\n",
        "  df.head()\n",
        "\n",
        "  data['--']\n",
        "  del data['--']\n",
        "  dates = list(data.keys())\n",
        "\n",
        "  dfs = {}\n",
        "  for i in dates:\n",
        "    df = pd.DataFrame.from_dict(data[i], orient='index')\n",
        "    ids = []\n",
        "    epi_dates = []\n",
        "    for j, r in df.iterrows():\n",
        "      ids.append(r.name)\n",
        "      epi_dates.append(i)\n",
        "    df['id'] = ids\n",
        "    df['date'] = epi_dates\n",
        "    df.columns = ['content', 'id', 'date']\n",
        "    dfs[i] = df\n",
        "\n",
        "  big_df = dfs[dates[0]]\n",
        "  for i in range(1, len(dates)):\n",
        "    big_df = big_df.append(dfs[dates[i]])\n",
        "\n",
        "  big_df = big_df[['id', 'date', 'content']]\n",
        "  return big_df\n",
        "\n",
        "\n",
        "df=get_big_df('tweets48.json')\n",
        "\n"
      ],
      "execution_count": null,
      "outputs": []
    },
    {
      "cell_type": "code",
      "metadata": {
        "id": "xW2rRGTqTtfx"
      },
      "source": [
        "def get_info(tweet,prev_count):\n",
        "  hindi=prev_count[0]\n",
        "  english=prev_count[1]\n",
        "  hashtag=prev_count[2]\n",
        "  mention=prev_count[3]\n",
        "  for i in (tweet.split()):\n",
        "    if '#' in i:\n",
        "      prev_count[2]+=1\n",
        "    elif '@' in i:\n",
        "      prev_count[3]+=1\n",
        "    elif re.sub(r'[^a-zA-Z0-9]', '', i).isascii() and re.sub(r'[^a-zA-Z0-9]', '', i).isalnum(): #removes all non alphanumeric\n",
        "      prev_count[1]+=1\n",
        "    else:\n",
        "      prev_count[0]+=1\n",
        "    \n",
        "    \n",
        "    \n",
        "  #print(tweet.split())\n",
        "  return prev_count"
      ],
      "execution_count": null,
      "outputs": []
    },
    {
      "cell_type": "code",
      "metadata": {
        "id": "yPtDbpWEUMuI"
      },
      "source": [
        "\n",
        "\n",
        "df.iloc[0][2]\n",
        "df2=df\n",
        "\n"
      ],
      "execution_count": null,
      "outputs": []
    },
    {
      "cell_type": "code",
      "metadata": {
        "id": "O7GWmis7UBbE"
      },
      "source": [
        "mydict={}\n",
        "rows,cols=df2.shape\n",
        "\n",
        "for i in range(0,rows):\n",
        "  date=df2.iloc[i][1]\n",
        "  if date in mydict.keys():\n",
        "   \n",
        "    mydict[date]=get_info(df2.iloc[i][2],mydict[date])\n",
        "  else:\n",
        "    mydict[date]=[0,0,0,0]\n",
        "    mydict[date]=get_info(df2.iloc[i][2],mydict[date])"
      ],
      "execution_count": null,
      "outputs": []
    },
    {
      "cell_type": "code",
      "metadata": {
        "colab": {
          "base_uri": "https://localhost:8080/",
          "height": 448
        },
        "id": "pJwG_lQXUEjE",
        "outputId": "a0090396-3769-4022-8eb0-73060389bf2f"
      },
      "source": [
        "finaldf=pd.DataFrame.from_dict(mydict, orient='index',columns=['hindi','english','hash','mention'])\n",
        "finaldf"
      ],
      "execution_count": null,
      "outputs": [
        {
          "output_type": "execute_result",
          "data": {
            "text/html": [
              "\n",
              "  <div id=\"df-e6256007-45c5-4667-810b-7e298ade4131\">\n",
              "    <div class=\"colab-df-container\">\n",
              "      <div>\n",
              "<style scoped>\n",
              "    .dataframe tbody tr th:only-of-type {\n",
              "        vertical-align: middle;\n",
              "    }\n",
              "\n",
              "    .dataframe tbody tr th {\n",
              "        vertical-align: top;\n",
              "    }\n",
              "\n",
              "    .dataframe thead th {\n",
              "        text-align: right;\n",
              "    }\n",
              "</style>\n",
              "<table border=\"1\" class=\"dataframe\">\n",
              "  <thead>\n",
              "    <tr style=\"text-align: right;\">\n",
              "      <th></th>\n",
              "      <th>hindi</th>\n",
              "      <th>english</th>\n",
              "      <th>hash</th>\n",
              "      <th>mention</th>\n",
              "    </tr>\n",
              "  </thead>\n",
              "  <tbody>\n",
              "    <tr>\n",
              "      <th>2021-10-24</th>\n",
              "      <td>25457</td>\n",
              "      <td>18575</td>\n",
              "      <td>3417</td>\n",
              "      <td>2051</td>\n",
              "    </tr>\n",
              "    <tr>\n",
              "      <th>2021-09-26</th>\n",
              "      <td>14211</td>\n",
              "      <td>17479</td>\n",
              "      <td>2929</td>\n",
              "      <td>1164</td>\n",
              "    </tr>\n",
              "    <tr>\n",
              "      <th>2021-08-29</th>\n",
              "      <td>13494</td>\n",
              "      <td>20779</td>\n",
              "      <td>3629</td>\n",
              "      <td>2066</td>\n",
              "    </tr>\n",
              "    <tr>\n",
              "      <th>2021-07-25</th>\n",
              "      <td>10099</td>\n",
              "      <td>24819</td>\n",
              "      <td>2952</td>\n",
              "      <td>3182</td>\n",
              "    </tr>\n",
              "    <tr>\n",
              "      <th>2021-06-27</th>\n",
              "      <td>18512</td>\n",
              "      <td>20848</td>\n",
              "      <td>3787</td>\n",
              "      <td>2920</td>\n",
              "    </tr>\n",
              "    <tr>\n",
              "      <th>...</th>\n",
              "      <td>...</td>\n",
              "      <td>...</td>\n",
              "      <td>...</td>\n",
              "      <td>...</td>\n",
              "    </tr>\n",
              "    <tr>\n",
              "      <th>2015-02-22</th>\n",
              "      <td>10482</td>\n",
              "      <td>19520</td>\n",
              "      <td>3297</td>\n",
              "      <td>1043</td>\n",
              "    </tr>\n",
              "    <tr>\n",
              "      <th>2015-01-27</th>\n",
              "      <td>4267</td>\n",
              "      <td>21958</td>\n",
              "      <td>3747</td>\n",
              "      <td>1202</td>\n",
              "    </tr>\n",
              "    <tr>\n",
              "      <th>2014-12-14</th>\n",
              "      <td>8181</td>\n",
              "      <td>19621</td>\n",
              "      <td>4308</td>\n",
              "      <td>1069</td>\n",
              "    </tr>\n",
              "    <tr>\n",
              "      <th>2014-11-02</th>\n",
              "      <td>7116</td>\n",
              "      <td>21972</td>\n",
              "      <td>3475</td>\n",
              "      <td>1297</td>\n",
              "    </tr>\n",
              "    <tr>\n",
              "      <th>2014-10-03</th>\n",
              "      <td>111</td>\n",
              "      <td>1415</td>\n",
              "      <td>206</td>\n",
              "      <td>66</td>\n",
              "    </tr>\n",
              "  </tbody>\n",
              "</table>\n",
              "<p>81 rows × 4 columns</p>\n",
              "</div>\n",
              "      <button class=\"colab-df-convert\" onclick=\"convertToInteractive('df-e6256007-45c5-4667-810b-7e298ade4131')\"\n",
              "              title=\"Convert this dataframe to an interactive table.\"\n",
              "              style=\"display:none;\">\n",
              "        \n",
              "  <svg xmlns=\"http://www.w3.org/2000/svg\" height=\"24px\"viewBox=\"0 0 24 24\"\n",
              "       width=\"24px\">\n",
              "    <path d=\"M0 0h24v24H0V0z\" fill=\"none\"/>\n",
              "    <path d=\"M18.56 5.44l.94 2.06.94-2.06 2.06-.94-2.06-.94-.94-2.06-.94 2.06-2.06.94zm-11 1L8.5 8.5l.94-2.06 2.06-.94-2.06-.94L8.5 2.5l-.94 2.06-2.06.94zm10 10l.94 2.06.94-2.06 2.06-.94-2.06-.94-.94-2.06-.94 2.06-2.06.94z\"/><path d=\"M17.41 7.96l-1.37-1.37c-.4-.4-.92-.59-1.43-.59-.52 0-1.04.2-1.43.59L10.3 9.45l-7.72 7.72c-.78.78-.78 2.05 0 2.83L4 21.41c.39.39.9.59 1.41.59.51 0 1.02-.2 1.41-.59l7.78-7.78 2.81-2.81c.8-.78.8-2.07 0-2.86zM5.41 20L4 18.59l7.72-7.72 1.47 1.35L5.41 20z\"/>\n",
              "  </svg>\n",
              "      </button>\n",
              "      \n",
              "  <style>\n",
              "    .colab-df-container {\n",
              "      display:flex;\n",
              "      flex-wrap:wrap;\n",
              "      gap: 12px;\n",
              "    }\n",
              "\n",
              "    .colab-df-convert {\n",
              "      background-color: #E8F0FE;\n",
              "      border: none;\n",
              "      border-radius: 50%;\n",
              "      cursor: pointer;\n",
              "      display: none;\n",
              "      fill: #1967D2;\n",
              "      height: 32px;\n",
              "      padding: 0 0 0 0;\n",
              "      width: 32px;\n",
              "    }\n",
              "\n",
              "    .colab-df-convert:hover {\n",
              "      background-color: #E2EBFA;\n",
              "      box-shadow: 0px 1px 2px rgba(60, 64, 67, 0.3), 0px 1px 3px 1px rgba(60, 64, 67, 0.15);\n",
              "      fill: #174EA6;\n",
              "    }\n",
              "\n",
              "    [theme=dark] .colab-df-convert {\n",
              "      background-color: #3B4455;\n",
              "      fill: #D2E3FC;\n",
              "    }\n",
              "\n",
              "    [theme=dark] .colab-df-convert:hover {\n",
              "      background-color: #434B5C;\n",
              "      box-shadow: 0px 1px 3px 1px rgba(0, 0, 0, 0.15);\n",
              "      filter: drop-shadow(0px 1px 2px rgba(0, 0, 0, 0.3));\n",
              "      fill: #FFFFFF;\n",
              "    }\n",
              "  </style>\n",
              "\n",
              "      <script>\n",
              "        const buttonEl =\n",
              "          document.querySelector('#df-e6256007-45c5-4667-810b-7e298ade4131 button.colab-df-convert');\n",
              "        buttonEl.style.display =\n",
              "          google.colab.kernel.accessAllowed ? 'block' : 'none';\n",
              "\n",
              "        async function convertToInteractive(key) {\n",
              "          const element = document.querySelector('#df-e6256007-45c5-4667-810b-7e298ade4131');\n",
              "          const dataTable =\n",
              "            await google.colab.kernel.invokeFunction('convertToInteractive',\n",
              "                                                     [key], {});\n",
              "          if (!dataTable) return;\n",
              "\n",
              "          const docLinkHtml = 'Like what you see? Visit the ' +\n",
              "            '<a target=\"_blank\" href=https://colab.research.google.com/notebooks/data_table.ipynb>data table notebook</a>'\n",
              "            + ' to learn more about interactive tables.';\n",
              "          element.innerHTML = '';\n",
              "          dataTable['output_type'] = 'display_data';\n",
              "          await google.colab.output.renderOutput(dataTable, element);\n",
              "          const docLink = document.createElement('div');\n",
              "          docLink.innerHTML = docLinkHtml;\n",
              "          element.appendChild(docLink);\n",
              "        }\n",
              "      </script>\n",
              "    </div>\n",
              "  </div>\n",
              "  "
            ],
            "text/plain": [
              "            hindi  english  hash  mention\n",
              "2021-10-24  25457    18575  3417     2051\n",
              "2021-09-26  14211    17479  2929     1164\n",
              "2021-08-29  13494    20779  3629     2066\n",
              "2021-07-25  10099    24819  2952     3182\n",
              "2021-06-27  18512    20848  3787     2920\n",
              "...           ...      ...   ...      ...\n",
              "2015-02-22  10482    19520  3297     1043\n",
              "2015-01-27   4267    21958  3747     1202\n",
              "2014-12-14   8181    19621  4308     1069\n",
              "2014-11-02   7116    21972  3475     1297\n",
              "2014-10-03    111     1415   206       66\n",
              "\n",
              "[81 rows x 4 columns]"
            ]
          },
          "metadata": {},
          "execution_count": 135
        }
      ]
    },
    {
      "cell_type": "code",
      "metadata": {
        "colab": {
          "base_uri": "https://localhost:8080/",
          "height": 360
        },
        "id": "iuwkjs4sUl_E",
        "outputId": "33b6561b-08b6-4c6c-8a5f-637178f0e705"
      },
      "source": [
        "\n",
        "\n",
        "import matplotlib.pyplot as plt\n",
        "import numpy as np\n",
        "\n",
        "\n",
        "labels = finaldf.index\n",
        "english_words = finaldf['english'].tolist()\n",
        "hindi_words = finaldf['hindi'].tolist()\n",
        "hashtags = finaldf['hash'].tolist()\n",
        "mentions = finaldf['mention'].tolist()\n",
        "\n",
        "x = np.arange(len(labels))  # the label locations\n",
        "width = 0.35  # the width of the bars\n",
        "\n",
        "fig, ax = plt.subplots(figsize=(30,10))\n",
        "rects1 = ax.bar(x - width/2, english_words, width, label='english_words')\n",
        "rects2 = ax.bar(x + width/2, hindi_words, width, label='hindi_words')\n",
        "rects3 = ax.bar(x - width/2, hashtags, width, label='hashtags')\n",
        "rects3 = ax.bar(x + width/2, mentions, width, label='mentions')\n",
        "\n",
        "# Add some text for labels, title and custom x-axis tick labels, etc.\n",
        "ax.set_ylabel('count')\n",
        "ax.set_title('Twitter Data Count',fontsize = 32)\n",
        "ax.set_xticks(x)\n",
        "ax.set_xticklabels(labels)\n",
        "ax.legend(fontsize = 14)\n",
        "\n",
        "\n",
        "\n",
        "fig.tight_layout()\n",
        "\n",
        "plt.show()\n",
        "fig.set_size_inches(30, 10.5)\n",
        "fig.savefig('twitter_data.png', dpi=100)\n",
        "\n"
      ],
      "execution_count": null,
      "outputs": [
        {
          "output_type": "display_data",
          "data": {
            "image/png": "[encoded data removed]",
            "text/plain": [
              "<Figure size 2160x720 with 1 Axes>"
            ]
          },
          "metadata": {
            "needs_background": "light"
          }
        }
      ]
    },
    {
      "cell_type": "markdown",
      "metadata": {
        "id": "mGZ2ReCo3d--"
      },
      "source": [
        "Word Frequency"
      ]
    },
    {
      "cell_type": "code",
      "metadata": {
        "id": "phEbzwIBUt_w"
      },
      "source": [
        "df = pd.read_csv( 'cleaned_tweets48.csv')"
      ],
      "execution_count": null,
      "outputs": []
    },
    {
      "cell_type": "code",
      "metadata": {
        "colab": {
          "base_uri": "https://localhost:8080/",
          "height": 299
        },
        "id": "-oU30NwIVG-F",
        "outputId": "e6ea0876-c6f4-466a-9b8d-c6828eb1158e"
      },
      "source": [
        "df = df.drop('Unnamed: 0', 1)\n",
        "df.head()"
      ],
      "execution_count": null,
      "outputs": [
        {
          "output_type": "stream",
          "name": "stderr",
          "text": [
            "/usr/local/lib/python3.7/dist-packages/ipykernel_launcher.py:1: FutureWarning:\n",
            "\n",
            "In a future version of pandas all arguments of DataFrame.drop except for the argument 'labels' will be keyword-only\n",
            "\n"
          ]
        },
        {
          "output_type": "execute_result",
          "data": {
            "text/html": [
              "\n",
              "  <div id=\"df-1645153d-636f-4eda-a764-d5f2d02af9be\">\n",
              "    <div class=\"colab-df-container\">\n",
              "      <div>\n",
              "<style scoped>\n",
              "    .dataframe tbody tr th:only-of-type {\n",
              "        vertical-align: middle;\n",
              "    }\n",
              "\n",
              "    .dataframe tbody tr th {\n",
              "        vertical-align: top;\n",
              "    }\n",
              "\n",
              "    .dataframe thead th {\n",
              "        text-align: right;\n",
              "    }\n",
              "</style>\n",
              "<table border=\"1\" class=\"dataframe\">\n",
              "  <thead>\n",
              "    <tr style=\"text-align: right;\">\n",
              "      <th></th>\n",
              "      <th>id</th>\n",
              "      <th>date</th>\n",
              "      <th>content</th>\n",
              "    </tr>\n",
              "  </thead>\n",
              "  <tbody>\n",
              "    <tr>\n",
              "      <th>0</th>\n",
              "      <td>1452749734716661762</td>\n",
              "      <td>2021-10-24</td>\n",
              "      <td>mannkibaat via namo app</td>\n",
              "    </tr>\n",
              "    <tr>\n",
              "      <th>1</th>\n",
              "      <td>1452725732002697219</td>\n",
              "      <td>2021-10-24</td>\n",
              "      <td>mannkibaat pmmodi mygovindia stand india gover...</td>\n",
              "    </tr>\n",
              "    <tr>\n",
              "      <th>2</th>\n",
              "      <td>1452720861367078912</td>\n",
              "      <td>2021-10-24</td>\n",
              "      <td>local mannkibaat httpstcoagncronqjh</td>\n",
              "    </tr>\n",
              "    <tr>\n",
              "      <th>3</th>\n",
              "      <td>1452720388371357699</td>\n",
              "      <td>2021-10-24</td>\n",
              "      <td>javedmansari langamahesh nobody bjp would want...</td>\n",
              "    </tr>\n",
              "    <tr>\n",
              "      <th>4</th>\n",
              "      <td>1452713887451607044</td>\n",
              "      <td>2021-10-24</td>\n",
              "      <td>listened hon pm shrinarendramodi ji mannkibaat...</td>\n",
              "    </tr>\n",
              "  </tbody>\n",
              "</table>\n",
              "</div>\n",
              "      <button class=\"colab-df-convert\" onclick=\"convertToInteractive('df-1645153d-636f-4eda-a764-d5f2d02af9be')\"\n",
              "              title=\"Convert this dataframe to an interactive table.\"\n",
              "              style=\"display:none;\">\n",
              "        \n",
              "  <svg xmlns=\"http://www.w3.org/2000/svg\" height=\"24px\"viewBox=\"0 0 24 24\"\n",
              "       width=\"24px\">\n",
              "    <path d=\"M0 0h24v24H0V0z\" fill=\"none\"/>\n",
              "    <path d=\"M18.56 5.44l.94 2.06.94-2.06 2.06-.94-2.06-.94-.94-2.06-.94 2.06-2.06.94zm-11 1L8.5 8.5l.94-2.06 2.06-.94-2.06-.94L8.5 2.5l-.94 2.06-2.06.94zm10 10l.94 2.06.94-2.06 2.06-.94-2.06-.94-.94-2.06-.94 2.06-2.06.94z\"/><path d=\"M17.41 7.96l-1.37-1.37c-.4-.4-.92-.59-1.43-.59-.52 0-1.04.2-1.43.59L10.3 9.45l-7.72 7.72c-.78.78-.78 2.05 0 2.83L4 21.41c.39.39.9.59 1.41.59.51 0 1.02-.2 1.41-.59l7.78-7.78 2.81-2.81c.8-.78.8-2.07 0-2.86zM5.41 20L4 18.59l7.72-7.72 1.47 1.35L5.41 20z\"/>\n",
              "  </svg>\n",
              "      </button>\n",
              "      \n",
              "  <style>\n",
              "    .colab-df-container {\n",
              "      display:flex;\n",
              "      flex-wrap:wrap;\n",
              "      gap: 12px;\n",
              "    }\n",
              "\n",
              "    .colab-df-convert {\n",
              "      background-color: #E8F0FE;\n",
              "      border: none;\n",
              "      border-radius: 50%;\n",
              "      cursor: pointer;\n",
              "      display: none;\n",
              "      fill: #1967D2;\n",
              "      height: 32px;\n",
              "      padding: 0 0 0 0;\n",
              "      width: 32px;\n",
              "    }\n",
              "\n",
              "    .colab-df-convert:hover {\n",
              "      background-color: #E2EBFA;\n",
              "      box-shadow: 0px 1px 2px rgba(60, 64, 67, 0.3), 0px 1px 3px 1px rgba(60, 64, 67, 0.15);\n",
              "      fill: #174EA6;\n",
              "    }\n",
              "\n",
              "    [theme=dark] .colab-df-convert {\n",
              "      background-color: #3B4455;\n",
              "      fill: #D2E3FC;\n",
              "    }\n",
              "\n",
              "    [theme=dark] .colab-df-convert:hover {\n",
              "      background-color: #434B5C;\n",
              "      box-shadow: 0px 1px 3px 1px rgba(0, 0, 0, 0.15);\n",
              "      filter: drop-shadow(0px 1px 2px rgba(0, 0, 0, 0.3));\n",
              "      fill: #FFFFFF;\n",
              "    }\n",
              "  </style>\n",
              "\n",
              "      <script>\n",
              "        const buttonEl =\n",
              "          document.querySelector('#df-1645153d-636f-4eda-a764-d5f2d02af9be button.colab-df-convert');\n",
              "        buttonEl.style.display =\n",
              "          google.colab.kernel.accessAllowed ? 'block' : 'none';\n",
              "\n",
              "        async function convertToInteractive(key) {\n",
              "          const element = document.querySelector('#df-1645153d-636f-4eda-a764-d5f2d02af9be');\n",
              "          const dataTable =\n",
              "            await google.colab.kernel.invokeFunction('convertToInteractive',\n",
              "                                                     [key], {});\n",
              "          if (!dataTable) return;\n",
              "\n",
              "          const docLinkHtml = 'Like what you see? Visit the ' +\n",
              "            '<a target=\"_blank\" href=https://colab.research.google.com/notebooks/data_table.ipynb>data table notebook</a>'\n",
              "            + ' to learn more about interactive tables.';\n",
              "          element.innerHTML = '';\n",
              "          dataTable['output_type'] = 'display_data';\n",
              "          await google.colab.output.renderOutput(dataTable, element);\n",
              "          const docLink = document.createElement('div');\n",
              "          docLink.innerHTML = docLinkHtml;\n",
              "          element.appendChild(docLink);\n",
              "        }\n",
              "      </script>\n",
              "    </div>\n",
              "  </div>\n",
              "  "
            ],
            "text/plain": [
              "                    id  ...                                            content\n",
              "0  1452749734716661762  ...                           mannkibaat via namo app \n",
              "1  1452725732002697219  ...  mannkibaat pmmodi mygovindia stand india gover...\n",
              "2  1452720861367078912  ...               local mannkibaat httpstcoagncronqjh \n",
              "3  1452720388371357699  ...  javedmansari langamahesh nobody bjp would want...\n",
              "4  1452713887451607044  ...  listened hon pm shrinarendramodi ji mannkibaat...\n",
              "\n",
              "[5 rows x 3 columns]"
            ]
          },
          "metadata": {},
          "execution_count": 138
        }
      ]
    },
    {
      "cell_type": "code",
      "metadata": {
        "id": "FI80HviOVMbD"
      },
      "source": [
        "\n",
        "\n",
        "def remove_newlines_tabs_multispaces( string ):\n",
        "  new_string = \"\"\n",
        "  for i in string:\n",
        "    if i != '\\n':\n",
        "      new_string += i\n",
        "    else:\n",
        "      new_string += ' '\n",
        "  \n",
        "  string = \"\"\n",
        "  for i in new_string:\n",
        "    if i != '\\t':\n",
        "      string += i\n",
        "    else:\n",
        "      string += ' '\n",
        "  \n",
        "  new_string = \"\"\n",
        "  for i in range(len(string)-1):\n",
        "    if( string[i] != ' ' ):\n",
        "      new_string += string[i]\n",
        "    else:\n",
        "      if string[i+1] == ' ':\n",
        "        continue\n",
        "      else:\n",
        "        new_string += string[i]\n",
        "  return new_string\n",
        "\n"
      ],
      "execution_count": null,
      "outputs": []
    },
    {
      "cell_type": "code",
      "metadata": {
        "id": "hKlhxYu-VPI8"
      },
      "source": [
        "\n",
        "\n",
        "def word_frequency_table( paragraph ):\n",
        "  paragraph = remove_newlines_tabs_multispaces( paragraph )\n",
        "  words = paragraph.strip().split(' ')\n",
        "  wft = {}\n",
        "  to_remove = [\"mannkibaat\", \"narendramodi\", \"pm\", \"modi\", \"via\", \"app\", \"namo\", \"amp\", \"rt\", \"ji\", \"ki\"]\n",
        "  for i in words:\n",
        "    if i in to_remove:\n",
        "      continue\n",
        "    if \"http\" in i:\n",
        "      continue\n",
        "    if i in wft.keys():\n",
        "      wft[i] += 1\n",
        "    else:\n",
        "      wft[i] = 1\n",
        "  \n",
        "  df = pd.DataFrame()\n",
        "  df = pd.DataFrame.from_dict(wft, orient='index')\n",
        "  return df\n",
        "\n"
      ],
      "execution_count": null,
      "outputs": []
    },
    {
      "cell_type": "code",
      "metadata": {
        "colab": {
          "base_uri": "https://localhost:8080/",
          "height": 448
        },
        "id": "RRA__H9SVQ-l",
        "outputId": "2ff30550-139a-4977-cfd4-1c103e083491"
      },
      "source": [
        "\n",
        "\n",
        "paragraph = \"\"\n",
        "for i, r in df.iterrows():\n",
        "  paragraph += \" \" + r['content']\n",
        "\n",
        "\n",
        "wft = word_frequency_table(paragraph)\n",
        "wft.columns = ['count']\n",
        "wft = wft.sort_values(by=['count'], ascending=False)\n",
        "wft"
      ],
      "execution_count": null,
      "outputs": [
        {
          "output_type": "execute_result",
          "data": {
            "text/html": [
              "\n",
              "  <div id=\"df-51079bbd-b719-4c58-ad61-8203ff4d6048\">\n",
              "    <div class=\"colab-df-container\">\n",
              "      <div>\n",
              "<style scoped>\n",
              "    .dataframe tbody tr th:only-of-type {\n",
              "        vertical-align: middle;\n",
              "    }\n",
              "\n",
              "    .dataframe tbody tr th {\n",
              "        vertical-align: top;\n",
              "    }\n",
              "\n",
              "    .dataframe thead th {\n",
              "        text-align: right;\n",
              "    }\n",
              "</style>\n",
              "<table border=\"1\" class=\"dataframe\">\n",
              "  <thead>\n",
              "    <tr style=\"text-align: right;\">\n",
              "      <th></th>\n",
              "      <th>count</th>\n",
              "    </tr>\n",
              "  </thead>\n",
              "  <tbody>\n",
              "    <tr>\n",
              "      <th>india</th>\n",
              "      <td>16058</td>\n",
              "    </tr>\n",
              "    <tr>\n",
              "      <th>pmoindia</th>\n",
              "      <td>11720</td>\n",
              "    </tr>\n",
              "    <tr>\n",
              "      <th>people</th>\n",
              "      <td>5935</td>\n",
              "    </tr>\n",
              "    <tr>\n",
              "      <th>narendra</th>\n",
              "      <td>4950</td>\n",
              "    </tr>\n",
              "    <tr>\n",
              "      <th>baat</th>\n",
              "      <td>4581</td>\n",
              "    </tr>\n",
              "    <tr>\n",
              "      <th>...</th>\n",
              "      <td>...</td>\n",
              "    </tr>\n",
              "    <tr>\n",
              "      <th>typenoof</th>\n",
              "      <td>1</td>\n",
              "    </tr>\n",
              "    <tr>\n",
              "      <th>jaybhadrakali</th>\n",
              "      <td>1</td>\n",
              "    </tr>\n",
              "    <tr>\n",
              "      <th>wordsslay</th>\n",
              "      <td>1</td>\n",
              "    </tr>\n",
              "    <tr>\n",
              "      <th>usake</th>\n",
              "      <td>1</td>\n",
              "    </tr>\n",
              "    <tr>\n",
              "      <th>saffronisation</th>\n",
              "      <td>1</td>\n",
              "    </tr>\n",
              "  </tbody>\n",
              "</table>\n",
              "<p>77805 rows × 1 columns</p>\n",
              "</div>\n",
              "      <button class=\"colab-df-convert\" onclick=\"convertToInteractive('df-51079bbd-b719-4c58-ad61-8203ff4d6048')\"\n",
              "              title=\"Convert this dataframe to an interactive table.\"\n",
              "              style=\"display:none;\">\n",
              "        \n",
              "  <svg xmlns=\"http://www.w3.org/2000/svg\" height=\"24px\"viewBox=\"0 0 24 24\"\n",
              "       width=\"24px\">\n",
              "    <path d=\"M0 0h24v24H0V0z\" fill=\"none\"/>\n",
              "    <path d=\"M18.56 5.44l.94 2.06.94-2.06 2.06-.94-2.06-.94-.94-2.06-.94 2.06-2.06.94zm-11 1L8.5 8.5l.94-2.06 2.06-.94-2.06-.94L8.5 2.5l-.94 2.06-2.06.94zm10 10l.94 2.06.94-2.06 2.06-.94-2.06-.94-.94-2.06-.94 2.06-2.06.94z\"/><path d=\"M17.41 7.96l-1.37-1.37c-.4-.4-.92-.59-1.43-.59-.52 0-1.04.2-1.43.59L10.3 9.45l-7.72 7.72c-.78.78-.78 2.05 0 2.83L4 21.41c.39.39.9.59 1.41.59.51 0 1.02-.2 1.41-.59l7.78-7.78 2.81-2.81c.8-.78.8-2.07 0-2.86zM5.41 20L4 18.59l7.72-7.72 1.47 1.35L5.41 20z\"/>\n",
              "  </svg>\n",
              "      </button>\n",
              "      \n",
              "  <style>\n",
              "    .colab-df-container {\n",
              "      display:flex;\n",
              "      flex-wrap:wrap;\n",
              "      gap: 12px;\n",
              "    }\n",
              "\n",
              "    .colab-df-convert {\n",
              "      background-color: #E8F0FE;\n",
              "      border: none;\n",
              "      border-radius: 50%;\n",
              "      cursor: pointer;\n",
              "      display: none;\n",
              "      fill: #1967D2;\n",
              "      height: 32px;\n",
              "      padding: 0 0 0 0;\n",
              "      width: 32px;\n",
              "    }\n",
              "\n",
              "    .colab-df-convert:hover {\n",
              "      background-color: #E2EBFA;\n",
              "      box-shadow: 0px 1px 2px rgba(60, 64, 67, 0.3), 0px 1px 3px 1px rgba(60, 64, 67, 0.15);\n",
              "      fill: #174EA6;\n",
              "    }\n",
              "\n",
              "    [theme=dark] .colab-df-convert {\n",
              "      background-color: #3B4455;\n",
              "      fill: #D2E3FC;\n",
              "    }\n",
              "\n",
              "    [theme=dark] .colab-df-convert:hover {\n",
              "      background-color: #434B5C;\n",
              "      box-shadow: 0px 1px 3px 1px rgba(0, 0, 0, 0.15);\n",
              "      filter: drop-shadow(0px 1px 2px rgba(0, 0, 0, 0.3));\n",
              "      fill: #FFFFFF;\n",
              "    }\n",
              "  </style>\n",
              "\n",
              "      <script>\n",
              "        const buttonEl =\n",
              "          document.querySelector('#df-51079bbd-b719-4c58-ad61-8203ff4d6048 button.colab-df-convert');\n",
              "        buttonEl.style.display =\n",
              "          google.colab.kernel.accessAllowed ? 'block' : 'none';\n",
              "\n",
              "        async function convertToInteractive(key) {\n",
              "          const element = document.querySelector('#df-51079bbd-b719-4c58-ad61-8203ff4d6048');\n",
              "          const dataTable =\n",
              "            await google.colab.kernel.invokeFunction('convertToInteractive',\n",
              "                                                     [key], {});\n",
              "          if (!dataTable) return;\n",
              "\n",
              "          const docLinkHtml = 'Like what you see? Visit the ' +\n",
              "            '<a target=\"_blank\" href=https://colab.research.google.com/notebooks/data_table.ipynb>data table notebook</a>'\n",
              "            + ' to learn more about interactive tables.';\n",
              "          element.innerHTML = '';\n",
              "          dataTable['output_type'] = 'display_data';\n",
              "          await google.colab.output.renderOutput(dataTable, element);\n",
              "          const docLink = document.createElement('div');\n",
              "          docLink.innerHTML = docLinkHtml;\n",
              "          element.appendChild(docLink);\n",
              "        }\n",
              "      </script>\n",
              "    </div>\n",
              "  </div>\n",
              "  "
            ],
            "text/plain": [
              "                count\n",
              "india           16058\n",
              "pmoindia        11720\n",
              "people           5935\n",
              "narendra         4950\n",
              "baat             4581\n",
              "...               ...\n",
              "typenoof            1\n",
              "jaybhadrakali       1\n",
              "wordsslay           1\n",
              "usake               1\n",
              "saffronisation      1\n",
              "\n",
              "[77805 rows x 1 columns]"
            ]
          },
          "metadata": {},
          "execution_count": 141
        }
      ]
    },
    {
      "cell_type": "code",
      "metadata": {
        "colab": {
          "base_uri": "https://localhost:8080/",
          "height": 1000
        },
        "id": "BO-yZybhVUcQ",
        "outputId": "c0ee2d78-0227-4aa7-872a-cdd31e87344d"
      },
      "source": [
        "wft15 = wft.head(30)\n",
        "wft15"
      ],
      "execution_count": null,
      "outputs": [
        {
          "output_type": "execute_result",
          "data": {
            "text/html": [
              "\n",
              "  <div id=\"df-c7c30ee4-441b-4738-900f-1c390fc0fdc8\">\n",
              "    <div class=\"colab-df-container\">\n",
              "      <div>\n",
              "<style scoped>\n",
              "    .dataframe tbody tr th:only-of-type {\n",
              "        vertical-align: middle;\n",
              "    }\n",
              "\n",
              "    .dataframe tbody tr th {\n",
              "        vertical-align: top;\n",
              "    }\n",
              "\n",
              "    .dataframe thead th {\n",
              "        text-align: right;\n",
              "    }\n",
              "</style>\n",
              "<table border=\"1\" class=\"dataframe\">\n",
              "  <thead>\n",
              "    <tr style=\"text-align: right;\">\n",
              "      <th></th>\n",
              "      <th>count</th>\n",
              "    </tr>\n",
              "  </thead>\n",
              "  <tbody>\n",
              "    <tr>\n",
              "      <th>india</th>\n",
              "      <td>16058</td>\n",
              "    </tr>\n",
              "    <tr>\n",
              "      <th>pmoindia</th>\n",
              "      <td>11720</td>\n",
              "    </tr>\n",
              "    <tr>\n",
              "      <th>people</th>\n",
              "      <td>5935</td>\n",
              "    </tr>\n",
              "    <tr>\n",
              "      <th>narendra</th>\n",
              "      <td>4950</td>\n",
              "    </tr>\n",
              "    <tr>\n",
              "      <th>baat</th>\n",
              "      <td>4581</td>\n",
              "    </tr>\n",
              "    <tr>\n",
              "      <th>today</th>\n",
              "      <td>4249</td>\n",
              "    </tr>\n",
              "    <tr>\n",
              "      <th>world</th>\n",
              "      <td>3911</td>\n",
              "    </tr>\n",
              "    <tr>\n",
              "      <th>mann</th>\n",
              "      <td>3596</td>\n",
              "    </tr>\n",
              "    <tr>\n",
              "      <th>nation</th>\n",
              "      <td>3569</td>\n",
              "    </tr>\n",
              "    <tr>\n",
              "      <th>country</th>\n",
              "      <td>3544</td>\n",
              "    </tr>\n",
              "    <tr>\n",
              "      <th>indian</th>\n",
              "      <td>3537</td>\n",
              "    </tr>\n",
              "    <tr>\n",
              "      <th>us</th>\n",
              "      <td>3453</td>\n",
              "    </tr>\n",
              "    <tr>\n",
              "      <th>one</th>\n",
              "      <td>3344</td>\n",
              "    </tr>\n",
              "    <tr>\n",
              "      <th>new</th>\n",
              "      <td>3214</td>\n",
              "    </tr>\n",
              "    <tr>\n",
              "      <th>pmonair</th>\n",
              "      <td>2890</td>\n",
              "    </tr>\n",
              "    <tr>\n",
              "      <th>hai</th>\n",
              "      <td>2710</td>\n",
              "    </tr>\n",
              "    <tr>\n",
              "      <th>also</th>\n",
              "      <td>2662</td>\n",
              "    </tr>\n",
              "    <tr>\n",
              "      <th>time</th>\n",
              "      <td>2603</td>\n",
              "    </tr>\n",
              "    <tr>\n",
              "      <th>day</th>\n",
              "      <td>2577</td>\n",
              "    </tr>\n",
              "    <tr>\n",
              "      <th>shri</th>\n",
              "      <td>2555</td>\n",
              "    </tr>\n",
              "    <tr>\n",
              "      <th>bjp</th>\n",
              "      <td>2530</td>\n",
              "    </tr>\n",
              "    <tr>\n",
              "      <th>every</th>\n",
              "      <td>2487</td>\n",
              "    </tr>\n",
              "    <tr>\n",
              "      <th>took</th>\n",
              "      <td>2448</td>\n",
              "    </tr>\n",
              "    <tr>\n",
              "      <th>says</th>\n",
              "      <td>2410</td>\n",
              "    </tr>\n",
              "    <tr>\n",
              "      <th>youth</th>\n",
              "      <td>2390</td>\n",
              "    </tr>\n",
              "    <tr>\n",
              "      <th>quiz</th>\n",
              "      <td>2381</td>\n",
              "    </tr>\n",
              "    <tr>\n",
              "      <th>makeinindia</th>\n",
              "      <td>2334</td>\n",
              "    </tr>\n",
              "    <tr>\n",
              "      <th>sir</th>\n",
              "      <td>2317</td>\n",
              "    </tr>\n",
              "    <tr>\n",
              "      <th>try</th>\n",
              "      <td>2308</td>\n",
              "    </tr>\n",
              "    <tr>\n",
              "      <th>said</th>\n",
              "      <td>2292</td>\n",
              "    </tr>\n",
              "  </tbody>\n",
              "</table>\n",
              "</div>\n",
              "      <button class=\"colab-df-convert\" onclick=\"convertToInteractive('df-c7c30ee4-441b-4738-900f-1c390fc0fdc8')\"\n",
              "              title=\"Convert this dataframe to an interactive table.\"\n",
              "              style=\"display:none;\">\n",
              "        \n",
              "  <svg xmlns=\"http://www.w3.org/2000/svg\" height=\"24px\"viewBox=\"0 0 24 24\"\n",
              "       width=\"24px\">\n",
              "    <path d=\"M0 0h24v24H0V0z\" fill=\"none\"/>\n",
              "    <path d=\"M18.56 5.44l.94 2.06.94-2.06 2.06-.94-2.06-.94-.94-2.06-.94 2.06-2.06.94zm-11 1L8.5 8.5l.94-2.06 2.06-.94-2.06-.94L8.5 2.5l-.94 2.06-2.06.94zm10 10l.94 2.06.94-2.06 2.06-.94-2.06-.94-.94-2.06-.94 2.06-2.06.94z\"/><path d=\"M17.41 7.96l-1.37-1.37c-.4-.4-.92-.59-1.43-.59-.52 0-1.04.2-1.43.59L10.3 9.45l-7.72 7.72c-.78.78-.78 2.05 0 2.83L4 21.41c.39.39.9.59 1.41.59.51 0 1.02-.2 1.41-.59l7.78-7.78 2.81-2.81c.8-.78.8-2.07 0-2.86zM5.41 20L4 18.59l7.72-7.72 1.47 1.35L5.41 20z\"/>\n",
              "  </svg>\n",
              "      </button>\n",
              "      \n",
              "  <style>\n",
              "    .colab-df-container {\n",
              "      display:flex;\n",
              "      flex-wrap:wrap;\n",
              "      gap: 12px;\n",
              "    }\n",
              "\n",
              "    .colab-df-convert {\n",
              "      background-color: #E8F0FE;\n",
              "      border: none;\n",
              "      border-radius: 50%;\n",
              "      cursor: pointer;\n",
              "      display: none;\n",
              "      fill: #1967D2;\n",
              "      height: 32px;\n",
              "      padding: 0 0 0 0;\n",
              "      width: 32px;\n",
              "    }\n",
              "\n",
              "    .colab-df-convert:hover {\n",
              "      background-color: #E2EBFA;\n",
              "      box-shadow: 0px 1px 2px rgba(60, 64, 67, 0.3), 0px 1px 3px 1px rgba(60, 64, 67, 0.15);\n",
              "      fill: #174EA6;\n",
              "    }\n",
              "\n",
              "    [theme=dark] .colab-df-convert {\n",
              "      background-color: #3B4455;\n",
              "      fill: #D2E3FC;\n",
              "    }\n",
              "\n",
              "    [theme=dark] .colab-df-convert:hover {\n",
              "      background-color: #434B5C;\n",
              "      box-shadow: 0px 1px 3px 1px rgba(0, 0, 0, 0.15);\n",
              "      filter: drop-shadow(0px 1px 2px rgba(0, 0, 0, 0.3));\n",
              "      fill: #FFFFFF;\n",
              "    }\n",
              "  </style>\n",
              "\n",
              "      <script>\n",
              "        const buttonEl =\n",
              "          document.querySelector('#df-c7c30ee4-441b-4738-900f-1c390fc0fdc8 button.colab-df-convert');\n",
              "        buttonEl.style.display =\n",
              "          google.colab.kernel.accessAllowed ? 'block' : 'none';\n",
              "\n",
              "        async function convertToInteractive(key) {\n",
              "          const element = document.querySelector('#df-c7c30ee4-441b-4738-900f-1c390fc0fdc8');\n",
              "          const dataTable =\n",
              "            await google.colab.kernel.invokeFunction('convertToInteractive',\n",
              "                                                     [key], {});\n",
              "          if (!dataTable) return;\n",
              "\n",
              "          const docLinkHtml = 'Like what you see? Visit the ' +\n",
              "            '<a target=\"_blank\" href=https://colab.research.google.com/notebooks/data_table.ipynb>data table notebook</a>'\n",
              "            + ' to learn more about interactive tables.';\n",
              "          element.innerHTML = '';\n",
              "          dataTable['output_type'] = 'display_data';\n",
              "          await google.colab.output.renderOutput(dataTable, element);\n",
              "          const docLink = document.createElement('div');\n",
              "          docLink.innerHTML = docLinkHtml;\n",
              "          element.appendChild(docLink);\n",
              "        }\n",
              "      </script>\n",
              "    </div>\n",
              "  </div>\n",
              "  "
            ],
            "text/plain": [
              "             count\n",
              "india        16058\n",
              "pmoindia     11720\n",
              "people        5935\n",
              "narendra      4950\n",
              "baat          4581\n",
              "today         4249\n",
              "world         3911\n",
              "mann          3596\n",
              "nation        3569\n",
              "country       3544\n",
              "indian        3537\n",
              "us            3453\n",
              "one           3344\n",
              "new           3214\n",
              "pmonair       2890\n",
              "hai           2710\n",
              "also          2662\n",
              "time          2603\n",
              "day           2577\n",
              "shri          2555\n",
              "bjp           2530\n",
              "every         2487\n",
              "took          2448\n",
              "says          2410\n",
              "youth         2390\n",
              "quiz          2381\n",
              "makeinindia   2334\n",
              "sir           2317\n",
              "try           2308\n",
              "said          2292"
            ]
          },
          "metadata": {},
          "execution_count": 142
        }
      ]
    },
    {
      "cell_type": "code",
      "metadata": {
        "colab": {
          "base_uri": "https://localhost:8080/",
          "height": 573
        },
        "id": "DzoOufT8Vay9",
        "outputId": "fd740218-b156-47ce-b6c4-c047e19c9097"
      },
      "source": [
        "import matplotlib.pyplot as plt\n",
        "wft15.plot.bar(figsize=(20,10)).set(title = \"Most common Words\")\n",
        "plt.show()"
      ],
      "execution_count": null,
      "outputs": [
        {
          "output_type": "display_data",
          "data": {
            "image/png": "[encoded data removed]",
            "text/plain": [
              "<Figure size 1440x720 with 1 Axes>"
            ]
          },
          "metadata": {
            "needs_background": "light"
          }
        }
      ]
    },
    {
      "cell_type": "code",
      "metadata": {
        "id": "QDJLhoVFVvgO"
      },
      "source": [
        ""
      ],
      "execution_count": null,
      "outputs": []
    },
    {
      "cell_type": "markdown",
      "metadata": {
        "id": "eoZgkhsJkO73"
      },
      "source": [
        "# Hypothesis Testing"
      ]
    },
    {
      "cell_type": "code",
      "metadata": {
        "id": "zzcfUj0SV17L"
      },
      "source": [
        "mkb = pd.read_csv('MKB.csv')\n",
        "tweets = pd.read_csv('cleaned_tweets48.csv')"
      ],
      "execution_count": null,
      "outputs": []
    },
    {
      "cell_type": "code",
      "metadata": {
        "id": "rtwzt0brV3Un",
        "colab": {
          "base_uri": "https://localhost:8080/",
          "height": 449
        },
        "outputId": "2ecac74d-1b37-456a-aa90-a12ef24a65f4"
      },
      "source": [
        "mkb.head()"
      ],
      "execution_count": null,
      "outputs": [
        {
          "output_type": "execute_result",
          "data": {
            "text/html": [
              "\n",
              "  <div id=\"df-7e11add7-89e4-4bf7-af21-8f8b334f3ac9\">\n",
              "    <div class=\"colab-df-container\">\n",
              "      <div>\n",
              "<style scoped>\n",
              "    .dataframe tbody tr th:only-of-type {\n",
              "        vertical-align: middle;\n",
              "    }\n",
              "\n",
              "    .dataframe tbody tr th {\n",
              "        vertical-align: top;\n",
              "    }\n",
              "\n",
              "    .dataframe thead th {\n",
              "        text-align: right;\n",
              "    }\n",
              "</style>\n",
              "<table border=\"1\" class=\"dataframe\">\n",
              "  <thead>\n",
              "    <tr style=\"text-align: right;\">\n",
              "      <th></th>\n",
              "      <th>Episode</th>\n",
              "      <th>Content</th>\n",
              "      <th>Views</th>\n",
              "      <th>Likes</th>\n",
              "      <th>Dislikes</th>\n",
              "      <th>Cleaned_content</th>\n",
              "      <th>Total_words</th>\n",
              "      <th>Words_without_stop</th>\n",
              "      <th>Year</th>\n",
              "    </tr>\n",
              "  </thead>\n",
              "  <tbody>\n",
              "    <tr>\n",
              "      <th>0</th>\n",
              "      <td>20211024</td>\n",
              "      <td>My dear countrymen,\\nNamaskar…namaskar a billi...</td>\n",
              "      <td>24394</td>\n",
              "      <td>1799</td>\n",
              "      <td>627</td>\n",
              "      <td>dear countrymen namaskar namaskar billion time...</td>\n",
              "      <td>4904</td>\n",
              "      <td>3014</td>\n",
              "      <td>2021</td>\n",
              "    </tr>\n",
              "    <tr>\n",
              "      <th>1</th>\n",
              "      <td>20210926</td>\n",
              "      <td>My dear countrymen,\\nNamaskar. You are aware t...</td>\n",
              "      <td>22728</td>\n",
              "      <td>1310</td>\n",
              "      <td>490</td>\n",
              "      <td>dear countrymen namaskar aware important progr...</td>\n",
              "      <td>4266</td>\n",
              "      <td>2564</td>\n",
              "      <td>2021</td>\n",
              "    </tr>\n",
              "    <tr>\n",
              "      <th>2</th>\n",
              "      <td>20210829</td>\n",
              "      <td>My dear countrymen, Namaskar.\\nAll of us know ...</td>\n",
              "      <td>12047</td>\n",
              "      <td>416</td>\n",
              "      <td>1156</td>\n",
              "      <td>dear countrymen namaskar us know today birth a...</td>\n",
              "      <td>4579</td>\n",
              "      <td>2799</td>\n",
              "      <td>2021</td>\n",
              "    </tr>\n",
              "    <tr>\n",
              "      <th>3</th>\n",
              "      <td>20210725</td>\n",
              "      <td>My dear countrymen, Namaskar. A few amazing pi...</td>\n",
              "      <td>50659</td>\n",
              "      <td>2332</td>\n",
              "      <td>5577</td>\n",
              "      <td>dear countrymen namaskar amazing pictures take...</td>\n",
              "      <td>4510</td>\n",
              "      <td>2782</td>\n",
              "      <td>2021</td>\n",
              "    </tr>\n",
              "    <tr>\n",
              "      <th>4</th>\n",
              "      <td>20210627</td>\n",
              "      <td>My dear countrymen, Namaskar.\\nOften in Mann K...</td>\n",
              "      <td>71155</td>\n",
              "      <td>1828</td>\n",
              "      <td>11115</td>\n",
              "      <td>dear countrymen namaskar often mann ki baat vo...</td>\n",
              "      <td>5572</td>\n",
              "      <td>3451</td>\n",
              "      <td>2021</td>\n",
              "    </tr>\n",
              "  </tbody>\n",
              "</table>\n",
              "</div>\n",
              "      <button class=\"colab-df-convert\" onclick=\"convertToInteractive('df-7e11add7-89e4-4bf7-af21-8f8b334f3ac9')\"\n",
              "              title=\"Convert this dataframe to an interactive table.\"\n",
              "              style=\"display:none;\">\n",
              "        \n",
              "  <svg xmlns=\"http://www.w3.org/2000/svg\" height=\"24px\"viewBox=\"0 0 24 24\"\n",
              "       width=\"24px\">\n",
              "    <path d=\"M0 0h24v24H0V0z\" fill=\"none\"/>\n",
              "    <path d=\"M18.56 5.44l.94 2.06.94-2.06 2.06-.94-2.06-.94-.94-2.06-.94 2.06-2.06.94zm-11 1L8.5 8.5l.94-2.06 2.06-.94-2.06-.94L8.5 2.5l-.94 2.06-2.06.94zm10 10l.94 2.06.94-2.06 2.06-.94-2.06-.94-.94-2.06-.94 2.06-2.06.94z\"/><path d=\"M17.41 7.96l-1.37-1.37c-.4-.4-.92-.59-1.43-.59-.52 0-1.04.2-1.43.59L10.3 9.45l-7.72 7.72c-.78.78-.78 2.05 0 2.83L4 21.41c.39.39.9.59 1.41.59.51 0 1.02-.2 1.41-.59l7.78-7.78 2.81-2.81c.8-.78.8-2.07 0-2.86zM5.41 20L4 18.59l7.72-7.72 1.47 1.35L5.41 20z\"/>\n",
              "  </svg>\n",
              "      </button>\n",
              "      \n",
              "  <style>\n",
              "    .colab-df-container {\n",
              "      display:flex;\n",
              "      flex-wrap:wrap;\n",
              "      gap: 12px;\n",
              "    }\n",
              "\n",
              "    .colab-df-convert {\n",
              "      background-color: #E8F0FE;\n",
              "      border: none;\n",
              "      border-radius: 50%;\n",
              "      cursor: pointer;\n",
              "      display: none;\n",
              "      fill: #1967D2;\n",
              "      height: 32px;\n",
              "      padding: 0 0 0 0;\n",
              "      width: 32px;\n",
              "    }\n",
              "\n",
              "    .colab-df-convert:hover {\n",
              "      background-color: #E2EBFA;\n",
              "      box-shadow: 0px 1px 2px rgba(60, 64, 67, 0.3), 0px 1px 3px 1px rgba(60, 64, 67, 0.15);\n",
              "      fill: #174EA6;\n",
              "    }\n",
              "\n",
              "    [theme=dark] .colab-df-convert {\n",
              "      background-color: #3B4455;\n",
              "      fill: #D2E3FC;\n",
              "    }\n",
              "\n",
              "    [theme=dark] .colab-df-convert:hover {\n",
              "      background-color: #434B5C;\n",
              "      box-shadow: 0px 1px 3px 1px rgba(0, 0, 0, 0.15);\n",
              "      filter: drop-shadow(0px 1px 2px rgba(0, 0, 0, 0.3));\n",
              "      fill: #FFFFFF;\n",
              "    }\n",
              "  </style>\n",
              "\n",
              "      <script>\n",
              "        const buttonEl =\n",
              "          document.querySelector('#df-7e11add7-89e4-4bf7-af21-8f8b334f3ac9 button.colab-df-convert');\n",
              "        buttonEl.style.display =\n",
              "          google.colab.kernel.accessAllowed ? 'block' : 'none';\n",
              "\n",
              "        async function convertToInteractive(key) {\n",
              "          const element = document.querySelector('#df-7e11add7-89e4-4bf7-af21-8f8b334f3ac9');\n",
              "          const dataTable =\n",
              "            await google.colab.kernel.invokeFunction('convertToInteractive',\n",
              "                                                     [key], {});\n",
              "          if (!dataTable) return;\n",
              "\n",
              "          const docLinkHtml = 'Like what you see? Visit the ' +\n",
              "            '<a target=\"_blank\" href=https://colab.research.google.com/notebooks/data_table.ipynb>data table notebook</a>'\n",
              "            + ' to learn more about interactive tables.';\n",
              "          element.innerHTML = '';\n",
              "          dataTable['output_type'] = 'display_data';\n",
              "          await google.colab.output.renderOutput(dataTable, element);\n",
              "          const docLink = document.createElement('div');\n",
              "          docLink.innerHTML = docLinkHtml;\n",
              "          element.appendChild(docLink);\n",
              "        }\n",
              "      </script>\n",
              "    </div>\n",
              "  </div>\n",
              "  "
            ],
            "text/plain": [
              "    Episode  ...  Year\n",
              "0  20211024  ...  2021\n",
              "1  20210926  ...  2021\n",
              "2  20210829  ...  2021\n",
              "3  20210725  ...  2021\n",
              "4  20210627  ...  2021\n",
              "\n",
              "[5 rows x 9 columns]"
            ]
          },
          "metadata": {},
          "execution_count": 145
        }
      ]
    },
    {
      "cell_type": "code",
      "metadata": {
        "id": "TaB1MzrsV3SG",
        "colab": {
          "base_uri": "https://localhost:8080/",
          "height": 448
        },
        "outputId": "0fc7216c-4771-456c-82f0-3eb5ecff799a"
      },
      "source": [
        "tweets"
      ],
      "execution_count": null,
      "outputs": [
        {
          "output_type": "execute_result",
          "data": {
            "text/html": [
              "\n",
              "  <div id=\"df-1bbe0c23-edd4-4339-8601-86336bc24803\">\n",
              "    <div class=\"colab-df-container\">\n",
              "      <div>\n",
              "<style scoped>\n",
              "    .dataframe tbody tr th:only-of-type {\n",
              "        vertical-align: middle;\n",
              "    }\n",
              "\n",
              "    .dataframe tbody tr th {\n",
              "        vertical-align: top;\n",
              "    }\n",
              "\n",
              "    .dataframe thead th {\n",
              "        text-align: right;\n",
              "    }\n",
              "</style>\n",
              "<table border=\"1\" class=\"dataframe\">\n",
              "  <thead>\n",
              "    <tr style=\"text-align: right;\">\n",
              "      <th></th>\n",
              "      <th>Unnamed: 0</th>\n",
              "      <th>id</th>\n",
              "      <th>date</th>\n",
              "      <th>content</th>\n",
              "    </tr>\n",
              "  </thead>\n",
              "  <tbody>\n",
              "    <tr>\n",
              "      <th>0</th>\n",
              "      <td>1452749734716661762</td>\n",
              "      <td>1452749734716661762</td>\n",
              "      <td>2021-10-24</td>\n",
              "      <td>mannkibaat via namo app</td>\n",
              "    </tr>\n",
              "    <tr>\n",
              "      <th>1</th>\n",
              "      <td>1452725732002697219</td>\n",
              "      <td>1452725732002697219</td>\n",
              "      <td>2021-10-24</td>\n",
              "      <td>mannkibaat pmmodi mygovindia stand india gover...</td>\n",
              "    </tr>\n",
              "    <tr>\n",
              "      <th>2</th>\n",
              "      <td>1452720861367078912</td>\n",
              "      <td>1452720861367078912</td>\n",
              "      <td>2021-10-24</td>\n",
              "      <td>local mannkibaat httpstcoagncronqjh</td>\n",
              "    </tr>\n",
              "    <tr>\n",
              "      <th>3</th>\n",
              "      <td>1452720388371357699</td>\n",
              "      <td>1452720388371357699</td>\n",
              "      <td>2021-10-24</td>\n",
              "      <td>javedmansari langamahesh nobody bjp would want...</td>\n",
              "    </tr>\n",
              "    <tr>\n",
              "      <th>4</th>\n",
              "      <td>1452713887451607044</td>\n",
              "      <td>1452713887451607044</td>\n",
              "      <td>2021-10-24</td>\n",
              "      <td>listened hon pm shrinarendramodi ji mannkibaat...</td>\n",
              "    </tr>\n",
              "    <tr>\n",
              "      <th>...</th>\n",
              "      <td>...</td>\n",
              "      <td>...</td>\n",
              "      <td>...</td>\n",
              "      <td>...</td>\n",
              "    </tr>\n",
              "    <tr>\n",
              "      <th>160183</th>\n",
              "      <td>517902912857460737</td>\n",
              "      <td>517902912857460737</td>\n",
              "      <td>2014-10-03</td>\n",
              "      <td>billion population get hear modi air oath cere...</td>\n",
              "    </tr>\n",
              "    <tr>\n",
              "      <th>160184</th>\n",
              "      <td>517900645626421248</td>\n",
              "      <td>517900645626421248</td>\n",
              "      <td>2014-10-03</td>\n",
              "      <td>live streaming narendramodi speech mannkibaat ...</td>\n",
              "    </tr>\n",
              "    <tr>\n",
              "      <th>160185</th>\n",
              "      <td>517900128561004544</td>\n",
              "      <td>517900128561004544</td>\n",
              "      <td>2014-10-03</td>\n",
              "      <td>rj namo mannkibaat airnewsalerts</td>\n",
              "    </tr>\n",
              "    <tr>\n",
              "      <th>160186</th>\n",
              "      <td>517881722302513152</td>\n",
              "      <td>517881722302513152</td>\n",
              "      <td>2014-10-03</td>\n",
              "      <td>listen mannkibaat stations narendramodi</td>\n",
              "    </tr>\n",
              "    <tr>\n",
              "      <th>160187</th>\n",
              "      <td>517876236585304064</td>\n",
              "      <td>517876236585304064</td>\n",
              "      <td>2014-10-03</td>\n",
              "      <td>mannkibaat humare prime minister narendra modi...</td>\n",
              "    </tr>\n",
              "  </tbody>\n",
              "</table>\n",
              "<p>160188 rows × 4 columns</p>\n",
              "</div>\n",
              "      <button class=\"colab-df-convert\" onclick=\"convertToInteractive('df-1bbe0c23-edd4-4339-8601-86336bc24803')\"\n",
              "              title=\"Convert this dataframe to an interactive table.\"\n",
              "              style=\"display:none;\">\n",
              "        \n",
              "  <svg xmlns=\"http://www.w3.org/2000/svg\" height=\"24px\"viewBox=\"0 0 24 24\"\n",
              "       width=\"24px\">\n",
              "    <path d=\"M0 0h24v24H0V0z\" fill=\"none\"/>\n",
              "    <path d=\"M18.56 5.44l.94 2.06.94-2.06 2.06-.94-2.06-.94-.94-2.06-.94 2.06-2.06.94zm-11 1L8.5 8.5l.94-2.06 2.06-.94-2.06-.94L8.5 2.5l-.94 2.06-2.06.94zm10 10l.94 2.06.94-2.06 2.06-.94-2.06-.94-.94-2.06-.94 2.06-2.06.94z\"/><path d=\"M17.41 7.96l-1.37-1.37c-.4-.4-.92-.59-1.43-.59-.52 0-1.04.2-1.43.59L10.3 9.45l-7.72 7.72c-.78.78-.78 2.05 0 2.83L4 21.41c.39.39.9.59 1.41.59.51 0 1.02-.2 1.41-.59l7.78-7.78 2.81-2.81c.8-.78.8-2.07 0-2.86zM5.41 20L4 18.59l7.72-7.72 1.47 1.35L5.41 20z\"/>\n",
              "  </svg>\n",
              "      </button>\n",
              "      \n",
              "  <style>\n",
              "    .colab-df-container {\n",
              "      display:flex;\n",
              "      flex-wrap:wrap;\n",
              "      gap: 12px;\n",
              "    }\n",
              "\n",
              "    .colab-df-convert {\n",
              "      background-color: #E8F0FE;\n",
              "      border: none;\n",
              "      border-radius: 50%;\n",
              "      cursor: pointer;\n",
              "      display: none;\n",
              "      fill: #1967D2;\n",
              "      height: 32px;\n",
              "      padding: 0 0 0 0;\n",
              "      width: 32px;\n",
              "    }\n",
              "\n",
              "    .colab-df-convert:hover {\n",
              "      background-color: #E2EBFA;\n",
              "      box-shadow: 0px 1px 2px rgba(60, 64, 67, 0.3), 0px 1px 3px 1px rgba(60, 64, 67, 0.15);\n",
              "      fill: #174EA6;\n",
              "    }\n",
              "\n",
              "    [theme=dark] .colab-df-convert {\n",
              "      background-color: #3B4455;\n",
              "      fill: #D2E3FC;\n",
              "    }\n",
              "\n",
              "    [theme=dark] .colab-df-convert:hover {\n",
              "      background-color: #434B5C;\n",
              "      box-shadow: 0px 1px 3px 1px rgba(0, 0, 0, 0.15);\n",
              "      filter: drop-shadow(0px 1px 2px rgba(0, 0, 0, 0.3));\n",
              "      fill: #FFFFFF;\n",
              "    }\n",
              "  </style>\n",
              "\n",
              "      <script>\n",
              "        const buttonEl =\n",
              "          document.querySelector('#df-1bbe0c23-edd4-4339-8601-86336bc24803 button.colab-df-convert');\n",
              "        buttonEl.style.display =\n",
              "          google.colab.kernel.accessAllowed ? 'block' : 'none';\n",
              "\n",
              "        async function convertToInteractive(key) {\n",
              "          const element = document.querySelector('#df-1bbe0c23-edd4-4339-8601-86336bc24803');\n",
              "          const dataTable =\n",
              "            await google.colab.kernel.invokeFunction('convertToInteractive',\n",
              "                                                     [key], {});\n",
              "          if (!dataTable) return;\n",
              "\n",
              "          const docLinkHtml = 'Like what you see? Visit the ' +\n",
              "            '<a target=\"_blank\" href=https://colab.research.google.com/notebooks/data_table.ipynb>data table notebook</a>'\n",
              "            + ' to learn more about interactive tables.';\n",
              "          element.innerHTML = '';\n",
              "          dataTable['output_type'] = 'display_data';\n",
              "          await google.colab.output.renderOutput(dataTable, element);\n",
              "          const docLink = document.createElement('div');\n",
              "          docLink.innerHTML = docLinkHtml;\n",
              "          element.appendChild(docLink);\n",
              "        }\n",
              "      </script>\n",
              "    </div>\n",
              "  </div>\n",
              "  "
            ],
            "text/plain": [
              "                 Unnamed: 0  ...                                            content\n",
              "0       1452749734716661762  ...                           mannkibaat via namo app \n",
              "1       1452725732002697219  ...  mannkibaat pmmodi mygovindia stand india gover...\n",
              "2       1452720861367078912  ...               local mannkibaat httpstcoagncronqjh \n",
              "3       1452720388371357699  ...  javedmansari langamahesh nobody bjp would want...\n",
              "4       1452713887451607044  ...  listened hon pm shrinarendramodi ji mannkibaat...\n",
              "...                     ...  ...                                                ...\n",
              "160183   517902912857460737  ...  billion population get hear modi air oath cere...\n",
              "160184   517900645626421248  ...  live streaming narendramodi speech mannkibaat ...\n",
              "160185   517900128561004544  ...                  rj namo mannkibaat airnewsalerts \n",
              "160186   517881722302513152  ...           listen mannkibaat stations narendramodi \n",
              "160187   517876236585304064  ...  mannkibaat humare prime minister narendra modi...\n",
              "\n",
              "[160188 rows x 4 columns]"
            ]
          },
          "metadata": {},
          "execution_count": 146
        }
      ]
    },
    {
      "cell_type": "code",
      "metadata": {
        "id": "wwNq7Fq3V3QQ",
        "collapsed": true
      },
      "source": [
        "def remove_newlines_tabs_multispaces( string ):\n",
        "  new_string = \"\"\n",
        "  for i in string:\n",
        "    if i != '\\n':\n",
        "      new_string += i\n",
        "    else:\n",
        "      new_string += ' '\n",
        "  \n",
        "  string = \"\"\n",
        "  for i in new_string:\n",
        "    if i != '\\t':\n",
        "      string += i\n",
        "    else:\n",
        "      string += ' '\n",
        "  \n",
        "  new_string = \"\"\n",
        "  for i in range(len(string)-1):\n",
        "    if( string[i] != ' ' ):\n",
        "      new_string += string[i]\n",
        "    else:\n",
        "      if string[i+1] == ' ':\n",
        "        continue\n",
        "      else:\n",
        "        new_string += string[i]\n",
        "  return new_string\n",
        "def word_frequency_table( paragraph ):\n",
        "  # paragraph = remove_newlines_tabs_multispaces( paragraph )\n",
        "  words = paragraph.strip().split(' ')\n",
        "  wft = {}\n",
        "  to_remove = [\"mannkibaat\", \"narendramodi\", \"pm\", \"modi\", \"via\", \"app\", \"namo\", \"amp\", \"rt\", \"ji\", \"ki\", \"also\"]\n",
        "  for i in words:\n",
        "    if i in to_remove:\n",
        "      continue\n",
        "    if \"http\" in i:\n",
        "      continue\n",
        "    if i in wft.keys():\n",
        "      wft[i] += 1\n",
        "    else:\n",
        "      wft[i] = 1\n",
        "\n",
        "  return wft\n",
        "\n",
        "text = \"\"\n",
        "for i,r in mkb.iterrows():\n",
        "  text += (r['Cleaned_content'])\n",
        "\n",
        "wf_mkb = word_frequency_table(text)\n",
        "\n",
        "text = \"\"\n",
        "for i,r in tweets.iterrows():\n",
        "  text += (r['content'])\n",
        "\n",
        "wf_tweets = word_frequency_table(text)"
      ],
      "execution_count": null,
      "outputs": []
    },
    {
      "cell_type": "code",
      "metadata": {
        "id": "kk7I9yCMV3OM",
        "colab": {
          "base_uri": "https://localhost:8080/"
        },
        "outputId": "e5008e9e-a076-4e76-a453-54317ef85250"
      },
      "source": [
        "wf_mkb_top30 = {k: v/ len(wf_mkb) for k, v in sorted(wf_mkb.items(), key=lambda item: item[1], reverse=True)[1:31]}\n",
        "wf_mkb_top30"
      ],
      "execution_count": null,
      "outputs": [
        {
          "output_type": "execute_result",
          "data": {
            "text/plain": [
              "{'baat': 0.028894713290289586,\n",
              " 'come': 0.026273732659975707,\n",
              " 'country': 0.07958831426197022,\n",
              " 'countrymen': 0.0476890622003452,\n",
              " 'day': 0.03483986447612351,\n",
              " 'dear': 0.034200600907754265,\n",
              " 'even': 0.02563446909160647,\n",
              " 'every': 0.0366937288243943,\n",
              " 'friends': 0.0350955699034712,\n",
              " 'get': 0.028830786933452663,\n",
              " 'government': 0.02895863964712651,\n",
              " 'india': 0.08444671738157643,\n",
              " 'know': 0.02915041871763728,\n",
              " 'life': 0.03477593811928658,\n",
              " 'like': 0.036054465256025056,\n",
              " 'mann': 0.028702934219778816,\n",
              " 'many': 0.06232819791600077,\n",
              " 'must': 0.02991753499968037,\n",
              " 'new': 0.04641053506360673,\n",
              " 'one': 0.06705874832193313,\n",
              " 'people': 0.09576168254171195,\n",
              " 'time': 0.04673016684779135,\n",
              " 'today': 0.036821581538068145,\n",
              " 'us': 0.051077159112702164,\n",
              " 'water': 0.02684906987150802,\n",
              " 'way': 0.026401585373649554,\n",
              " 'world': 0.041935690085022057,\n",
              " 'would': 0.04116857380297897,\n",
              " 'year': 0.026081953589464937,\n",
              " 'years': 0.025762321805280316}"
            ]
          },
          "metadata": {},
          "execution_count": 148
        }
      ]
    },
    {
      "cell_type": "code",
      "metadata": {
        "id": "kKoSVIO1V3LZ"
      },
      "source": [
        "wf_tweets_top30 = {}\n",
        "for i in wf_mkb_top30.keys():\n",
        "  if i in wf_tweets.keys():\n",
        "    wf_tweets_top30[i] = wf_tweets[i] / len(wf_tweets)\n",
        "  else:\n",
        "    wf_tweets_top30[i] = 0"
      ],
      "execution_count": null,
      "outputs": []
    },
    {
      "cell_type": "code",
      "metadata": {
        "id": "1J6YQ28yV3Ii",
        "colab": {
          "base_uri": "https://localhost:8080/"
        },
        "outputId": "228e948d-3a84-45c0-85d6-bd253072ec3e"
      },
      "source": [
        "wf_tweets_top30"
      ],
      "execution_count": null,
      "outputs": [
        {
          "output_type": "execute_result",
          "data": {
            "text/plain": [
              "{'baat': 0.0588787208883862,\n",
              " 'come': 0.010989152228677189,\n",
              " 'country': 0.04555035730810755,\n",
              " 'countrymen': 0.003624492314019845,\n",
              " 'day': 0.03312169040152177,\n",
              " 'dear': 0.007814508251503779,\n",
              " 'even': 0.017017119942419414,\n",
              " 'every': 0.031964937535345225,\n",
              " 'friends': 0.004125751889363015,\n",
              " 'get': 0.017788288519870445,\n",
              " 'government': 0.011888848902370058,\n",
              " 'india': 0.2063904169451442,\n",
              " 'know': 0.0170299727520436,\n",
              " 'life': 0.020731581923808546,\n",
              " 'like': 0.027813480026733842,\n",
              " 'mann': 0.04621870340856511,\n",
              " 'many': 0.0262582900622076,\n",
              " 'must': 0.019639093105752917,\n",
              " 'new': 0.04130893013212688,\n",
              " 'one': 0.042979795383270784,\n",
              " 'people': 0.07628142511953113,\n",
              " 'time': 0.033455863451750556,\n",
              " 'today': 0.054611588093157165,\n",
              " 'us': 0.04438075163230682,\n",
              " 'water': 0.025847000154233715,\n",
              " 'way': 0.012660017479821088,\n",
              " 'world': 0.050267338440183024,\n",
              " 'would': 0.012351550048840677,\n",
              " 'year': 0.025744177677240243,\n",
              " 'years': 0.024381779857076756}"
            ]
          },
          "metadata": {},
          "execution_count": 150
        }
      ]
    },
    {
      "cell_type": "code",
      "metadata": {
        "colab": {
          "base_uri": "https://localhost:8080/",
          "height": 537
        },
        "collapsed": true,
        "id": "U6w9RgGckyTN",
        "outputId": "d82eefa0-f05e-4f9b-ed6d-cbf867f25235"
      },
      "source": [
        "import plotly.graph_objects as go\n",
        "def plot_bar_graph(xs, ys, names, xlabel, ylabel, title):# create figure object\n",
        "    fig = go.Figure()# create bar chart for each of the series provided \n",
        "    for (x, y), name in zip(zip(xs, ys), names):fig.add_trace(go.Bar(x=x, y=y, name=name, orientation='v'))# Here we modify the tickangle of the xaxis, resulting in rotated labels.\n",
        "    fig.update_layout(\n",
        "        barmode='group',\n",
        "        autosize=False,\n",
        "        width=1300,\n",
        "        height=500,\n",
        "        margin=dict(l=5, r=5, b=5, t=50, pad=5),\n",
        "        xaxis={'type': 'category', 'title': xlabel},\n",
        "        yaxis_title=ylabel,\n",
        "        title=title\n",
        "    )\n",
        "    fig.show()\n",
        "\n",
        "plot_bar_graph([[k for k in wf_mkb_top30.keys()], [k for k in wf_tweets_top30.keys()]], [[v for k,v in wf_mkb_top30.items()], [v for k,v in wf_tweets_top30.items()]], [\"mkb\",\"twitter\"], \"Words\", \"Frequency\", \"Frequency of Words across Targets\")"
      ],
      "execution_count": null,
      "outputs": [
        {
          "output_type": "display_data",
          "data": {
            "text/html": [
              "<html>\n",
              "<head><meta charset=\"utf-8\" /></head>\n",
              "<body>\n",
              "    <div>            <script src=\"https://cdnjs.cloudflare.com/ajax/libs/mathjax/2.7.5/MathJax.js?config=TeX-AMS-MML_SVG\"></script><script type=\"text/javascript\">if (window.MathJax) {MathJax.Hub.Config({SVG: {font: \"STIX-Web\"}});}</script>                <script type=\"text/javascript\">window.PlotlyConfig = {MathJaxConfig: 'local'};</script>\n",
              "        <script src=\"https://cdn.plot.ly/plotly-2.8.3.min.js\"></script>                <div id=\"0ddc64b6-2819-41c3-bdc2-13217eb96d5c\" class=\"plotly-graph-div\" style=\"height:500px; width:1300px;\"></div>            <script type=\"text/javascript\">                                    window.PLOTLYENV=window.PLOTLYENV || {};                                    if (document.getElementById(\"0ddc64b6-2819-41c3-bdc2-13217eb96d5c\")) {                    Plotly.newPlot(                        \"0ddc64b6-2819-41c3-bdc2-13217eb96d5c\",                        [{\"name\":\"mkb\",\"orientation\":\"v\",\"x\":[\"people\",\"india\",\"country\",\"one\",\"many\",\"us\",\"countrymen\",\"time\",\"new\",\"world\",\"would\",\"today\",\"every\",\"like\",\"friends\",\"day\",\"life\",\"dear\",\"must\",\"know\",\"government\",\"baat\",\"get\",\"mann\",\"water\",\"way\",\"come\",\"year\",\"years\",\"even\"],\"y\":[0.09576168254171195,0.08444671738157643,0.07958831426197022,0.06705874832193313,0.06232819791600077,0.051077159112702164,0.0476890622003452,0.04673016684779135,0.04641053506360673,0.041935690085022057,0.04116857380297897,0.036821581538068145,0.0366937288243943,0.036054465256025056,0.0350955699034712,0.03483986447612351,0.03477593811928658,0.034200600907754265,0.02991753499968037,0.02915041871763728,0.02895863964712651,0.028894713290289586,0.028830786933452663,0.028702934219778816,0.02684906987150802,0.026401585373649554,0.026273732659975707,0.026081953589464937,0.025762321805280316,0.02563446909160647],\"type\":\"bar\"},{\"name\":\"twitter\",\"orientation\":\"v\",\"x\":[\"people\",\"india\",\"country\",\"one\",\"many\",\"us\",\"countrymen\",\"time\",\"new\",\"world\",\"would\",\"today\",\"every\",\"like\",\"friends\",\"day\",\"life\",\"dear\",\"must\",\"know\",\"government\",\"baat\",\"get\",\"mann\",\"water\",\"way\",\"come\",\"year\",\"years\",\"even\"],\"y\":[0.07628142511953113,0.2063904169451442,0.04555035730810755,0.042979795383270784,0.0262582900622076,0.04438075163230682,0.003624492314019845,0.033455863451750556,0.04130893013212688,0.050267338440183024,0.012351550048840677,0.054611588093157165,0.031964937535345225,0.027813480026733842,0.004125751889363015,0.03312169040152177,0.020731581923808546,0.007814508251503779,0.019639093105752917,0.0170299727520436,0.011888848902370058,0.0588787208883862,0.017788288519870445,0.04621870340856511,0.025847000154233715,0.012660017479821088,0.010989152228677189,0.025744177677240243,0.024381779857076756,0.017017119942419414],\"type\":\"bar\"}],                        {\"template\":{\"data\":{\"bar\":[{\"error_x\":{\"color\":\"#2a3f5f\"},\"error_y\":{\"color\":\"#2a3f5f\"},\"marker\":{\"line\":{\"color\":\"#E5ECF6\",\"width\":0.5},\"pattern\":{\"fillmode\":\"overlay\",\"size\":10,\"solidity\":0.2}},\"type\":\"bar\"}],\"barpolar\":[{\"marker\":{\"line\":{\"color\":\"#E5ECF6\",\"width\":0.5},\"pattern\":{\"fillmode\":\"overlay\",\"size\":10,\"solidity\":0.2}},\"type\":\"barpolar\"}],\"carpet\":[{\"aaxis\":{\"endlinecolor\":\"#2a3f5f\",\"gridcolor\":\"white\",\"linecolor\":\"white\",\"minorgridcolor\":\"white\",\"startlinecolor\":\"#2a3f5f\"},\"baxis\":{\"endlinecolor\":\"#2a3f5f\",\"gridcolor\":\"white\",\"linecolor\":\"white\",\"minorgridcolor\":\"white\",\"startlinecolor\":\"#2a3f5f\"},\"type\":\"carpet\"}],\"choropleth\":[{\"colorbar\":{\"outlinewidth\":0,\"ticks\":\"\"},\"type\":\"choropleth\"}],\"contour\":[{\"colorbar\":{\"outlinewidth\":0,\"ticks\":\"\"},\"colorscale\":[[0.0,\"#0d0887\"],[0.1111111111111111,\"#46039f\"],[0.2222222222222222,\"#7201a8\"],[0.3333333333333333,\"#9c179e\"],[0.4444444444444444,\"#bd3786\"],[0.5555555555555556,\"#d8576b\"],[0.6666666666666666,\"#ed7953\"],[0.7777777777777778,\"#fb9f3a\"],[0.8888888888888888,\"#fdca26\"],[1.0,\"#f0f921\"]],\"type\":\"contour\"}],\"contourcarpet\":[{\"colorbar\":{\"outlinewidth\":0,\"ticks\":\"\"},\"type\":\"contourcarpet\"}],\"heatmap\":[{\"colorbar\":{\"outlinewidth\":0,\"ticks\":\"\"},\"colorscale\":[[0.0,\"#0d0887\"],[0.1111111111111111,\"#46039f\"],[0.2222222222222222,\"#7201a8\"],[0.3333333333333333,\"#9c179e\"],[0.4444444444444444,\"#bd3786\"],[0.5555555555555556,\"#d8576b\"],[0.6666666666666666,\"#ed7953\"],[0.7777777777777778,\"#fb9f3a\"],[0.8888888888888888,\"#fdca26\"],[1.0,\"#f0f921\"]],\"type\":\"heatmap\"}],\"heatmapgl\":[{\"colorbar\":{\"outlinewidth\":0,\"ticks\":\"\"},\"colorscale\":[[0.0,\"#0d0887\"],[0.1111111111111111,\"#46039f\"],[0.2222222222222222,\"#7201a8\"],[0.3333333333333333,\"#9c179e\"],[0.4444444444444444,\"#bd3786\"],[0.5555555555555556,\"#d8576b\"],[0.6666666666666666,\"#ed7953\"],[0.7777777777777778,\"#fb9f3a\"],[0.8888888888888888,\"#fdca26\"],[1.0,\"#f0f921\"]],\"type\":\"heatmapgl\"}],\"histogram\":[{\"marker\":{\"pattern\":{\"fillmode\":\"overlay\",\"size\":10,\"solidity\":0.2}},\"type\":\"histogram\"}],\"histogram2d\":[{\"colorbar\":{\"outlinewidth\":0,\"ticks\":\"\"},\"colorscale\":[[0.0,\"#0d0887\"],[0.1111111111111111,\"#46039f\"],[0.2222222222222222,\"#7201a8\"],[0.3333333333333333,\"#9c179e\"],[0.4444444444444444,\"#bd3786\"],[0.5555555555555556,\"#d8576b\"],[0.6666666666666666,\"#ed7953\"],[0.7777777777777778,\"#fb9f3a\"],[0.8888888888888888,\"#fdca26\"],[1.0,\"#f0f921\"]],\"type\":\"histogram2d\"}],\"histogram2dcontour\":[{\"colorbar\":{\"outlinewidth\":0,\"ticks\":\"\"},\"colorscale\":[[0.0,\"#0d0887\"],[0.1111111111111111,\"#46039f\"],[0.2222222222222222,\"#7201a8\"],[0.3333333333333333,\"#9c179e\"],[0.4444444444444444,\"#bd3786\"],[0.5555555555555556,\"#d8576b\"],[0.6666666666666666,\"#ed7953\"],[0.7777777777777778,\"#fb9f3a\"],[0.8888888888888888,\"#fdca26\"],[1.0,\"#f0f921\"]],\"type\":\"histogram2dcontour\"}],\"mesh3d\":[{\"colorbar\":{\"outlinewidth\":0,\"ticks\":\"\"},\"type\":\"mesh3d\"}],\"parcoords\":[{\"line\":{\"colorbar\":{\"outlinewidth\":0,\"ticks\":\"\"}},\"type\":\"parcoords\"}],\"pie\":[{\"automargin\":true,\"type\":\"pie\"}],\"scatter\":[{\"marker\":{\"colorbar\":{\"outlinewidth\":0,\"ticks\":\"\"}},\"type\":\"scatter\"}],\"scatter3d\":[{\"line\":{\"colorbar\":{\"outlinewidth\":0,\"ticks\":\"\"}},\"marker\":{\"colorbar\":{\"outlinewidth\":0,\"ticks\":\"\"}},\"type\":\"scatter3d\"}],\"scattercarpet\":[{\"marker\":{\"colorbar\":{\"outlinewidth\":0,\"ticks\":\"\"}},\"type\":\"scattercarpet\"}],\"scattergeo\":[{\"marker\":{\"colorbar\":{\"outlinewidth\":0,\"ticks\":\"\"}},\"type\":\"scattergeo\"}],\"scattergl\":[{\"marker\":{\"colorbar\":{\"outlinewidth\":0,\"ticks\":\"\"}},\"type\":\"scattergl\"}],\"scattermapbox\":[{\"marker\":{\"colorbar\":{\"outlinewidth\":0,\"ticks\":\"\"}},\"type\":\"scattermapbox\"}],\"scatterpolar\":[{\"marker\":{\"colorbar\":{\"outlinewidth\":0,\"ticks\":\"\"}},\"type\":\"scatterpolar\"}],\"scatterpolargl\":[{\"marker\":{\"colorbar\":{\"outlinewidth\":0,\"ticks\":\"\"}},\"type\":\"scatterpolargl\"}],\"scatterternary\":[{\"marker\":{\"colorbar\":{\"outlinewidth\":0,\"ticks\":\"\"}},\"type\":\"scatterternary\"}],\"surface\":[{\"colorbar\":{\"outlinewidth\":0,\"ticks\":\"\"},\"colorscale\":[[0.0,\"#0d0887\"],[0.1111111111111111,\"#46039f\"],[0.2222222222222222,\"#7201a8\"],[0.3333333333333333,\"#9c179e\"],[0.4444444444444444,\"#bd3786\"],[0.5555555555555556,\"#d8576b\"],[0.6666666666666666,\"#ed7953\"],[0.7777777777777778,\"#fb9f3a\"],[0.8888888888888888,\"#fdca26\"],[1.0,\"#f0f921\"]],\"type\":\"surface\"}],\"table\":[{\"cells\":{\"fill\":{\"color\":\"#EBF0F8\"},\"line\":{\"color\":\"white\"}},\"header\":{\"fill\":{\"color\":\"#C8D4E3\"},\"line\":{\"color\":\"white\"}},\"type\":\"table\"}]},\"layout\":{\"annotationdefaults\":{\"arrowcolor\":\"#2a3f5f\",\"arrowhead\":0,\"arrowwidth\":1},\"autotypenumbers\":\"strict\",\"coloraxis\":{\"colorbar\":{\"outlinewidth\":0,\"ticks\":\"\"}},\"colorscale\":{\"diverging\":[[0,\"#8e0152\"],[0.1,\"#c51b7d\"],[0.2,\"#de77ae\"],[0.3,\"#f1b6da\"],[0.4,\"#fde0ef\"],[0.5,\"#f7f7f7\"],[0.6,\"#e6f5d0\"],[0.7,\"#b8e186\"],[0.8,\"#7fbc41\"],[0.9,\"#4d9221\"],[1,\"#276419\"]],\"sequential\":[[0.0,\"#0d0887\"],[0.1111111111111111,\"#46039f\"],[0.2222222222222222,\"#7201a8\"],[0.3333333333333333,\"#9c179e\"],[0.4444444444444444,\"#bd3786\"],[0.5555555555555556,\"#d8576b\"],[0.6666666666666666,\"#ed7953\"],[0.7777777777777778,\"#fb9f3a\"],[0.8888888888888888,\"#fdca26\"],[1.0,\"#f0f921\"]],\"sequentialminus\":[[0.0,\"#0d0887\"],[0.1111111111111111,\"#46039f\"],[0.2222222222222222,\"#7201a8\"],[0.3333333333333333,\"#9c179e\"],[0.4444444444444444,\"#bd3786\"],[0.5555555555555556,\"#d8576b\"],[0.6666666666666666,\"#ed7953\"],[0.7777777777777778,\"#fb9f3a\"],[0.8888888888888888,\"#fdca26\"],[1.0,\"#f0f921\"]]},\"colorway\":[\"#636efa\",\"#EF553B\",\"#00cc96\",\"#ab63fa\",\"#FFA15A\",\"#19d3f3\",\"#FF6692\",\"#B6E880\",\"#FF97FF\",\"#FECB52\"],\"font\":{\"color\":\"#2a3f5f\"},\"geo\":{\"bgcolor\":\"white\",\"lakecolor\":\"white\",\"landcolor\":\"#E5ECF6\",\"showlakes\":true,\"showland\":true,\"subunitcolor\":\"white\"},\"hoverlabel\":{\"align\":\"left\"},\"hovermode\":\"closest\",\"mapbox\":{\"style\":\"light\"},\"paper_bgcolor\":\"white\",\"plot_bgcolor\":\"#E5ECF6\",\"polar\":{\"angularaxis\":{\"gridcolor\":\"white\",\"linecolor\":\"white\",\"ticks\":\"\"},\"bgcolor\":\"#E5ECF6\",\"radialaxis\":{\"gridcolor\":\"white\",\"linecolor\":\"white\",\"ticks\":\"\"}},\"scene\":{\"xaxis\":{\"backgroundcolor\":\"#E5ECF6\",\"gridcolor\":\"white\",\"gridwidth\":2,\"linecolor\":\"white\",\"showbackground\":true,\"ticks\":\"\",\"zerolinecolor\":\"white\"},\"yaxis\":{\"backgroundcolor\":\"#E5ECF6\",\"gridcolor\":\"white\",\"gridwidth\":2,\"linecolor\":\"white\",\"showbackground\":true,\"ticks\":\"\",\"zerolinecolor\":\"white\"},\"zaxis\":{\"backgroundcolor\":\"#E5ECF6\",\"gridcolor\":\"white\",\"gridwidth\":2,\"linecolor\":\"white\",\"showbackground\":true,\"ticks\":\"\",\"zerolinecolor\":\"white\"}},\"shapedefaults\":{\"line\":{\"color\":\"#2a3f5f\"}},\"ternary\":{\"aaxis\":{\"gridcolor\":\"white\",\"linecolor\":\"white\",\"ticks\":\"\"},\"baxis\":{\"gridcolor\":\"white\",\"linecolor\":\"white\",\"ticks\":\"\"},\"bgcolor\":\"#E5ECF6\",\"caxis\":{\"gridcolor\":\"white\",\"linecolor\":\"white\",\"ticks\":\"\"}},\"title\":{\"x\":0.05},\"xaxis\":{\"automargin\":true,\"gridcolor\":\"white\",\"linecolor\":\"white\",\"ticks\":\"\",\"title\":{\"standoff\":15},\"zerolinecolor\":\"white\",\"zerolinewidth\":2},\"yaxis\":{\"automargin\":true,\"gridcolor\":\"white\",\"linecolor\":\"white\",\"ticks\":\"\",\"title\":{\"standoff\":15},\"zerolinecolor\":\"white\",\"zerolinewidth\":2}}},\"margin\":{\"l\":5,\"r\":5,\"b\":5,\"t\":50,\"pad\":5},\"xaxis\":{\"type\":\"category\",\"title\":{\"text\":\"Words\"}},\"barmode\":\"group\",\"autosize\":false,\"width\":1300,\"height\":500,\"yaxis\":{\"title\":{\"text\":\"Frequency\"}},\"title\":{\"text\":\"Frequency of Words across Targets\"}},                        {\"responsive\": true}                    ).then(function(){\n",
              "                            \n",
              "var gd = document.getElementById('0ddc64b6-2819-41c3-bdc2-13217eb96d5c');\n",
              "var x = new MutationObserver(function (mutations, observer) {{\n",
              "        var display = window.getComputedStyle(gd).display;\n",
              "        if (!display || display === 'none') {{\n",
              "            console.log([gd, 'removed!']);\n",
              "            Plotly.purge(gd);\n",
              "            observer.disconnect();\n",
              "        }}\n",
              "}});\n",
              "\n",
              "// Listen for the removal of the full notebook cells\n",
              "var notebookContainer = gd.closest('#notebook-container');\n",
              "if (notebookContainer) {{\n",
              "    x.observe(notebookContainer, {childList: true});\n",
              "}}\n",
              "\n",
              "// Listen for the clearing of the current output cell\n",
              "var outputEl = gd.closest('.output');\n",
              "if (outputEl) {{\n",
              "    x.observe(outputEl, {childList: true});\n",
              "}}\n",
              "\n",
              "                        })                };                            </script>        </div>\n",
              "</body>\n",
              "</html>"
            ]
          },
          "metadata": {}
        }
      ]
    },
    {
      "cell_type": "code",
      "metadata": {
        "colab": {
          "base_uri": "https://localhost:8080/"
        },
        "id": "qI2avfuRkyQW",
        "outputId": "e7e271f2-5918-42e9-9c8d-b9061541e147"
      },
      "source": [
        "data1 = list(wf_mkb_top30.values())\n",
        "data1"
      ],
      "execution_count": null,
      "outputs": [
        {
          "output_type": "execute_result",
          "data": {
            "text/plain": [
              "[0.09576168254171195,\n",
              " 0.08444671738157643,\n",
              " 0.07958831426197022,\n",
              " 0.06705874832193313,\n",
              " 0.06232819791600077,\n",
              " 0.051077159112702164,\n",
              " 0.0476890622003452,\n",
              " 0.04673016684779135,\n",
              " 0.04641053506360673,\n",
              " 0.041935690085022057,\n",
              " 0.04116857380297897,\n",
              " 0.036821581538068145,\n",
              " 0.0366937288243943,\n",
              " 0.036054465256025056,\n",
              " 0.0350955699034712,\n",
              " 0.03483986447612351,\n",
              " 0.03477593811928658,\n",
              " 0.034200600907754265,\n",
              " 0.02991753499968037,\n",
              " 0.02915041871763728,\n",
              " 0.02895863964712651,\n",
              " 0.028894713290289586,\n",
              " 0.028830786933452663,\n",
              " 0.028702934219778816,\n",
              " 0.02684906987150802,\n",
              " 0.026401585373649554,\n",
              " 0.026273732659975707,\n",
              " 0.026081953589464937,\n",
              " 0.025762321805280316,\n",
              " 0.02563446909160647]"
            ]
          },
          "metadata": {},
          "execution_count": 152
        }
      ]
    },
    {
      "cell_type": "code",
      "metadata": {
        "colab": {
          "base_uri": "https://localhost:8080/"
        },
        "id": "TzYRRAbwkyN1",
        "outputId": "b233ee73-bbd4-4aa9-b785-2321e327e3f7"
      },
      "source": [
        "data2 = list(wf_tweets_top30.values())\n",
        "data2"
      ],
      "execution_count": null,
      "outputs": [
        {
          "output_type": "execute_result",
          "data": {
            "text/plain": [
              "[0.07628142511953113,\n",
              " 0.2063904169451442,\n",
              " 0.04555035730810755,\n",
              " 0.042979795383270784,\n",
              " 0.0262582900622076,\n",
              " 0.04438075163230682,\n",
              " 0.003624492314019845,\n",
              " 0.033455863451750556,\n",
              " 0.04130893013212688,\n",
              " 0.050267338440183024,\n",
              " 0.012351550048840677,\n",
              " 0.054611588093157165,\n",
              " 0.031964937535345225,\n",
              " 0.027813480026733842,\n",
              " 0.004125751889363015,\n",
              " 0.03312169040152177,\n",
              " 0.020731581923808546,\n",
              " 0.007814508251503779,\n",
              " 0.019639093105752917,\n",
              " 0.0170299727520436,\n",
              " 0.011888848902370058,\n",
              " 0.0588787208883862,\n",
              " 0.017788288519870445,\n",
              " 0.04621870340856511,\n",
              " 0.025847000154233715,\n",
              " 0.012660017479821088,\n",
              " 0.010989152228677189,\n",
              " 0.025744177677240243,\n",
              " 0.024381779857076756,\n",
              " 0.017017119942419414]"
            ]
          },
          "metadata": {},
          "execution_count": 153
        }
      ]
    },
    {
      "cell_type": "code",
      "metadata": {
        "colab": {
          "base_uri": "https://localhost:8080/"
        },
        "id": "OS_3LELUkyLj",
        "outputId": "c784d173-1087-4c9c-8553-62b10fc2294a"
      },
      "source": [
        "# generate gaussian data samples\n",
        "from numpy.random import seed\n",
        "from numpy.random import randn\n",
        "from numpy import mean\n",
        "from numpy import std\n",
        "# summarize\n",
        "print('data1: mean=%.3f stdv=%.3f' % (mean(data1), std(data1)))\n",
        "print('data2: mean=%.3f stdv=%.3f' % (mean(data2), std(data2)))"
      ],
      "execution_count": null,
      "outputs": [
        {
          "output_type": "stream",
          "name": "stdout",
          "text": [
            "data1: mean=0.041 stdv=0.018\n",
            "data2: mean=0.035 stdv=0.036\n"
          ]
        }
      ]
    },
    {
      "cell_type": "markdown",
      "source": [
        "# Mann-Whitney U Test\n",
        "The Mann-Whitney U test is a non-parametric statistical significance test for determining whether two independent samples were drawn from a population with the same distribution.\n",
        "\n",
        "The test was named for Henry Mann and Donald Whitney, although it is sometimes called the Wilcoxon-Mann-Whitney test, also named for Frank Wilcoxon, who also developed a variation of the test.\n",
        "\n",
        "The two samples are combined and rank ordered together. The strategy is to determine if the values from the two samples are randomly mixed in the rank ordering or if they are clustered at opposite ends when combined. A random rank order would mean that the two samples are not different, while a cluster of one sample values would indicate a difference between them.\n",
        "\n",
        "— Page 58, Nonparametric Statistics for Non-Statisticians: A Step-by-Step Approach, 2009.\n",
        "\n",
        "**H0 : Null Hypothesis** : The relationship between Mann-ki-baat and Twitter data is purely by chance.\n",
        "\n",
        "**H1 : Alternative Hypothesis** : There might be some relationship between Mann-ki-baat and Twitter data. This has to be further studied using Machine Learning techniques"
      ],
      "metadata": {
        "id": "mfz0tXvaVdDq"
      }
    },
    {
      "cell_type": "code",
      "metadata": {
        "colab": {
          "base_uri": "https://localhost:8080/"
        },
        "id": "v6jAO9JRlB7d",
        "outputId": "6e1d8d0b-8ff7-4533-a0ee-83e62018ae05"
      },
      "source": [
        "from numpy.random import seed\n",
        "from numpy.random import randn\n",
        "from scipy.stats import mannwhitneyu\n",
        "stat, p = mannwhitneyu(data1, data2)\n",
        "print('Statistics=%.3f, p=%.3f' % (stat, p))\n",
        "# interpret\n",
        "alpha = 0.05\n",
        "if p > alpha:\n",
        "\tprint('fail to reject H0')\n",
        "else:\n",
        "\tprint('reject H0')"
      ],
      "execution_count": null,
      "outputs": [
        {
          "output_type": "stream",
          "name": "stdout",
          "text": [
            "Statistics=283.000, p=0.007\n",
            "reject H0\n"
          ]
        }
      ]
    },
    {
      "cell_type": "markdown",
      "source": [
        "## Topic Modelling using LDA"
      ],
      "metadata": {
        "id": "yOAgmiKeVmcM"
      }
    },
    {
      "cell_type": "code",
      "source": [
        "def load():\n",
        "    df = pd.read_csv(\"MKB.csv\")\n",
        "    for i in range(0, 5):\n",
        "        topic(df, i)"
      ],
      "metadata": {
        "id": "fAKCqMuqVltz"
      },
      "execution_count": null,
      "outputs": []
    },
    {
      "cell_type": "code",
      "source": [
        "def topic(df1,k):\n",
        "    print(k)\n",
        "    p = figure(title=\"Graphical representation of Topics\", x_axis_label='Topic', y_axis_label='Value',plot_width=400 , plot_height = 400)\n",
        "    valuelist = []\n",
        "    strlist = []\n",
        "    tokens = []\n",
        "    lemmatized = []\n",
        "    c = 0\n",
        "    speech = df1['Cleaned_content'][k]\n",
        "    blob = TextBlob(speech)\n",
        "    noun =  blob.noun_phrases\n",
        "    stemmer = PorterStemmer()\n",
        "    sent= [w for w in sent_tokenize(speech.lower())]\n",
        "    for i in range(0, len(sent)):\n",
        "        tokens.append([w for w in word_tokenize(sent[i].lower()) if w.isalpha() and w not in STOPWORDS and not len(w)<=2 and w not in stop and w not in noun])\n",
        "    for i in tokens:\n",
        "        lemm = [wordnet_lemmatizer.lemmatize(t) for t in i]\n",
        "        lemmatized.append(lemm)\n",
        "    dictionary = Dictionary(lemmatized)\n",
        "    corpus = [dictionary.doc2bow(doc) for doc in lemmatized]\n",
        "    '''tfidf = TfidfModel(corpus)\n",
        "    corpus_tfidf = tfidf[corpus[0]]\n",
        "    sorted_tfidf = sorted(corpus_tfidf, key=lambda w: w[1], reverse=True)\n",
        "    for term_id, weight in sorted_tfidf:\n",
        "        strlist.append(dictionary.get(term_id))\n",
        "        valuelist.append(weight)'''\n",
        "    #print(strlist)\n",
        "    #print(valuelist)\n",
        "    #plt.barh(strlist, valuelist)\n",
        "    #plt.show()\n",
        "    t = 0\n",
        "    lda_model = gensim.models.LdaMulticore(corpus,num_topics=10, id2word=dictionary, passes=2)\n",
        "    K = lda_model.num_topics\n",
        "    topicWordProbMat = sorted(lda_model.print_topics(K), key=lambda tup: tup[1], reverse=True)\n",
        "    for line in topicWordProbMat:\n",
        "           tp, w = line\n",
        "           probs = w.split(\"+\")\n",
        "           y=0\n",
        "           for pr in probs:\n",
        "                #print(pr)\n",
        "                a = pr.split(\"*\")\n",
        "                #print(a)\n",
        "                valuelist.append(float(a[0]))\n",
        "                y += 1\n",
        "                strlist.append(a[1])\n",
        "                c = c + 1\n",
        "                #yr = str(df1['year'][k])\n",
        "                #mon = str(df1['month'][k])\n",
        "                ep = str(df1['Episode'][k])\n",
        "                plt.title(ep)\n",
        "                \n",
        "                plt.xlabel(\"Value\")\n",
        "                plt.ylabel(\"Topic\")\n",
        "                if(c>10):\n",
        "                    break\n",
        "    #print(valuelist)\n",
        "    #print(strlist)\n",
        "    plt.barh(strlist,valuelist,color='r')\n",
        "    plt.show()\n",
        "    '''\n",
        "    p.hbar(y=valuelist,\n",
        "           height=0.1,\n",
        "           left=0,\n",
        "           right=strlist,\n",
        "           color=\"navy\")\n",
        "    #p.xgrid.grid_line_color = None\n",
        "    #p.y_range.start = 0\n",
        "    '''\n",
        "    #layout = row(p)\n",
        "    #show(layout)"
      ],
      "metadata": {
        "id": "z566bICfVvze"
      },
      "execution_count": null,
      "outputs": []
    },
    {
      "cell_type": "code",
      "source": [
        "load()"
      ],
      "metadata": {
        "colab": {
          "base_uri": "https://localhost:8080/",
          "height": 1000
        },
        "id": "whitZsw_Vvw0",
        "outputId": "acbf3c63-0dd3-4184-de9d-865503878b1f"
      },
      "execution_count": null,
      "outputs": [
        {
          "output_type": "stream",
          "name": "stdout",
          "text": [
            "0\n"
          ]
        },
        {
          "output_type": "display_data",
          "data": {
            "image/png": "[encoded data removed]",
            "text/plain": [
              "<Figure size 432x288 with 1 Axes>"
            ]
          },
          "metadata": {
            "needs_background": "light"
          }
        },
        {
          "output_type": "stream",
          "name": "stdout",
          "text": [
            "1\n"
          ]
        },
        {
          "output_type": "display_data",
          "data": {
            "image/png": "[encoded data removed]",
            "text/plain": [
              "<Figure size 432x288 with 1 Axes>"
            ]
          },
          "metadata": {
            "needs_background": "light"
          }
        },
        {
          "output_type": "stream",
          "name": "stdout",
          "text": [
            "2\n"
          ]
        },
        {
          "output_type": "display_data",
          "data": {
            "image/png": "[encoded data removed]",
            "text/plain": [
              "<Figure size 432x288 with 1 Axes>"
            ]
          },
          "metadata": {
            "needs_background": "light"
          }
        },
        {
          "output_type": "stream",
          "name": "stdout",
          "text": [
            "3\n"
          ]
        },
        {
          "output_type": "display_data",
          "data": {
            "image/png": "[encoded data removed]",
            "text/plain": [
              "<Figure size 432x288 with 1 Axes>"
            ]
          },
          "metadata": {
            "needs_background": "light"
          }
        },
        {
          "output_type": "stream",
          "name": "stdout",
          "text": [
            "4\n"
          ]
        },
        {
          "output_type": "display_data",
          "data": {
            "image/png": "[encoded data removed]",
            "text/plain": [
              "<Figure size 432x288 with 1 Axes>"
            ]
          },
          "metadata": {
            "needs_background": "light"
          }
        }
      ]
    },
    {
      "cell_type": "code",
      "source": [
        "def word_freq(text, word):\n",
        "  textToken = nltk.word_tokenize(text)\n",
        "  #print(textToken)\n",
        "  counts = nltk.FreqDist(textToken)\n",
        "  #print(counts[word])\n",
        "  #print(counts[word]/len(textToken))\n",
        "  return [counts[x]/len(textToken) for x in word]"
      ],
      "metadata": {
        "id": "rRthB5h2Vvui"
      },
      "execution_count": null,
      "outputs": []
    },
    {
      "cell_type": "code",
      "source": [
        "def df_wf():\n",
        "  df = pd.read_csv('MKB.csv')\n",
        "  ls = []\n",
        "  for i in range(len(df)):\n",
        "    temp = word_freq(df['Cleaned_content'][i], [\"farmer\", \"corona\",\"lockdown\"])\n",
        "    ls.append([df['Episode'][i], temp])\n",
        "  \n",
        "  return ls"
      ],
      "metadata": {
        "id": "OWIG-hNwWT7y"
      },
      "execution_count": null,
      "outputs": []
    },
    {
      "cell_type": "code",
      "source": [
        "myLS = df_wf()\n",
        "myLS"
      ],
      "metadata": {
        "colab": {
          "base_uri": "https://localhost:8080/"
        },
        "id": "7tKIees6WT5E",
        "outputId": "5d0c6b5a-2445-4a0d-b18f-143193c541a1"
      },
      "execution_count": null,
      "outputs": [
        {
          "output_type": "execute_result",
          "data": {
            "text/plain": [
              "[[20211024, [0.0, 0.0004415011037527594, 0.0]],\n",
              " [20210926, [0.0, 0.001514386673397274, 0.0]],\n",
              " [20210829, [0.0, 0.00044072278536800354, 0.0]],\n",
              " [20210725, [0.0, 0.0014091122592766556, 0.0]],\n",
              " [20210627, [0.0, 0.008339952343129467, 0.0]],\n",
              " [20210530, [0.0, 0.007988380537400145, 0.00036310820624546115]],\n",
              " [20210425, [0.0, 0.009651699538396978, 0.0]],\n",
              " [20210328, [0.0, 0.001968503937007874, 0.0]],\n",
              " [20210228, [0.0005027652086475615, 0.003519356460532931, 0.0]],\n",
              " [20210131, [0.0, 0.0037313432835820895, 0.0005330490405117271]],\n",
              " [20201227, [0.0, 0.0028702640642939152, 0.0]],\n",
              " [20201129,\n",
              "  [0.0046415678184631255, 0.0036101083032490976, 0.0005157297576070139]],\n",
              " [20201025,\n",
              "  [0.0004803073967339097, 0.0009606147934678194, 0.0024015369836695487]],\n",
              " [20200927,\n",
              "  [0.003955696202531646, 0.0015822784810126582, 0.0007911392405063291]],\n",
              " [20200830,\n",
              "  [0.0005274261603375527, 0.0031645569620253164, 0.0010548523206751054]],\n",
              " [20200726, [0.0, 0.005112072355485647, 0.0]],\n",
              " [20200628,\n",
              "  [0.0009823182711198428, 0.0044204322200392925, 0.0029469548133595285]],\n",
              " [20200531,\n",
              "  [0.0005482456140350877, 0.00932017543859649, 0.0005482456140350877]],\n",
              " [20200426,\n",
              "  [0.0005411255411255411, 0.008116883116883116, 0.0021645021645021645]],\n",
              " [20200329, [0.0, 0.0081799591002045, 0.0016359918200408998]],\n",
              " [20200223, [0.0006724949562878278, 0.0, 0.0]],\n",
              " [20200126, [0.0, 0.0, 0.0]],\n",
              " [20191229, [0.0, 0.0, 0.0]],\n",
              " [20191124, [0.0, 0.0, 0.0]],\n",
              " [20191027, [0.0, 0.0, 0.0]],\n",
              " [20190929, [0.0, 0.0, 0.0]],\n",
              " [20190825, [0.0, 0.0, 0.0]],\n",
              " [20190728, [0.0005675368898978433, 0.0, 0.0]],\n",
              " [20190630, [0.0004528985507246377, 0.0, 0.0]],\n",
              " [20190224, [0.0005678591709256105, 0.0, 0.0]],\n",
              " [20190127, [0.0005184033177812338, 0.0, 0.0]],\n",
              " [20181230, [0.0005219206680584551, 0.0, 0.0]],\n",
              " [20181125, [0.0, 0.0, 0.0]],\n",
              " [20181028, [0.0021609940572663426, 0.0, 0.0]],\n",
              " [20180930, [0.0, 0.0, 0.0]],\n",
              " [20180826, [0.0, 0.0, 0.0]],\n",
              " [20180729, [0.0005549389567147614, 0.0, 0.0]],\n",
              " [20180624, [0.0005068423720223011, 0.0, 0.0]],\n",
              " [20180527, [0.0, 0.0, 0.0]],\n",
              " [20180429, [0.0, 0.0, 0.0]],\n",
              " [20180325, [0.003825136612021858, 0.0, 0.0]],\n",
              " [20180225, [0.0005868544600938967, 0.0, 0.0]],\n",
              " [20180128, [0.0, 0.0, 0.0]],\n",
              " [20171231, [0.0, 0.0, 0.0]],\n",
              " [20171029, [0.0, 0.0, 0.0]],\n",
              " [20170924, [0.0, 0.0, 0.0]],\n",
              " [20170827, [0.0, 0.0, 0.0]],\n",
              " [20170730, [0.0005254860746190226, 0.0, 0.0]],\n",
              " [20170625, [0.0, 0.0, 0.0]],\n",
              " [20170528, [0.0, 0.0, 0.0]],\n",
              " [20170430, [0.0, 0.0, 0.0]],\n",
              " [20170326, [0.0, 0.0, 0.0]],\n",
              " [20170226, [0.0015037593984962407, 0.0, 0.0]],\n",
              " [20170129, [0.0, 0.0, 0.0]],\n",
              " [20161225, [0.0, 0.0, 0.0]],\n",
              " [20161127, [0.00040225261464199515, 0.0, 0.0]],\n",
              " [20161030, [0.00043878894251864854, 0.0, 0.0]],\n",
              " [20160925, [0.0004608294930875576, 0.0, 0.0]],\n",
              " [20160828, [0.0, 0.0, 0.0]],\n",
              " [20160731, [0.0008278145695364238, 0.0, 0.0]],\n",
              " [20160626, [0.000510986203372509, 0.0, 0.0]],\n",
              " [20160522, [0.00043572984749455336, 0.0, 0.0]],\n",
              " [20160424, [0.00042753313381787086, 0.0, 0.0]],\n",
              " [20160327, [0.0025614754098360654, 0.0, 0.0]],\n",
              " [20160228, [0.0, 0.0, 0.0]],\n",
              " [20160131, [0.0018575851393188853, 0.0, 0.0]],\n",
              " [20151227, [0.0, 0.0, 0.0]],\n",
              " [20151129, [0.0011655011655011655, 0.0, 0.0]],\n",
              " [20151025, [0.0, 0.0, 0.0]],\n",
              " [20150920, [0.0, 0.0, 0.0]],\n",
              " [20150830, [0.0038729666924864447, 0.0, 0.0]],\n",
              " [20150726, [0.0015923566878980893, 0.0, 0.0]],\n",
              " [20150628, [0.0, 0.0, 0.0]],\n",
              " [20150531, [0.0006176652254478073, 0.0, 0.0]],\n",
              " [20150426, [0.00245398773006135, 0.0, 0.0]],\n",
              " [20150322, [0.013552758954501452, 0.0, 0.0]],\n",
              " [20150222, [0.0, 0.0, 0.0]],\n",
              " [20150127, [0.0, 0.0, 0.0]],\n",
              " [20141214, [0.0, 0.0, 0.0]],\n",
              " [20141102, [0.0, 0.0, 0.0]],\n",
              " [20141003, [0.0, 0.0, 0.0]]]"
            ]
          },
          "metadata": {},
          "execution_count": 161
        }
      ]
    },
    {
      "cell_type": "code",
      "source": [
        "df2 = pd.DataFrame(myLS)\n",
        "df3 = pd.DataFrame(df2[1].to_list(), columns=[\"farmer\", \"corona\",\"lockdown\"])\n",
        "df3[\"farmer\"] = df3[\"farmer\"].apply(lambda x: x*x)\n",
        "df3[\"corona\"] = df3[\"corona\"].apply(lambda x: x*x)\n",
        "df3[\"lockdown\"] = df3[\"lockdown\"].apply(lambda x: x*x)"
      ],
      "metadata": {
        "id": "y1lRsX-gWT21"
      },
      "execution_count": null,
      "outputs": []
    },
    {
      "cell_type": "code",
      "source": [
        "df3"
      ],
      "metadata": {
        "colab": {
          "base_uri": "https://localhost:8080/",
          "height": 448
        },
        "id": "UqycoFa-WT0S",
        "outputId": "1c706102-8a86-4c31-d1f4-e51933d002df"
      },
      "execution_count": null,
      "outputs": [
        {
          "output_type": "execute_result",
          "data": {
            "text/html": [
              "\n",
              "  <div id=\"df-98c4b516-3269-4f11-a62a-683384c01c9c\">\n",
              "    <div class=\"colab-df-container\">\n",
              "      <div>\n",
              "<style scoped>\n",
              "    .dataframe tbody tr th:only-of-type {\n",
              "        vertical-align: middle;\n",
              "    }\n",
              "\n",
              "    .dataframe tbody tr th {\n",
              "        vertical-align: top;\n",
              "    }\n",
              "\n",
              "    .dataframe thead th {\n",
              "        text-align: right;\n",
              "    }\n",
              "</style>\n",
              "<table border=\"1\" class=\"dataframe\">\n",
              "  <thead>\n",
              "    <tr style=\"text-align: right;\">\n",
              "      <th></th>\n",
              "      <th>farmer</th>\n",
              "      <th>corona</th>\n",
              "      <th>lockdown</th>\n",
              "    </tr>\n",
              "  </thead>\n",
              "  <tbody>\n",
              "    <tr>\n",
              "      <th>0</th>\n",
              "      <td>0.0</td>\n",
              "      <td>1.949232e-07</td>\n",
              "      <td>0.0</td>\n",
              "    </tr>\n",
              "    <tr>\n",
              "      <th>1</th>\n",
              "      <td>0.0</td>\n",
              "      <td>2.293367e-06</td>\n",
              "      <td>0.0</td>\n",
              "    </tr>\n",
              "    <tr>\n",
              "      <th>2</th>\n",
              "      <td>0.0</td>\n",
              "      <td>1.942366e-07</td>\n",
              "      <td>0.0</td>\n",
              "    </tr>\n",
              "    <tr>\n",
              "      <th>3</th>\n",
              "      <td>0.0</td>\n",
              "      <td>1.985597e-06</td>\n",
              "      <td>0.0</td>\n",
              "    </tr>\n",
              "    <tr>\n",
              "      <th>4</th>\n",
              "      <td>0.0</td>\n",
              "      <td>6.955481e-05</td>\n",
              "      <td>0.0</td>\n",
              "    </tr>\n",
              "    <tr>\n",
              "      <th>...</th>\n",
              "      <td>...</td>\n",
              "      <td>...</td>\n",
              "      <td>...</td>\n",
              "    </tr>\n",
              "    <tr>\n",
              "      <th>76</th>\n",
              "      <td>0.0</td>\n",
              "      <td>0.000000e+00</td>\n",
              "      <td>0.0</td>\n",
              "    </tr>\n",
              "    <tr>\n",
              "      <th>77</th>\n",
              "      <td>0.0</td>\n",
              "      <td>0.000000e+00</td>\n",
              "      <td>0.0</td>\n",
              "    </tr>\n",
              "    <tr>\n",
              "      <th>78</th>\n",
              "      <td>0.0</td>\n",
              "      <td>0.000000e+00</td>\n",
              "      <td>0.0</td>\n",
              "    </tr>\n",
              "    <tr>\n",
              "      <th>79</th>\n",
              "      <td>0.0</td>\n",
              "      <td>0.000000e+00</td>\n",
              "      <td>0.0</td>\n",
              "    </tr>\n",
              "    <tr>\n",
              "      <th>80</th>\n",
              "      <td>0.0</td>\n",
              "      <td>0.000000e+00</td>\n",
              "      <td>0.0</td>\n",
              "    </tr>\n",
              "  </tbody>\n",
              "</table>\n",
              "<p>81 rows × 3 columns</p>\n",
              "</div>\n",
              "      <button class=\"colab-df-convert\" onclick=\"convertToInteractive('df-98c4b516-3269-4f11-a62a-683384c01c9c')\"\n",
              "              title=\"Convert this dataframe to an interactive table.\"\n",
              "              style=\"display:none;\">\n",
              "        \n",
              "  <svg xmlns=\"http://www.w3.org/2000/svg\" height=\"24px\"viewBox=\"0 0 24 24\"\n",
              "       width=\"24px\">\n",
              "    <path d=\"M0 0h24v24H0V0z\" fill=\"none\"/>\n",
              "    <path d=\"M18.56 5.44l.94 2.06.94-2.06 2.06-.94-2.06-.94-.94-2.06-.94 2.06-2.06.94zm-11 1L8.5 8.5l.94-2.06 2.06-.94-2.06-.94L8.5 2.5l-.94 2.06-2.06.94zm10 10l.94 2.06.94-2.06 2.06-.94-2.06-.94-.94-2.06-.94 2.06-2.06.94z\"/><path d=\"M17.41 7.96l-1.37-1.37c-.4-.4-.92-.59-1.43-.59-.52 0-1.04.2-1.43.59L10.3 9.45l-7.72 7.72c-.78.78-.78 2.05 0 2.83L4 21.41c.39.39.9.59 1.41.59.51 0 1.02-.2 1.41-.59l7.78-7.78 2.81-2.81c.8-.78.8-2.07 0-2.86zM5.41 20L4 18.59l7.72-7.72 1.47 1.35L5.41 20z\"/>\n",
              "  </svg>\n",
              "      </button>\n",
              "      \n",
              "  <style>\n",
              "    .colab-df-container {\n",
              "      display:flex;\n",
              "      flex-wrap:wrap;\n",
              "      gap: 12px;\n",
              "    }\n",
              "\n",
              "    .colab-df-convert {\n",
              "      background-color: #E8F0FE;\n",
              "      border: none;\n",
              "      border-radius: 50%;\n",
              "      cursor: pointer;\n",
              "      display: none;\n",
              "      fill: #1967D2;\n",
              "      height: 32px;\n",
              "      padding: 0 0 0 0;\n",
              "      width: 32px;\n",
              "    }\n",
              "\n",
              "    .colab-df-convert:hover {\n",
              "      background-color: #E2EBFA;\n",
              "      box-shadow: 0px 1px 2px rgba(60, 64, 67, 0.3), 0px 1px 3px 1px rgba(60, 64, 67, 0.15);\n",
              "      fill: #174EA6;\n",
              "    }\n",
              "\n",
              "    [theme=dark] .colab-df-convert {\n",
              "      background-color: #3B4455;\n",
              "      fill: #D2E3FC;\n",
              "    }\n",
              "\n",
              "    [theme=dark] .colab-df-convert:hover {\n",
              "      background-color: #434B5C;\n",
              "      box-shadow: 0px 1px 3px 1px rgba(0, 0, 0, 0.15);\n",
              "      filter: drop-shadow(0px 1px 2px rgba(0, 0, 0, 0.3));\n",
              "      fill: #FFFFFF;\n",
              "    }\n",
              "  </style>\n",
              "\n",
              "      <script>\n",
              "        const buttonEl =\n",
              "          document.querySelector('#df-98c4b516-3269-4f11-a62a-683384c01c9c button.colab-df-convert');\n",
              "        buttonEl.style.display =\n",
              "          google.colab.kernel.accessAllowed ? 'block' : 'none';\n",
              "\n",
              "        async function convertToInteractive(key) {\n",
              "          const element = document.querySelector('#df-98c4b516-3269-4f11-a62a-683384c01c9c');\n",
              "          const dataTable =\n",
              "            await google.colab.kernel.invokeFunction('convertToInteractive',\n",
              "                                                     [key], {});\n",
              "          if (!dataTable) return;\n",
              "\n",
              "          const docLinkHtml = 'Like what you see? Visit the ' +\n",
              "            '<a target=\"_blank\" href=https://colab.research.google.com/notebooks/data_table.ipynb>data table notebook</a>'\n",
              "            + ' to learn more about interactive tables.';\n",
              "          element.innerHTML = '';\n",
              "          dataTable['output_type'] = 'display_data';\n",
              "          await google.colab.output.renderOutput(dataTable, element);\n",
              "          const docLink = document.createElement('div');\n",
              "          docLink.innerHTML = docLinkHtml;\n",
              "          element.appendChild(docLink);\n",
              "        }\n",
              "      </script>\n",
              "    </div>\n",
              "  </div>\n",
              "  "
            ],
            "text/plain": [
              "    farmer        corona  lockdown\n",
              "0      0.0  1.949232e-07       0.0\n",
              "1      0.0  2.293367e-06       0.0\n",
              "2      0.0  1.942366e-07       0.0\n",
              "3      0.0  1.985597e-06       0.0\n",
              "4      0.0  6.955481e-05       0.0\n",
              "..     ...           ...       ...\n",
              "76     0.0  0.000000e+00       0.0\n",
              "77     0.0  0.000000e+00       0.0\n",
              "78     0.0  0.000000e+00       0.0\n",
              "79     0.0  0.000000e+00       0.0\n",
              "80     0.0  0.000000e+00       0.0\n",
              "\n",
              "[81 rows x 3 columns]"
            ]
          },
          "metadata": {},
          "execution_count": 163
        }
      ]
    },
    {
      "cell_type": "code",
      "source": [
        "df3.iloc[:70].plot(y=1)\n",
        "df3.iloc[:70].plot(y=2)\n",
        "df3.iloc[:70].plot(y=0)"
      ],
      "metadata": {
        "colab": {
          "base_uri": "https://localhost:8080/",
          "height": 832
        },
        "id": "MO5bpWv7WTxg",
        "outputId": "867355ed-ea9f-4080-fc8d-25ceb78f28be"
      },
      "execution_count": null,
      "outputs": [
        {
          "output_type": "execute_result",
          "data": {
            "text/plain": [
              "<matplotlib.axes._subplots.AxesSubplot at 0x7f1347c07810>"
            ]
          },
          "metadata": {},
          "execution_count": 164
        },
        {
          "output_type": "display_data",
          "data": {
            "image/png": "[encoded data removed]",
            "text/plain": [
              "<Figure size 432x288 with 1 Axes>"
            ]
          },
          "metadata": {
            "needs_background": "light"
          }
        },
        {
          "output_type": "display_data",
          "data": {
            "image/png": "[encoded data removed]",
            "text/plain": [
              "<Figure size 432x288 with 1 Axes>"
            ]
          },
          "metadata": {
            "needs_background": "light"
          }
        },
        {
          "output_type": "display_data",
          "data": {
            "image/png": "[encoded data removed]",
            "text/plain": [
              "<Figure size 432x288 with 1 Axes>"
            ]
          },
          "metadata": {
            "needs_background": "light"
          }
        }
      ]
    },
    {
      "cell_type": "code",
      "source": [
        "test_df = pd.read_csv('cleaned_tweets48.csv')\n",
        "test_df"
      ],
      "metadata": {
        "colab": {
          "base_uri": "https://localhost:8080/",
          "height": 448
        },
        "id": "9rAKvAdIWk-h",
        "outputId": "b8b2a5da-60b5-4fe4-a4cb-20352106bd1e"
      },
      "execution_count": null,
      "outputs": [
        {
          "output_type": "execute_result",
          "data": {
            "text/html": [
              "\n",
              "  <div id=\"df-f3b8c310-aa82-40e7-938e-3388ee91de82\">\n",
              "    <div class=\"colab-df-container\">\n",
              "      <div>\n",
              "<style scoped>\n",
              "    .dataframe tbody tr th:only-of-type {\n",
              "        vertical-align: middle;\n",
              "    }\n",
              "\n",
              "    .dataframe tbody tr th {\n",
              "        vertical-align: top;\n",
              "    }\n",
              "\n",
              "    .dataframe thead th {\n",
              "        text-align: right;\n",
              "    }\n",
              "</style>\n",
              "<table border=\"1\" class=\"dataframe\">\n",
              "  <thead>\n",
              "    <tr style=\"text-align: right;\">\n",
              "      <th></th>\n",
              "      <th>Unnamed: 0</th>\n",
              "      <th>id</th>\n",
              "      <th>date</th>\n",
              "      <th>content</th>\n",
              "    </tr>\n",
              "  </thead>\n",
              "  <tbody>\n",
              "    <tr>\n",
              "      <th>0</th>\n",
              "      <td>1452749734716661762</td>\n",
              "      <td>1452749734716661762</td>\n",
              "      <td>2021-10-24</td>\n",
              "      <td>mannkibaat via namo app</td>\n",
              "    </tr>\n",
              "    <tr>\n",
              "      <th>1</th>\n",
              "      <td>1452725732002697219</td>\n",
              "      <td>1452725732002697219</td>\n",
              "      <td>2021-10-24</td>\n",
              "      <td>mannkibaat pmmodi mygovindia stand india gover...</td>\n",
              "    </tr>\n",
              "    <tr>\n",
              "      <th>2</th>\n",
              "      <td>1452720861367078912</td>\n",
              "      <td>1452720861367078912</td>\n",
              "      <td>2021-10-24</td>\n",
              "      <td>local mannkibaat httpstcoagncronqjh</td>\n",
              "    </tr>\n",
              "    <tr>\n",
              "      <th>3</th>\n",
              "      <td>1452720388371357699</td>\n",
              "      <td>1452720388371357699</td>\n",
              "      <td>2021-10-24</td>\n",
              "      <td>javedmansari langamahesh nobody bjp would want...</td>\n",
              "    </tr>\n",
              "    <tr>\n",
              "      <th>4</th>\n",
              "      <td>1452713887451607044</td>\n",
              "      <td>1452713887451607044</td>\n",
              "      <td>2021-10-24</td>\n",
              "      <td>listened hon pm shrinarendramodi ji mannkibaat...</td>\n",
              "    </tr>\n",
              "    <tr>\n",
              "      <th>...</th>\n",
              "      <td>...</td>\n",
              "      <td>...</td>\n",
              "      <td>...</td>\n",
              "      <td>...</td>\n",
              "    </tr>\n",
              "    <tr>\n",
              "      <th>160183</th>\n",
              "      <td>517902912857460737</td>\n",
              "      <td>517902912857460737</td>\n",
              "      <td>2014-10-03</td>\n",
              "      <td>billion population get hear modi air oath cere...</td>\n",
              "    </tr>\n",
              "    <tr>\n",
              "      <th>160184</th>\n",
              "      <td>517900645626421248</td>\n",
              "      <td>517900645626421248</td>\n",
              "      <td>2014-10-03</td>\n",
              "      <td>live streaming narendramodi speech mannkibaat ...</td>\n",
              "    </tr>\n",
              "    <tr>\n",
              "      <th>160185</th>\n",
              "      <td>517900128561004544</td>\n",
              "      <td>517900128561004544</td>\n",
              "      <td>2014-10-03</td>\n",
              "      <td>rj namo mannkibaat airnewsalerts</td>\n",
              "    </tr>\n",
              "    <tr>\n",
              "      <th>160186</th>\n",
              "      <td>517881722302513152</td>\n",
              "      <td>517881722302513152</td>\n",
              "      <td>2014-10-03</td>\n",
              "      <td>listen mannkibaat stations narendramodi</td>\n",
              "    </tr>\n",
              "    <tr>\n",
              "      <th>160187</th>\n",
              "      <td>517876236585304064</td>\n",
              "      <td>517876236585304064</td>\n",
              "      <td>2014-10-03</td>\n",
              "      <td>mannkibaat humare prime minister narendra modi...</td>\n",
              "    </tr>\n",
              "  </tbody>\n",
              "</table>\n",
              "<p>160188 rows × 4 columns</p>\n",
              "</div>\n",
              "      <button class=\"colab-df-convert\" onclick=\"convertToInteractive('df-f3b8c310-aa82-40e7-938e-3388ee91de82')\"\n",
              "              title=\"Convert this dataframe to an interactive table.\"\n",
              "              style=\"display:none;\">\n",
              "        \n",
              "  <svg xmlns=\"http://www.w3.org/2000/svg\" height=\"24px\"viewBox=\"0 0 24 24\"\n",
              "       width=\"24px\">\n",
              "    <path d=\"M0 0h24v24H0V0z\" fill=\"none\"/>\n",
              "    <path d=\"M18.56 5.44l.94 2.06.94-2.06 2.06-.94-2.06-.94-.94-2.06-.94 2.06-2.06.94zm-11 1L8.5 8.5l.94-2.06 2.06-.94-2.06-.94L8.5 2.5l-.94 2.06-2.06.94zm10 10l.94 2.06.94-2.06 2.06-.94-2.06-.94-.94-2.06-.94 2.06-2.06.94z\"/><path d=\"M17.41 7.96l-1.37-1.37c-.4-.4-.92-.59-1.43-.59-.52 0-1.04.2-1.43.59L10.3 9.45l-7.72 7.72c-.78.78-.78 2.05 0 2.83L4 21.41c.39.39.9.59 1.41.59.51 0 1.02-.2 1.41-.59l7.78-7.78 2.81-2.81c.8-.78.8-2.07 0-2.86zM5.41 20L4 18.59l7.72-7.72 1.47 1.35L5.41 20z\"/>\n",
              "  </svg>\n",
              "      </button>\n",
              "      \n",
              "  <style>\n",
              "    .colab-df-container {\n",
              "      display:flex;\n",
              "      flex-wrap:wrap;\n",
              "      gap: 12px;\n",
              "    }\n",
              "\n",
              "    .colab-df-convert {\n",
              "      background-color: #E8F0FE;\n",
              "      border: none;\n",
              "      border-radius: 50%;\n",
              "      cursor: pointer;\n",
              "      display: none;\n",
              "      fill: #1967D2;\n",
              "      height: 32px;\n",
              "      padding: 0 0 0 0;\n",
              "      width: 32px;\n",
              "    }\n",
              "\n",
              "    .colab-df-convert:hover {\n",
              "      background-color: #E2EBFA;\n",
              "      box-shadow: 0px 1px 2px rgba(60, 64, 67, 0.3), 0px 1px 3px 1px rgba(60, 64, 67, 0.15);\n",
              "      fill: #174EA6;\n",
              "    }\n",
              "\n",
              "    [theme=dark] .colab-df-convert {\n",
              "      background-color: #3B4455;\n",
              "      fill: #D2E3FC;\n",
              "    }\n",
              "\n",
              "    [theme=dark] .colab-df-convert:hover {\n",
              "      background-color: #434B5C;\n",
              "      box-shadow: 0px 1px 3px 1px rgba(0, 0, 0, 0.15);\n",
              "      filter: drop-shadow(0px 1px 2px rgba(0, 0, 0, 0.3));\n",
              "      fill: #FFFFFF;\n",
              "    }\n",
              "  </style>\n",
              "\n",
              "      <script>\n",
              "        const buttonEl =\n",
              "          document.querySelector('#df-f3b8c310-aa82-40e7-938e-3388ee91de82 button.colab-df-convert');\n",
              "        buttonEl.style.display =\n",
              "          google.colab.kernel.accessAllowed ? 'block' : 'none';\n",
              "\n",
              "        async function convertToInteractive(key) {\n",
              "          const element = document.querySelector('#df-f3b8c310-aa82-40e7-938e-3388ee91de82');\n",
              "          const dataTable =\n",
              "            await google.colab.kernel.invokeFunction('convertToInteractive',\n",
              "                                                     [key], {});\n",
              "          if (!dataTable) return;\n",
              "\n",
              "          const docLinkHtml = 'Like what you see? Visit the ' +\n",
              "            '<a target=\"_blank\" href=https://colab.research.google.com/notebooks/data_table.ipynb>data table notebook</a>'\n",
              "            + ' to learn more about interactive tables.';\n",
              "          element.innerHTML = '';\n",
              "          dataTable['output_type'] = 'display_data';\n",
              "          await google.colab.output.renderOutput(dataTable, element);\n",
              "          const docLink = document.createElement('div');\n",
              "          docLink.innerHTML = docLinkHtml;\n",
              "          element.appendChild(docLink);\n",
              "        }\n",
              "      </script>\n",
              "    </div>\n",
              "  </div>\n",
              "  "
            ],
            "text/plain": [
              "                 Unnamed: 0  ...                                            content\n",
              "0       1452749734716661762  ...                           mannkibaat via namo app \n",
              "1       1452725732002697219  ...  mannkibaat pmmodi mygovindia stand india gover...\n",
              "2       1452720861367078912  ...               local mannkibaat httpstcoagncronqjh \n",
              "3       1452720388371357699  ...  javedmansari langamahesh nobody bjp would want...\n",
              "4       1452713887451607044  ...  listened hon pm shrinarendramodi ji mannkibaat...\n",
              "...                     ...  ...                                                ...\n",
              "160183   517902912857460737  ...  billion population get hear modi air oath cere...\n",
              "160184   517900645626421248  ...  live streaming narendramodi speech mannkibaat ...\n",
              "160185   517900128561004544  ...                  rj namo mannkibaat airnewsalerts \n",
              "160186   517881722302513152  ...           listen mannkibaat stations narendramodi \n",
              "160187   517876236585304064  ...  mannkibaat humare prime minister narendra modi...\n",
              "\n",
              "[160188 rows x 4 columns]"
            ]
          },
          "metadata": {},
          "execution_count": 165
        }
      ]
    },
    {
      "cell_type": "code",
      "source": [
        "test_df.drop('Unnamed: 0', axis = 1,inplace = True)\n",
        "my_df = list(test_df.groupby('date')['content'])\n",
        "my_df = pd.DataFrame(my_df)"
      ],
      "metadata": {
        "id": "B3KiOb7OWk8B"
      },
      "execution_count": null,
      "outputs": []
    },
    {
      "cell_type": "code",
      "source": [
        "tweets_wf = {}\n",
        "new_tweets = test_df.groupby('date')['content'].apply(list)\n",
        "for r in new_tweets.index:\n",
        "  tweets_wf[r] = \" \".join(new_tweets[r])\n",
        "#tweets_wf"
      ],
      "metadata": {
        "id": "ft1w7exGWk54"
      },
      "execution_count": null,
      "outputs": []
    },
    {
      "cell_type": "code",
      "source": [
        "t = []\n",
        "for k,v in tweets_wf.items():\n",
        "  t.append([k,v])"
      ],
      "metadata": {
        "id": "av0u5jZwWk3V"
      },
      "execution_count": null,
      "outputs": []
    },
    {
      "cell_type": "code",
      "source": [
        "my_df = pd.DataFrame(t)"
      ],
      "metadata": {
        "id": "JulsSOgxWTu-"
      },
      "execution_count": null,
      "outputs": []
    },
    {
      "cell_type": "code",
      "source": [
        "my_df = my_df.rename(columns={0:'date',1:'ep'})"
      ],
      "metadata": {
        "id": "6UEuQmD6Wxtn"
      },
      "execution_count": null,
      "outputs": []
    },
    {
      "cell_type": "code",
      "source": [
        "def df_wf_t(df):\n",
        "  #df = pd.read_csv('MKB.csv')\n",
        "  ls = []\n",
        "  for i in range(len(df)):\n",
        "    temp = word_freq(df['ep'][i], [\"farmer\", \"corona\",\"lockdown\"])\n",
        "    ls.append([df['date'][i], temp])\n",
        "  \n",
        "  return ls\n"
      ],
      "metadata": {
        "id": "-RC9tWshWxrg"
      },
      "execution_count": null,
      "outputs": []
    },
    {
      "cell_type": "code",
      "source": [
        "tweet_ls = df_wf_t(my_df)"
      ],
      "metadata": {
        "id": "2532pjtYWxpO"
      },
      "execution_count": null,
      "outputs": []
    },
    {
      "cell_type": "code",
      "source": [
        "df4 = pd.DataFrame(tweet_ls)\n",
        "df5 = pd.DataFrame(df4[1].to_list(), columns=[\"farmer\", \"corona\",\"lockdown\"])"
      ],
      "metadata": {
        "id": "xCwHKRWiWxmp"
      },
      "execution_count": null,
      "outputs": []
    },
    {
      "cell_type": "code",
      "source": [
        "df5 = df5[::-1].reset_index(drop=True)"
      ],
      "metadata": {
        "id": "GNah9J1TW5Ws"
      },
      "execution_count": null,
      "outputs": []
    },
    {
      "cell_type": "code",
      "source": [
        "fig = plt.figure(figsize=(20,8))\n",
        "\n",
        "plt.subplot(1, 2, 1)\n",
        "plt.plot(df5['corona'])\n",
        "plt.plot(df5['lockdown'])\n",
        "plt.plot(df5['farmer'])\n",
        "plt.legend(['corona','lockdown','farmers'])\n",
        "plt.title(\"Twitter\")\n",
        "\n",
        "plt.subplot(1, 2, 2)\n",
        "plt.plot(df3['corona'])\n",
        "plt.plot(df3['lockdown'])\n",
        "plt.plot(df3['farmer'])\n",
        "plt.legend(['corona','lockdown','farmers'])\n",
        "plt.title(\"MKB\")\n",
        "\n",
        "\n",
        "plt.show()"
      ],
      "metadata": {
        "colab": {
          "base_uri": "https://localhost:8080/",
          "height": 441
        },
        "id": "LynRG8ypW5UF",
        "outputId": "c8694134-5739-4b9b-ee03-64595a1d4c13"
      },
      "execution_count": null,
      "outputs": [
        {
          "output_type": "display_data",
          "data": {
            "image/png": "[encoded data removed]",
            "text/plain": [
              "<Figure size 1440x576 with 2 Axes>"
            ]
          },
          "metadata": {
            "needs_background": "light"
          }
        }
      ]
    },
    {
      "cell_type": "markdown",
      "metadata": {
        "id": "L8MSdtQdV4H_"
      },
      "source": [
        "## Sentiment Analysis "
      ]
    },
    {
      "cell_type": "code",
      "metadata": {
        "colab": {
          "base_uri": "https://localhost:8080/"
        },
        "id": "ZwrC7vvzgjgD",
        "outputId": "8f25057a-0b2b-4a72-bd90-16dd828cdb5f"
      },
      "source": [
        "!pip3 install textblob"
      ],
      "execution_count": null,
      "outputs": [
        {
          "output_type": "stream",
          "name": "stdout",
          "text": [
            "Requirement already satisfied: textblob in /usr/local/lib/python3.7/dist-packages (0.15.3)\n",
            "Requirement already satisfied: nltk>=3.1 in /usr/local/lib/python3.7/dist-packages (from textblob) (3.2.5)\n",
            "Requirement already satisfied: six in /usr/local/lib/python3.7/dist-packages (from nltk>=3.1->textblob) (1.15.0)\n"
          ]
        }
      ]
    },
    {
      "cell_type": "code",
      "metadata": {
        "id": "Nnnp60ag0ZVi"
      },
      "source": [
        "from textblob import TextBlob\n",
        "df = pd.read_csv('MKB.csv')\n",
        "polarities = []\n",
        "subjectivities = []\n",
        "\n",
        "for i,r in df.iterrows():\n",
        "  blob = TextBlob(r['Content'])\n",
        "  polarities.append(blob.sentiment.polarity)\n",
        "  subjectivities.append(blob.sentiment.subjectivity)\n",
        "\n",
        "df['polarity'] = polarities\n",
        "df['subjectivity'] = subjectivities"
      ],
      "execution_count": null,
      "outputs": []
    },
    {
      "cell_type": "code",
      "metadata": {
        "colab": {
          "base_uri": "https://localhost:8080/",
          "height": 533
        },
        "id": "XRHEw4O_0elu",
        "outputId": "7fc02bb2-fb96-47b8-9550-f587659b34e1"
      },
      "source": [
        "import matplotlib.pyplot as plt\n",
        "\n",
        "plt.figure(figsize=(15,8))\n",
        "plt.title('Polarity')\n",
        "plt.plot(df['polarity'])\n",
        "plt.xlabel(\"Episodes\")\n",
        "plt.ylabel(\"Polarity Values\")\n",
        "#plt.legend()\n",
        "plt.show()"
      ],
      "execution_count": null,
      "outputs": [
        {
          "output_type": "display_data",
          "data": {
            "image/png": "[encoded data removed]",
            "text/plain": [
              "<Figure size 1080x576 with 1 Axes>"
            ]
          },
          "metadata": {
            "needs_background": "light"
          }
        }
      ]
    },
    {
      "cell_type": "code",
      "metadata": {
        "colab": {
          "base_uri": "https://localhost:8080/",
          "height": 533
        },
        "id": "WZuHS7Sk08Mc",
        "outputId": "a3e1d522-454a-4dc1-c9d0-90ebc4451212"
      },
      "source": [
        "plt.figure(figsize=(15,8))\n",
        "plt.plot(df['subjectivity'], label = ['Subjectivity'])\n",
        "#plt.plot(df['polarity'],label = ['Polarity'])\n",
        "plt.title(\"Subjectivity\")\n",
        "plt.xlabel(\"Episodes\")\n",
        "plt.ylabel(\"Subjectivity Values\")\n",
        "#plt.legend()\n",
        "plt.show()"
      ],
      "execution_count": null,
      "outputs": [
        {
          "output_type": "display_data",
          "data": {
            "image/png": "[encoded data removed]",
            "text/plain": [
              "<Figure size 1080x576 with 1 Axes>"
            ]
          },
          "metadata": {
            "needs_background": "light"
          }
        }
      ]
    }
  ]
}