{
  "nbformat": 4,
  "nbformat_minor": 0,
  "metadata": {
    "colab": {
      "name": "SentimentAnalysisMKB.ipynb",
      "provenance": [],
      "authorship_tag": "ABX9TyNsqlOeiaxRA114Tj0935Lc",
      "include_colab_link": true
    },
    "kernelspec": {
      "name": "python3",
      "display_name": "Python 3"
    },
    "language_info": {
      "name": "python"
    }
  },
  "cells": [
    {
      "cell_type": "markdown",
      "metadata": {
        "id": "view-in-github",
        "colab_type": "text"
      },
      "source": [
        "<a href=\"https://colab.research.google.com/github/tezz-io/ds_lab/blob/main/SentimentAnalysisMKB.ipynb\" target=\"_parent\"><img src=\"https://colab.research.google.com/assets/colab-badge.svg\" alt=\"Open In Colab\"/></a>"
      ]
    },
    {
      "cell_type": "code",
      "metadata": {
        "colab": {
          "base_uri": "https://localhost:8080/"
        },
        "id": "TSH0Z8k3lhNv",
        "outputId": "580e880a-fe46-4c45-e823-fe91892fc099"
      },
      "source": [
        "!rm -rf MKB.csv\n",
        "!wget https://media.githubusercontent.com/media/tezz-io/ds_lab/main/output/MKB.csv"
      ],
      "execution_count": 1,
      "outputs": [
        {
          "output_type": "stream",
          "name": "stdout",
          "text": [
            "--2021-11-10 16:49:54--  https://media.githubusercontent.com/media/tezz-io/ds_lab/main/output/MKB.csv\n",
            "Resolving media.githubusercontent.com (media.githubusercontent.com)... 185.199.108.133, 185.199.109.133, 185.199.110.133, ...\n",
            "Connecting to media.githubusercontent.com (media.githubusercontent.com)|185.199.108.133|:443... connected.\n",
            "HTTP request sent, awaiting response... 200 OK\n",
            "Length: 2973553 (2.8M) [text/plain]\n",
            "Saving to: ‘MKB.csv’\n",
            "\n",
            "MKB.csv             100%[===================>]   2.83M  --.-KB/s    in 0.03s   \n",
            "\n",
            "2021-11-10 16:49:55 (106 MB/s) - ‘MKB.csv’ saved [2973553/2973553]\n",
            "\n"
          ]
        }
      ]
    },
    {
      "cell_type": "code",
      "metadata": {
        "id": "dP9CMUEml8iY"
      },
      "source": [
        "import pandas as pd\n",
        "df = pd.read_csv('MKB.csv')"
      ],
      "execution_count": 2,
      "outputs": []
    },
    {
      "cell_type": "code",
      "metadata": {
        "colab": {
          "base_uri": "https://localhost:8080/",
          "height": 374
        },
        "id": "i-snUvcYmDMU",
        "outputId": "06a2fa0e-4873-478d-fc49-9e02f8ff20d6"
      },
      "source": [
        "df.head()"
      ],
      "execution_count": 3,
      "outputs": [
        {
          "output_type": "execute_result",
          "data": {
            "text/html": [
              "<div>\n",
              "<style scoped>\n",
              "    .dataframe tbody tr th:only-of-type {\n",
              "        vertical-align: middle;\n",
              "    }\n",
              "\n",
              "    .dataframe tbody tr th {\n",
              "        vertical-align: top;\n",
              "    }\n",
              "\n",
              "    .dataframe thead th {\n",
              "        text-align: right;\n",
              "    }\n",
              "</style>\n",
              "<table border=\"1\" class=\"dataframe\">\n",
              "  <thead>\n",
              "    <tr style=\"text-align: right;\">\n",
              "      <th></th>\n",
              "      <th>Episode</th>\n",
              "      <th>Content</th>\n",
              "      <th>Views</th>\n",
              "      <th>Likes</th>\n",
              "      <th>Dislikes</th>\n",
              "      <th>Cleaned_content</th>\n",
              "      <th>Total_words</th>\n",
              "      <th>Words_without_stop</th>\n",
              "      <th>Year</th>\n",
              "    </tr>\n",
              "  </thead>\n",
              "  <tbody>\n",
              "    <tr>\n",
              "      <th>0</th>\n",
              "      <td>20211024</td>\n",
              "      <td>My dear countrymen,\\nNamaskar…namaskar a billi...</td>\n",
              "      <td>24394</td>\n",
              "      <td>1799</td>\n",
              "      <td>627</td>\n",
              "      <td>dear countrymen namaskar namaskar billion time...</td>\n",
              "      <td>4904</td>\n",
              "      <td>3014</td>\n",
              "      <td>2021</td>\n",
              "    </tr>\n",
              "    <tr>\n",
              "      <th>1</th>\n",
              "      <td>20210926</td>\n",
              "      <td>My dear countrymen,\\nNamaskar. You are aware t...</td>\n",
              "      <td>22728</td>\n",
              "      <td>1310</td>\n",
              "      <td>490</td>\n",
              "      <td>dear countrymen namaskar aware important progr...</td>\n",
              "      <td>4266</td>\n",
              "      <td>2564</td>\n",
              "      <td>2021</td>\n",
              "    </tr>\n",
              "    <tr>\n",
              "      <th>2</th>\n",
              "      <td>20210829</td>\n",
              "      <td>My dear countrymen, Namaskar.\\nAll of us know ...</td>\n",
              "      <td>12047</td>\n",
              "      <td>416</td>\n",
              "      <td>1156</td>\n",
              "      <td>dear countrymen namaskar us know today birth a...</td>\n",
              "      <td>4579</td>\n",
              "      <td>2799</td>\n",
              "      <td>2021</td>\n",
              "    </tr>\n",
              "    <tr>\n",
              "      <th>3</th>\n",
              "      <td>20210725</td>\n",
              "      <td>My dear countrymen, Namaskar. A few amazing pi...</td>\n",
              "      <td>50659</td>\n",
              "      <td>2332</td>\n",
              "      <td>5577</td>\n",
              "      <td>dear countrymen namaskar amazing pictures take...</td>\n",
              "      <td>4510</td>\n",
              "      <td>2782</td>\n",
              "      <td>2021</td>\n",
              "    </tr>\n",
              "    <tr>\n",
              "      <th>4</th>\n",
              "      <td>20210627</td>\n",
              "      <td>My dear countrymen, Namaskar.\\nOften in Mann K...</td>\n",
              "      <td>71155</td>\n",
              "      <td>1828</td>\n",
              "      <td>11115</td>\n",
              "      <td>dear countrymen namaskar often mann ki baat vo...</td>\n",
              "      <td>5572</td>\n",
              "      <td>3451</td>\n",
              "      <td>2021</td>\n",
              "    </tr>\n",
              "  </tbody>\n",
              "</table>\n",
              "</div>"
            ],
            "text/plain": [
              "    Episode  ...  Year\n",
              "0  20211024  ...  2021\n",
              "1  20210926  ...  2021\n",
              "2  20210829  ...  2021\n",
              "3  20210725  ...  2021\n",
              "4  20210627  ...  2021\n",
              "\n",
              "[5 rows x 9 columns]"
            ]
          },
          "metadata": {},
          "execution_count": 3
        }
      ]
    },
    {
      "cell_type": "code",
      "metadata": {
        "colab": {
          "base_uri": "https://localhost:8080/"
        },
        "id": "K9jI1ZnXmETp",
        "outputId": "89389993-989f-433d-c7e6-8d5a6aaa02e1"
      },
      "source": [
        "!pip3 install textblob"
      ],
      "execution_count": 4,
      "outputs": [
        {
          "output_type": "stream",
          "name": "stdout",
          "text": [
            "Requirement already satisfied: textblob in /usr/local/lib/python3.7/dist-packages (0.15.3)\n",
            "Requirement already satisfied: nltk>=3.1 in /usr/local/lib/python3.7/dist-packages (from textblob) (3.2.5)\n",
            "Requirement already satisfied: six in /usr/local/lib/python3.7/dist-packages (from nltk>=3.1->textblob) (1.15.0)\n"
          ]
        }
      ]
    },
    {
      "cell_type": "code",
      "metadata": {
        "id": "odEkrpxUngo7"
      },
      "source": [
        "from textblob import TextBlob\n",
        "\n",
        "polarities = []\n",
        "subjectivities = []\n",
        "\n",
        "for i,r in df.iterrows():\n",
        "  blob = TextBlob(r['Content'])\n",
        "  polarities.append(blob.sentiment.polarity)\n",
        "  subjectivities.append(blob.sentiment.subjectivity)\n",
        "\n",
        "df['polarity'] = polarities\n",
        "df['subjectivity'] = subjectivities"
      ],
      "execution_count": 5,
      "outputs": []
    },
    {
      "cell_type": "code",
      "metadata": {
        "colab": {
          "base_uri": "https://localhost:8080/",
          "height": 411
        },
        "id": "aYHr7904p3c3",
        "outputId": "cc668599-8fed-4280-9c3a-738814467190"
      },
      "source": [
        "df.head()"
      ],
      "execution_count": 6,
      "outputs": [
        {
          "output_type": "execute_result",
          "data": {
            "text/html": [
              "<div>\n",
              "<style scoped>\n",
              "    .dataframe tbody tr th:only-of-type {\n",
              "        vertical-align: middle;\n",
              "    }\n",
              "\n",
              "    .dataframe tbody tr th {\n",
              "        vertical-align: top;\n",
              "    }\n",
              "\n",
              "    .dataframe thead th {\n",
              "        text-align: right;\n",
              "    }\n",
              "</style>\n",
              "<table border=\"1\" class=\"dataframe\">\n",
              "  <thead>\n",
              "    <tr style=\"text-align: right;\">\n",
              "      <th></th>\n",
              "      <th>Episode</th>\n",
              "      <th>Content</th>\n",
              "      <th>Views</th>\n",
              "      <th>Likes</th>\n",
              "      <th>Dislikes</th>\n",
              "      <th>Cleaned_content</th>\n",
              "      <th>Total_words</th>\n",
              "      <th>Words_without_stop</th>\n",
              "      <th>Year</th>\n",
              "      <th>polarity</th>\n",
              "      <th>subjectivity</th>\n",
              "    </tr>\n",
              "  </thead>\n",
              "  <tbody>\n",
              "    <tr>\n",
              "      <th>0</th>\n",
              "      <td>20211024</td>\n",
              "      <td>My dear countrymen,\\nNamaskar…namaskar a billi...</td>\n",
              "      <td>24394</td>\n",
              "      <td>1799</td>\n",
              "      <td>627</td>\n",
              "      <td>dear countrymen namaskar namaskar billion time...</td>\n",
              "      <td>4904</td>\n",
              "      <td>3014</td>\n",
              "      <td>2021</td>\n",
              "      <td>0.156087</td>\n",
              "      <td>0.472397</td>\n",
              "    </tr>\n",
              "    <tr>\n",
              "      <th>1</th>\n",
              "      <td>20210926</td>\n",
              "      <td>My dear countrymen,\\nNamaskar. You are aware t...</td>\n",
              "      <td>22728</td>\n",
              "      <td>1310</td>\n",
              "      <td>490</td>\n",
              "      <td>dear countrymen namaskar aware important progr...</td>\n",
              "      <td>4266</td>\n",
              "      <td>2564</td>\n",
              "      <td>2021</td>\n",
              "      <td>0.159065</td>\n",
              "      <td>0.499883</td>\n",
              "    </tr>\n",
              "    <tr>\n",
              "      <th>2</th>\n",
              "      <td>20210829</td>\n",
              "      <td>My dear countrymen, Namaskar.\\nAll of us know ...</td>\n",
              "      <td>12047</td>\n",
              "      <td>416</td>\n",
              "      <td>1156</td>\n",
              "      <td>dear countrymen namaskar us know today birth a...</td>\n",
              "      <td>4579</td>\n",
              "      <td>2799</td>\n",
              "      <td>2021</td>\n",
              "      <td>0.162983</td>\n",
              "      <td>0.462539</td>\n",
              "    </tr>\n",
              "    <tr>\n",
              "      <th>3</th>\n",
              "      <td>20210725</td>\n",
              "      <td>My dear countrymen, Namaskar. A few amazing pi...</td>\n",
              "      <td>50659</td>\n",
              "      <td>2332</td>\n",
              "      <td>5577</td>\n",
              "      <td>dear countrymen namaskar amazing pictures take...</td>\n",
              "      <td>4510</td>\n",
              "      <td>2782</td>\n",
              "      <td>2021</td>\n",
              "      <td>0.205804</td>\n",
              "      <td>0.512284</td>\n",
              "    </tr>\n",
              "    <tr>\n",
              "      <th>4</th>\n",
              "      <td>20210627</td>\n",
              "      <td>My dear countrymen, Namaskar.\\nOften in Mann K...</td>\n",
              "      <td>71155</td>\n",
              "      <td>1828</td>\n",
              "      <td>11115</td>\n",
              "      <td>dear countrymen namaskar often mann ki baat vo...</td>\n",
              "      <td>5572</td>\n",
              "      <td>3451</td>\n",
              "      <td>2021</td>\n",
              "      <td>0.217805</td>\n",
              "      <td>0.479781</td>\n",
              "    </tr>\n",
              "  </tbody>\n",
              "</table>\n",
              "</div>"
            ],
            "text/plain": [
              "    Episode  ... subjectivity\n",
              "0  20211024  ...     0.472397\n",
              "1  20210926  ...     0.499883\n",
              "2  20210829  ...     0.462539\n",
              "3  20210725  ...     0.512284\n",
              "4  20210627  ...     0.479781\n",
              "\n",
              "[5 rows x 11 columns]"
            ]
          },
          "metadata": {},
          "execution_count": 6
        }
      ]
    },
    {
      "cell_type": "code",
      "metadata": {
        "colab": {
          "base_uri": "https://localhost:8080/",
          "height": 796
        },
        "id": "NrZGldrXp4ji",
        "outputId": "01a85e0a-3bee-4bb5-ecb8-53d56f7672de"
      },
      "source": [
        "df"
      ],
      "execution_count": 7,
      "outputs": [
        {
          "output_type": "execute_result",
          "data": {
            "text/html": [
              "<div>\n",
              "<style scoped>\n",
              "    .dataframe tbody tr th:only-of-type {\n",
              "        vertical-align: middle;\n",
              "    }\n",
              "\n",
              "    .dataframe tbody tr th {\n",
              "        vertical-align: top;\n",
              "    }\n",
              "\n",
              "    .dataframe thead th {\n",
              "        text-align: right;\n",
              "    }\n",
              "</style>\n",
              "<table border=\"1\" class=\"dataframe\">\n",
              "  <thead>\n",
              "    <tr style=\"text-align: right;\">\n",
              "      <th></th>\n",
              "      <th>Episode</th>\n",
              "      <th>Content</th>\n",
              "      <th>Views</th>\n",
              "      <th>Likes</th>\n",
              "      <th>Dislikes</th>\n",
              "      <th>Cleaned_content</th>\n",
              "      <th>Total_words</th>\n",
              "      <th>Words_without_stop</th>\n",
              "      <th>Year</th>\n",
              "      <th>polarity</th>\n",
              "      <th>subjectivity</th>\n",
              "    </tr>\n",
              "  </thead>\n",
              "  <tbody>\n",
              "    <tr>\n",
              "      <th>0</th>\n",
              "      <td>20211024</td>\n",
              "      <td>My dear countrymen,\\nNamaskar…namaskar a billi...</td>\n",
              "      <td>24394</td>\n",
              "      <td>1799</td>\n",
              "      <td>627</td>\n",
              "      <td>dear countrymen namaskar namaskar billion time...</td>\n",
              "      <td>4904</td>\n",
              "      <td>3014</td>\n",
              "      <td>2021</td>\n",
              "      <td>0.156087</td>\n",
              "      <td>0.472397</td>\n",
              "    </tr>\n",
              "    <tr>\n",
              "      <th>1</th>\n",
              "      <td>20210926</td>\n",
              "      <td>My dear countrymen,\\nNamaskar. You are aware t...</td>\n",
              "      <td>22728</td>\n",
              "      <td>1310</td>\n",
              "      <td>490</td>\n",
              "      <td>dear countrymen namaskar aware important progr...</td>\n",
              "      <td>4266</td>\n",
              "      <td>2564</td>\n",
              "      <td>2021</td>\n",
              "      <td>0.159065</td>\n",
              "      <td>0.499883</td>\n",
              "    </tr>\n",
              "    <tr>\n",
              "      <th>2</th>\n",
              "      <td>20210829</td>\n",
              "      <td>My dear countrymen, Namaskar.\\nAll of us know ...</td>\n",
              "      <td>12047</td>\n",
              "      <td>416</td>\n",
              "      <td>1156</td>\n",
              "      <td>dear countrymen namaskar us know today birth a...</td>\n",
              "      <td>4579</td>\n",
              "      <td>2799</td>\n",
              "      <td>2021</td>\n",
              "      <td>0.162983</td>\n",
              "      <td>0.462539</td>\n",
              "    </tr>\n",
              "    <tr>\n",
              "      <th>3</th>\n",
              "      <td>20210725</td>\n",
              "      <td>My dear countrymen, Namaskar. A few amazing pi...</td>\n",
              "      <td>50659</td>\n",
              "      <td>2332</td>\n",
              "      <td>5577</td>\n",
              "      <td>dear countrymen namaskar amazing pictures take...</td>\n",
              "      <td>4510</td>\n",
              "      <td>2782</td>\n",
              "      <td>2021</td>\n",
              "      <td>0.205804</td>\n",
              "      <td>0.512284</td>\n",
              "    </tr>\n",
              "    <tr>\n",
              "      <th>4</th>\n",
              "      <td>20210627</td>\n",
              "      <td>My dear countrymen, Namaskar.\\nOften in Mann K...</td>\n",
              "      <td>71155</td>\n",
              "      <td>1828</td>\n",
              "      <td>11115</td>\n",
              "      <td>dear countrymen namaskar often mann ki baat vo...</td>\n",
              "      <td>5572</td>\n",
              "      <td>3451</td>\n",
              "      <td>2021</td>\n",
              "      <td>0.217805</td>\n",
              "      <td>0.479781</td>\n",
              "    </tr>\n",
              "    <tr>\n",
              "      <th>...</th>\n",
              "      <td>...</td>\n",
              "      <td>...</td>\n",
              "      <td>...</td>\n",
              "      <td>...</td>\n",
              "      <td>...</td>\n",
              "      <td>...</td>\n",
              "      <td>...</td>\n",
              "      <td>...</td>\n",
              "      <td>...</td>\n",
              "      <td>...</td>\n",
              "      <td>...</td>\n",
              "    </tr>\n",
              "    <tr>\n",
              "      <th>76</th>\n",
              "      <td>20150222</td>\n",
              "      <td>Hello, my young friends. Today probably the en...</td>\n",
              "      <td>180952</td>\n",
              "      <td>3116</td>\n",
              "      <td>346</td>\n",
              "      <td>hello young friends today probably entire day ...</td>\n",
              "      <td>3611</td>\n",
              "      <td>2000</td>\n",
              "      <td>2015</td>\n",
              "      <td>0.150660</td>\n",
              "      <td>0.495774</td>\n",
              "    </tr>\n",
              "    <tr>\n",
              "      <th>77</th>\n",
              "      <td>20150127</td>\n",
              "      <td>\\n\\n\\n(Hon’ble Shri Narendra Modi):\\nToday, Sh...</td>\n",
              "      <td>39079</td>\n",
              "      <td>317</td>\n",
              "      <td>9</td>\n",
              "      <td>hon   ble shri narendra modi today shri barack...</td>\n",
              "      <td>4705</td>\n",
              "      <td>2867</td>\n",
              "      <td>2015</td>\n",
              "      <td>0.178670</td>\n",
              "      <td>0.478882</td>\n",
              "    </tr>\n",
              "    <tr>\n",
              "      <th>78</th>\n",
              "      <td>20141214</td>\n",
              "      <td>\\nMy Dear Fellow Countrymen,\\nToday I have thi...</td>\n",
              "      <td>358470</td>\n",
              "      <td>4378</td>\n",
              "      <td>3992</td>\n",
              "      <td>dear fellow countrymen today great opportunity...</td>\n",
              "      <td>3687</td>\n",
              "      <td>2179</td>\n",
              "      <td>2014</td>\n",
              "      <td>0.117570</td>\n",
              "      <td>0.498254</td>\n",
              "    </tr>\n",
              "    <tr>\n",
              "      <th>79</th>\n",
              "      <td>20141102</td>\n",
              "      <td>My dear fellow countrymen, \\nI am with you aga...</td>\n",
              "      <td>27988</td>\n",
              "      <td>434</td>\n",
              "      <td>183</td>\n",
              "      <td>dear fellow countrymen almost month month quit...</td>\n",
              "      <td>2548</td>\n",
              "      <td>1481</td>\n",
              "      <td>2014</td>\n",
              "      <td>0.152074</td>\n",
              "      <td>0.442954</td>\n",
              "    </tr>\n",
              "    <tr>\n",
              "      <th>80</th>\n",
              "      <td>20141003</td>\n",
              "      <td>My Dear Countrymen,\\nToday is the holy festiva...</td>\n",
              "      <td>45640</td>\n",
              "      <td>995</td>\n",
              "      <td>156</td>\n",
              "      <td>dear countrymen today holy festival vijay dash...</td>\n",
              "      <td>2320</td>\n",
              "      <td>1375</td>\n",
              "      <td>2014</td>\n",
              "      <td>0.150949</td>\n",
              "      <td>0.545187</td>\n",
              "    </tr>\n",
              "  </tbody>\n",
              "</table>\n",
              "<p>81 rows × 11 columns</p>\n",
              "</div>"
            ],
            "text/plain": [
              "     Episode  ... subjectivity\n",
              "0   20211024  ...     0.472397\n",
              "1   20210926  ...     0.499883\n",
              "2   20210829  ...     0.462539\n",
              "3   20210725  ...     0.512284\n",
              "4   20210627  ...     0.479781\n",
              "..       ...  ...          ...\n",
              "76  20150222  ...     0.495774\n",
              "77  20150127  ...     0.478882\n",
              "78  20141214  ...     0.498254\n",
              "79  20141102  ...     0.442954\n",
              "80  20141003  ...     0.545187\n",
              "\n",
              "[81 rows x 11 columns]"
            ]
          },
          "metadata": {},
          "execution_count": 7
        }
      ]
    },
    {
      "cell_type": "code",
      "metadata": {
        "colab": {
          "base_uri": "https://localhost:8080/",
          "height": 283
        },
        "id": "0sDX06BEp8XG",
        "outputId": "946a65c9-2c86-4c97-9a9c-03fe1f21f6ae"
      },
      "source": [
        "df.plot.line(y='polarity')"
      ],
      "execution_count": 8,
      "outputs": [
        {
          "output_type": "execute_result",
          "data": {
            "text/plain": [
              "<matplotlib.axes._subplots.AxesSubplot at 0x7f5b4c29b6d0>"
            ]
          },
          "metadata": {},
          "execution_count": 8
        },
        {
          "output_type": "display_data",
          "data": {
            "image/png": "[encoded data removed]",
            "text/plain": [
              "<Figure size 432x288 with 1 Axes>"
            ]
          },
          "metadata": {
            "needs_background": "light"
          }
        }
      ]
    },
    {
      "cell_type": "code",
      "metadata": {
        "colab": {
          "base_uri": "https://localhost:8080/",
          "height": 283
        },
        "id": "tEaEYBfIqO9y",
        "outputId": "b419c62a-7711-45b0-c03a-309d160a448e"
      },
      "source": [
        "df.plot.line(y='subjectivity')"
      ],
      "execution_count": 9,
      "outputs": [
        {
          "output_type": "execute_result",
          "data": {
            "text/plain": [
              "<matplotlib.axes._subplots.AxesSubplot at 0x7f5b4c306810>"
            ]
          },
          "metadata": {},
          "execution_count": 9
        },
        {
          "output_type": "display_data",
          "data": {
            "image/png": "[encoded data removed]",
            "text/plain": [
              "<Figure size 432x288 with 1 Axes>"
            ]
          },
          "metadata": {
            "needs_background": "light"
          }
        }
      ]
    },
    {
      "cell_type": "code",
      "metadata": {
        "id": "bNQrfLsWqlyJ",
        "colab": {
          "base_uri": "https://localhost:8080/",
          "height": 283
        },
        "outputId": "2d124360-e9dd-457c-916b-e1bcd36a13f6"
      },
      "source": [
        "df.boxplot(column=['polarity', 'subjectivity'])"
      ],
      "execution_count": 14,
      "outputs": [
        {
          "output_type": "execute_result",
          "data": {
            "text/plain": [
              "<matplotlib.axes._subplots.AxesSubplot at 0x7f5b46eb7690>"
            ]
          },
          "metadata": {},
          "execution_count": 14
        },
        {
          "output_type": "display_data",
          "data": {
            "image/png": "[encoded data removed]",
            "text/plain": [
              "<Figure size 432x288 with 1 Axes>"
            ]
          },
          "metadata": {
            "needs_background": "light"
          }
        }
      ]
    },
    {
      "cell_type": "code",
      "metadata": {
        "id": "tIHYOdkIw6uH"
      },
      "source": [
        ""
      ],
      "execution_count": null,
      "outputs": []
    }
  ]
}
