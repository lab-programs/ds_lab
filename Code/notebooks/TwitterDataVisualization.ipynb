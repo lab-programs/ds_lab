{
  "nbformat": 4,
  "nbformat_minor": 0,
  "metadata": {
    "colab": {
      "name": "TwitterDataVisualization.ipynb",
      "provenance": [],
      "collapsed_sections": []
    },
    "kernelspec": {
      "name": "python3",
      "display_name": "Python 3"
    },
    "language_info": {
      "name": "python"
    }
  },
  "cells": [
    {
      "cell_type": "code",
      "metadata": {
        "colab": {
          "base_uri": "https://localhost:8080/"
        },
        "id": "TAl5l5vQxebi",
        "outputId": "624d7c3e-0e26-4f8d-a7ae-d9ce12f7c30c"
      },
      "source": [
        "!rm -rf ds_lab MKB.csv\n",
        "!wget https://raw.githubusercontent.com/tezz-io/ds_lab/main/output/tweets48.json\n",
        "!ls"
      ],
      "execution_count": 1,
      "outputs": [
        {
          "output_type": "stream",
          "name": "stdout",
          "text": [
            "--2021-11-10 01:02:43--  https://raw.githubusercontent.com/tezz-io/ds_lab/main/output/tweets48.json\n",
            "Resolving raw.githubusercontent.com (raw.githubusercontent.com)... 185.199.108.133, 185.199.111.133, 185.199.109.133, ...\n",
            "Connecting to raw.githubusercontent.com (raw.githubusercontent.com)|185.199.108.133|:443... connected.\n",
            "HTTP request sent, awaiting response... 200 OK\n",
            "Length: 53185159 (51M) [text/plain]\n",
            "Saving to: ‘tweets48.json’\n",
            "\n",
            "tweets48.json       100%[===================>]  50.72M   174MB/s    in 0.3s    \n",
            "\n",
            "2021-11-10 01:02:46 (174 MB/s) - ‘tweets48.json’ saved [53185159/53185159]\n",
            "\n",
            "sample_data  tweets48.json\n"
          ]
        }
      ]
    },
    {
      "cell_type": "code",
      "metadata": {
        "id": "dvV_VE7rx28V"
      },
      "source": [
        "import pandas as pd\n",
        "import re"
      ],
      "execution_count": 2,
      "outputs": []
    },
    {
      "cell_type": "code",
      "metadata": {
        "id": "wrXKyy7q2LHJ"
      },
      "source": [
        "import pandas as pd\n",
        "import json\n",
        "\n",
        "def get_big_df( file_name ):\n",
        "  file = open( file_name )\n",
        "  data = json.loads(file.read())\n",
        "  \n",
        "  df = pd.DataFrame.from_dict(data, orient='index')\n",
        "\n",
        "  df.head()\n",
        "\n",
        "  data['--']\n",
        "  del data['--']\n",
        "  dates = list(data.keys())\n",
        "\n",
        "  dfs = {}\n",
        "  for i in dates:\n",
        "    df = pd.DataFrame.from_dict(data[i], orient='index')\n",
        "    ids = []\n",
        "    epi_dates = []\n",
        "    for j, r in df.iterrows():\n",
        "      ids.append(r.name)\n",
        "      epi_dates.append(i)\n",
        "    df['id'] = ids\n",
        "    df['date'] = epi_dates\n",
        "    df.columns = ['content', 'id', 'date']\n",
        "    dfs[i] = df\n",
        "\n",
        "  big_df = dfs[dates[0]]\n",
        "  for i in range(1, len(dates)):\n",
        "    big_df = big_df.append(dfs[dates[i]])\n",
        "\n",
        "  big_df = big_df[['id', 'date', 'content']]\n",
        "  return big_df"
      ],
      "execution_count": 3,
      "outputs": []
    },
    {
      "cell_type": "code",
      "metadata": {
        "id": "kPvgSJYqx8_t"
      },
      "source": [
        "df=get_big_df('tweets48.json')\n"
      ],
      "execution_count": 4,
      "outputs": []
    },
    {
      "cell_type": "code",
      "metadata": {
        "id": "H1DkMkvuynHC"
      },
      "source": [
        "df.iloc[0][2]\n",
        "df2=df"
      ],
      "execution_count": 19,
      "outputs": []
    },
    {
      "cell_type": "code",
      "metadata": {
        "id": "ETG8j4EI7AzN"
      },
      "source": [
        "def get_info(tweet,prev_count):\n",
        "  hindi=prev_count[0]\n",
        "  english=prev_count[1]\n",
        "  hashtag=prev_count[2]\n",
        "  mention=prev_count[3]\n",
        "  for i in (tweet.split()):\n",
        "    if '#' in i:\n",
        "      prev_count[2]+=1\n",
        "    elif '@' in i:\n",
        "      prev_count[3]+=1\n",
        "    elif re.sub(r'[^a-zA-Z0-9]', '', i).isascii() and re.sub(r'[^a-zA-Z0-9]', '', i).isalnum(): #removes all non alphanumeric\n",
        "      prev_count[1]+=1\n",
        "    else:\n",
        "      prev_count[0]+=1\n",
        "    \n",
        "    \n",
        "    \n",
        "  #print(tweet.split())\n",
        "  return prev_count"
      ],
      "execution_count": 20,
      "outputs": []
    },
    {
      "cell_type": "code",
      "metadata": {
        "id": "dYVy6ZW_3Pl-"
      },
      "source": [
        "#[hindi,english,hash,mention]\n",
        "mydict={}\n",
        "rows,cols=df2.shape\n",
        "\n",
        "for i in range(0,rows):\n",
        "  date=df2.iloc[i][1]\n",
        "  if date in mydict.keys():\n",
        "   \n",
        "    mydict[date]=get_info(df2.iloc[i][2],mydict[date])\n",
        "  else:\n",
        "    mydict[date]=[0,0,0,0]\n",
        "    mydict[date]=get_info(df2.iloc[i][2],mydict[date])\n"
      ],
      "execution_count": 21,
      "outputs": []
    },
    {
      "cell_type": "markdown",
      "metadata": {
        "id": "66D0bCcbYmIc"
      },
      "source": [
        ""
      ]
    },
    {
      "cell_type": "code",
      "metadata": {
        "colab": {
          "base_uri": "https://localhost:8080/"
        },
        "id": "lSUxDR1D3mNl",
        "outputId": "32dab1f1-861b-48de-df2d-c9d94757d10a"
      },
      "source": [
        "mydict"
      ],
      "execution_count": 22,
      "outputs": [
        {
          "output_type": "execute_result",
          "data": {
            "text/plain": [
              "{'2014-10-03': [111, 1415, 206, 66],\n",
              " '2014-11-02': [7116, 21972, 3475, 1297],\n",
              " '2014-12-14': [8181, 19621, 4308, 1069],\n",
              " '2015-01-27': [4267, 21958, 3747, 1202],\n",
              " '2015-02-22': [10482, 19520, 3297, 1043],\n",
              " '2015-03-22': [14109, 16990, 3641, 1180],\n",
              " '2015-04-26': [7615, 16922, 5118, 725],\n",
              " '2015-05-31': [7699, 17483, 4504, 940],\n",
              " '2015-06-28': [5610, 16611, 4517, 1495],\n",
              " '2015-07-26': [12154, 16803, 3584, 1142],\n",
              " '2015-08-30': [7611, 18067, 3542, 1030],\n",
              " '2015-09-20': [6839, 17093, 3343, 945],\n",
              " '2015-10-25': [4954, 15069, 4486, 661],\n",
              " '2015-11-29': [5567, 14339, 4105, 762],\n",
              " '2015-12-27': [5039, 13234, 3815, 604],\n",
              " '2016-01-31': [4417, 11845, 3883, 562],\n",
              " '2016-02-28': [5121, 22039, 3123, 1266],\n",
              " '2016-03-27': [6670, 20585, 3211, 1177],\n",
              " '2016-04-24': [7544, 21237, 3054, 1168],\n",
              " '2016-05-22': [125, 4513, 7864, 41],\n",
              " '2016-06-26': [5109, 18269, 3618, 885],\n",
              " '2016-07-31': [8551, 18892, 3312, 1202],\n",
              " '2016-08-28': [7924, 18752, 3309, 1379],\n",
              " '2016-09-25': [10812, 15465, 3452, 1195],\n",
              " '2016-10-30': [14702, 15653, 3490, 945],\n",
              " '2016-11-27': [11593, 14929, 4157, 1194],\n",
              " '2016-12-25': [10584, 16546, 3694, 1011],\n",
              " '2017-01-29': [9724, 16555, 3379, 965],\n",
              " '2017-02-26': [11707, 14422, 3961, 1261],\n",
              " '2017-03-26': [20519, 10161, 4490, 902],\n",
              " '2017-04-30': [7938, 19323, 3901, 1718],\n",
              " '2017-05-28': [9176, 18423, 3592, 1713],\n",
              " '2017-06-25': [6949, 12479, 6933, 1334],\n",
              " '2017-07-30': [16944, 12038, 3836, 2717],\n",
              " '2017-08-27': [8928, 17848, 3751, 1777],\n",
              " '2017-09-24': [9876, 14902, 4464, 1921],\n",
              " '2017-10-29': [23405, 10239, 3536, 1840],\n",
              " '2017-12-31': [29614, 17785, 5141, 2157],\n",
              " '2018-01-28': [34023, 17477, 5260, 2432],\n",
              " '2018-02-25': [47632, 13339, 5609, 2303],\n",
              " '2018-03-25': [25614, 19389, 5112, 2694],\n",
              " '2018-04-29': [23045, 21447, 5405, 2962],\n",
              " '2018-05-27': [19526, 22143, 6138, 1977],\n",
              " '2018-06-24': [24170, 20901, 5282, 2485],\n",
              " '2018-07-29': [40616, 14065, 4803, 2816],\n",
              " '2018-08-26': [24796, 19161, 4900, 2295],\n",
              " '2018-09-30': [13131, 33539, 3334, 886],\n",
              " '2018-10-28': [14907, 35571, 3196, 1205],\n",
              " '2018-11-25': [31813, 20548, 4717, 2471],\n",
              " '2018-12-30': [18574, 31663, 3332, 1230],\n",
              " '2019-01-27': [21099, 29428, 4388, 2879],\n",
              " '2019-02-24': [26059, 16476, 7061, 2676],\n",
              " '2019-06-30': [28340, 21824, 4384, 2332],\n",
              " '2019-07-28': [29289, 19763, 4211, 2374],\n",
              " '2019-08-25': [14254, 31697, 3546, 1211],\n",
              " '2019-09-29': [9153, 37399, 3732, 2187],\n",
              " '2019-10-27': [6267, 37650, 3252, 1031],\n",
              " '2019-11-24': [7878, 36614, 3156, 1922],\n",
              " '2019-12-29': [8207, 35509, 3500, 1296],\n",
              " '2020-01-26': [12258, 38851, 2721, 1034],\n",
              " '2020-02-23': [14960, 36053, 3703, 1250],\n",
              " '2020-03-29': [11489, 34013, 4012, 1036],\n",
              " '2020-04-26': [9968, 30798, 3925, 2012],\n",
              " '2020-05-31': [16481, 27855, 4789, 2814],\n",
              " '2020-06-28': [13422, 30890, 4403, 2200],\n",
              " '2020-07-26': [12004, 30461, 3525, 1657],\n",
              " '2020-08-30': [12101, 28251, 4713, 1619],\n",
              " '2020-09-27': [18224, 28438, 3453, 1819],\n",
              " '2020-10-25': [13130, 32212, 3378, 1395],\n",
              " '2020-11-29': [28524, 19309, 4483, 2436],\n",
              " '2020-12-27': [10673, 28847, 5517, 2042],\n",
              " '2021-01-31': [14989, 25650, 3856, 1863],\n",
              " '2021-02-28': [13821, 30672, 3692, 1724],\n",
              " '2021-03-28': [9197, 30692, 5384, 1482],\n",
              " '2021-04-25': [18097, 19766, 5836, 2374],\n",
              " '2021-05-30': [18633, 19556, 4274, 2411],\n",
              " '2021-06-27': [18512, 20848, 3787, 2920],\n",
              " '2021-07-25': [10099, 24819, 2952, 3182],\n",
              " '2021-08-29': [13494, 20779, 3629, 2066],\n",
              " '2021-09-26': [14211, 17479, 2929, 1164],\n",
              " '2021-10-24': [25457, 18575, 3417, 2051]}"
            ]
          },
          "metadata": {},
          "execution_count": 22
        }
      ]
    },
    {
      "cell_type": "code",
      "metadata": {
        "colab": {
          "base_uri": "https://localhost:8080/",
          "height": 417
        },
        "id": "I6MH5Ri_5YYn",
        "outputId": "bd3bfbae-c877-472c-ce63-4a0747ca77a5"
      },
      "source": [
        "finaldf=pd.DataFrame.from_dict(mydict, orient='index',columns=['hindi','english','hash','mention'])\n",
        "finaldf"
      ],
      "execution_count": 29,
      "outputs": [
        {
          "output_type": "execute_result",
          "data": {
            "text/html": [
              "<div>\n",
              "<style scoped>\n",
              "    .dataframe tbody tr th:only-of-type {\n",
              "        vertical-align: middle;\n",
              "    }\n",
              "\n",
              "    .dataframe tbody tr th {\n",
              "        vertical-align: top;\n",
              "    }\n",
              "\n",
              "    .dataframe thead th {\n",
              "        text-align: right;\n",
              "    }\n",
              "</style>\n",
              "<table border=\"1\" class=\"dataframe\">\n",
              "  <thead>\n",
              "    <tr style=\"text-align: right;\">\n",
              "      <th></th>\n",
              "      <th>hindi</th>\n",
              "      <th>english</th>\n",
              "      <th>hash</th>\n",
              "      <th>mention</th>\n",
              "    </tr>\n",
              "  </thead>\n",
              "  <tbody>\n",
              "    <tr>\n",
              "      <th>2021-10-24</th>\n",
              "      <td>25457</td>\n",
              "      <td>18575</td>\n",
              "      <td>3417</td>\n",
              "      <td>2051</td>\n",
              "    </tr>\n",
              "    <tr>\n",
              "      <th>2021-09-26</th>\n",
              "      <td>14211</td>\n",
              "      <td>17479</td>\n",
              "      <td>2929</td>\n",
              "      <td>1164</td>\n",
              "    </tr>\n",
              "    <tr>\n",
              "      <th>2021-08-29</th>\n",
              "      <td>13494</td>\n",
              "      <td>20779</td>\n",
              "      <td>3629</td>\n",
              "      <td>2066</td>\n",
              "    </tr>\n",
              "    <tr>\n",
              "      <th>2021-07-25</th>\n",
              "      <td>10099</td>\n",
              "      <td>24819</td>\n",
              "      <td>2952</td>\n",
              "      <td>3182</td>\n",
              "    </tr>\n",
              "    <tr>\n",
              "      <th>2021-06-27</th>\n",
              "      <td>18512</td>\n",
              "      <td>20848</td>\n",
              "      <td>3787</td>\n",
              "      <td>2920</td>\n",
              "    </tr>\n",
              "    <tr>\n",
              "      <th>...</th>\n",
              "      <td>...</td>\n",
              "      <td>...</td>\n",
              "      <td>...</td>\n",
              "      <td>...</td>\n",
              "    </tr>\n",
              "    <tr>\n",
              "      <th>2015-02-22</th>\n",
              "      <td>10482</td>\n",
              "      <td>19520</td>\n",
              "      <td>3297</td>\n",
              "      <td>1043</td>\n",
              "    </tr>\n",
              "    <tr>\n",
              "      <th>2015-01-27</th>\n",
              "      <td>4267</td>\n",
              "      <td>21958</td>\n",
              "      <td>3747</td>\n",
              "      <td>1202</td>\n",
              "    </tr>\n",
              "    <tr>\n",
              "      <th>2014-12-14</th>\n",
              "      <td>8181</td>\n",
              "      <td>19621</td>\n",
              "      <td>4308</td>\n",
              "      <td>1069</td>\n",
              "    </tr>\n",
              "    <tr>\n",
              "      <th>2014-11-02</th>\n",
              "      <td>7116</td>\n",
              "      <td>21972</td>\n",
              "      <td>3475</td>\n",
              "      <td>1297</td>\n",
              "    </tr>\n",
              "    <tr>\n",
              "      <th>2014-10-03</th>\n",
              "      <td>111</td>\n",
              "      <td>1415</td>\n",
              "      <td>206</td>\n",
              "      <td>66</td>\n",
              "    </tr>\n",
              "  </tbody>\n",
              "</table>\n",
              "<p>81 rows × 4 columns</p>\n",
              "</div>"
            ],
            "text/plain": [
              "            hindi  english  hash  mention\n",
              "2021-10-24  25457    18575  3417     2051\n",
              "2021-09-26  14211    17479  2929     1164\n",
              "2021-08-29  13494    20779  3629     2066\n",
              "2021-07-25  10099    24819  2952     3182\n",
              "2021-06-27  18512    20848  3787     2920\n",
              "...           ...      ...   ...      ...\n",
              "2015-02-22  10482    19520  3297     1043\n",
              "2015-01-27   4267    21958  3747     1202\n",
              "2014-12-14   8181    19621  4308     1069\n",
              "2014-11-02   7116    21972  3475     1297\n",
              "2014-10-03    111     1415   206       66\n",
              "\n",
              "[81 rows x 4 columns]"
            ]
          },
          "metadata": {},
          "execution_count": 29
        }
      ]
    },
    {
      "cell_type": "code",
      "metadata": {
        "colab": {
          "base_uri": "https://localhost:8080/",
          "height": 297
        },
        "id": "6nF_sXiwZ6IT",
        "outputId": "b8b3183c-e581-4545-9776-0efe7ba7fbc6"
      },
      "source": [
        "import matplotlib.pyplot as plt\n",
        "import numpy as np\n",
        "\n",
        "\n",
        "labels = finaldf.index\n",
        "english_words = finaldf['english'].tolist()\n",
        "hindi_words = finaldf['hindi'].tolist()\n",
        "hashtags = finaldf['hash'].tolist()\n",
        "mentions = finaldf['mention'].tolist()\n",
        "\n",
        "x = np.arange(len(labels))  # the label locations\n",
        "width = 0.35  # the width of the bars\n",
        "\n",
        "fig, ax = plt.subplots()\n",
        "rects1 = ax.bar(x - width/2, english_words, width, label='english_words')\n",
        "rects2 = ax.bar(x + width/2, hindi_words, width, label='hindi_words')\n",
        "rects3 = ax.bar(x - width/2, hashtags, width, label='hashtags')\n",
        "rects3 = ax.bar(x + width/2, mentions, width, label='mentions')\n",
        "\n",
        "# Add some text for labels, title and custom x-axis tick labels, etc.\n",
        "ax.set_ylabel('count')\n",
        "ax.set_title('Twitter Data Count')\n",
        "ax.set_xticks(x)\n",
        "ax.set_xticklabels(labels)\n",
        "ax.legend()\n",
        "\n",
        "\n",
        "\n",
        "fig.tight_layout()\n",
        "\n",
        "plt.show()\n",
        "fig.set_size_inches(18.5, 10.5)\n",
        "fig.savefig('twitter_data.png', dpi=100)"
      ],
      "execution_count": 41,
      "outputs": [
        {
          "output_type": "display_data",
          "data": {
            "image/png": "[encoded data removed]",
            "text/plain": [
              "<Figure size 432x288 with 1 Axes>"
            ]
          },
          "metadata": {
            "needs_background": "light"
          }
        }
      ]
    },
    {
      "cell_type": "code",
      "metadata": {
        "colab": {
          "base_uri": "https://localhost:8080/"
        },
        "id": "-KtYET9OaIgF",
        "outputId": "09aaf610-66c6-4d87-93b6-50f3a1cd4d54"
      },
      "source": [
        "finaldf['english'].tolist()"
      ],
      "execution_count": 33,
      "outputs": [
        {
          "output_type": "execute_result",
          "data": {
            "text/plain": [
              "[18575,\n",
              " 17479,\n",
              " 20779,\n",
              " 24819,\n",
              " 20848,\n",
              " 19556,\n",
              " 19766,\n",
              " 30692,\n",
              " 30672,\n",
              " 25650,\n",
              " 28847,\n",
              " 19309,\n",
              " 32212,\n",
              " 28438,\n",
              " 28251,\n",
              " 30461,\n",
              " 30890,\n",
              " 27855,\n",
              " 30798,\n",
              " 34013,\n",
              " 36053,\n",
              " 38851,\n",
              " 35509,\n",
              " 36614,\n",
              " 37650,\n",
              " 37399,\n",
              " 31697,\n",
              " 19763,\n",
              " 21824,\n",
              " 16476,\n",
              " 29428,\n",
              " 31663,\n",
              " 20548,\n",
              " 35571,\n",
              " 33539,\n",
              " 19161,\n",
              " 14065,\n",
              " 20901,\n",
              " 22143,\n",
              " 21447,\n",
              " 19389,\n",
              " 13339,\n",
              " 17477,\n",
              " 17785,\n",
              " 10239,\n",
              " 14902,\n",
              " 17848,\n",
              " 12038,\n",
              " 12479,\n",
              " 18423,\n",
              " 19323,\n",
              " 10161,\n",
              " 14422,\n",
              " 16555,\n",
              " 16546,\n",
              " 14929,\n",
              " 15653,\n",
              " 15465,\n",
              " 18752,\n",
              " 18892,\n",
              " 18269,\n",
              " 4513,\n",
              " 21237,\n",
              " 20585,\n",
              " 22039,\n",
              " 11845,\n",
              " 13234,\n",
              " 14339,\n",
              " 15069,\n",
              " 17093,\n",
              " 18067,\n",
              " 16803,\n",
              " 16611,\n",
              " 17483,\n",
              " 16922,\n",
              " 16990,\n",
              " 19520,\n",
              " 21958,\n",
              " 19621,\n",
              " 21972,\n",
              " 1415]"
            ]
          },
          "metadata": {},
          "execution_count": 33
        }
      ]
    }
  ]
}