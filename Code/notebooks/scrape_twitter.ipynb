{
 "cells": [
  {
   "cell_type": "code",
   "execution_count": 1,
   "metadata": {
    "colab": {
     "base_uri": "https://localhost:8080/"
    },
    "id": "nJwjfyDairVI",
    "outputId": "9cc98dee-81f6-44db-f284-79409cd36720"
   },
   "outputs": [
    {
     "name": "stdout",
     "output_type": "stream",
     "text": [
      "Requirement already satisfied: snscrape in c:\\users\\yadu\\miniconda3\\lib\\site-packages (0.3.4)\n",
      "Requirement already satisfied: lxml in c:\\users\\yadu\\miniconda3\\lib\\site-packages (from snscrape) (4.6.1)\n",
      "Requirement already satisfied: beautifulsoup4 in c:\\users\\yadu\\miniconda3\\lib\\site-packages (from snscrape) (4.9.3)\n",
      "Requirement already satisfied: requests[socks] in c:\\users\\yadu\\miniconda3\\lib\\site-packages (from snscrape) (2.25.1)\n",
      "Requirement already satisfied: soupsieve>1.2 in c:\\users\\yadu\\miniconda3\\lib\\site-packages (from beautifulsoup4->snscrape) (2.0.1)\n"
     ]
    },
    {
     "name": "stderr",
     "output_type": "stream",
     "text": [
      "WARNING: You are using pip version 21.2.4; however, version 21.3.1 is available.\n",
      "You should consider upgrading via the 'c:\\users\\yadu\\miniconda3\\python.exe -m pip install --upgrade pip' command.\n"
     ]
    },
    {
     "name": "stdout",
     "output_type": "stream",
     "text": [
      "Requirement already satisfied: certifi>=2017.4.17 in c:\\users\\yadu\\miniconda3\\lib\\site-packages (from requests[socks]->snscrape) (2020.12.5)\n",
      "Requirement already satisfied: chardet<5,>=3.0.2 in c:\\users\\yadu\\miniconda3\\lib\\site-packages (from requests[socks]->snscrape) (3.0.4)\n",
      "Requirement already satisfied: urllib3<1.27,>=1.21.1 in c:\\users\\yadu\\miniconda3\\lib\\site-packages (from requests[socks]->snscrape) (1.26.4)\n",
      "Requirement already satisfied: idna<3,>=2.5 in c:\\users\\yadu\\miniconda3\\lib\\site-packages (from requests[socks]->snscrape) (2.8)\n",
      "Requirement already satisfied: PySocks!=1.5.7,>=1.5.6 in c:\\users\\yadu\\miniconda3\\lib\\site-packages (from requests[socks]->snscrape) (1.7.1)\n"
     ]
    },
    {
     "name": "stderr",
     "output_type": "stream",
     "text": [
      "'rm' is not recognized as an internal or external command,\n",
      "operable program or batch file.\n",
      "'wget' is not recognized as an internal or external command,\n",
      "operable program or batch file.\n"
     ]
    },
    {
     "ename": "FileNotFoundError",
     "evalue": "[Errno 2] No such file or directory: 'filename.txt'",
     "output_type": "error",
     "traceback": [
      "\u001b[1;31m---------------------------------------------------------------------------\u001b[0m",
      "\u001b[1;31mFileNotFoundError\u001b[0m                         Traceback (most recent call last)",
      "\u001b[1;32m<ipython-input-1-5925cb5df429>\u001b[0m in \u001b[0;36m<module>\u001b[1;34m\u001b[0m\n\u001b[0;32m      3\u001b[0m \u001b[0mget_ipython\u001b[0m\u001b[1;33m(\u001b[0m\u001b[1;33m)\u001b[0m\u001b[1;33m.\u001b[0m\u001b[0msystem\u001b[0m\u001b[1;33m(\u001b[0m\u001b[1;34m'wget https://raw.githubusercontent.com/tezz-io/ds_lab/main/output/filename.txt'\u001b[0m\u001b[1;33m)\u001b[0m\u001b[1;33m\u001b[0m\u001b[1;33m\u001b[0m\u001b[0m\n\u001b[0;32m      4\u001b[0m \u001b[1;33m\u001b[0m\u001b[0m\n\u001b[1;32m----> 5\u001b[1;33m \u001b[0mf1\u001b[0m \u001b[1;33m=\u001b[0m \u001b[0mopen\u001b[0m\u001b[1;33m(\u001b[0m\u001b[1;34m\"filename.txt\"\u001b[0m\u001b[1;33m)\u001b[0m\u001b[1;33m\u001b[0m\u001b[1;33m\u001b[0m\u001b[0m\n\u001b[0m\u001b[0;32m      6\u001b[0m \u001b[0ms\u001b[0m \u001b[1;33m=\u001b[0m \u001b[0mf1\u001b[0m\u001b[1;33m.\u001b[0m\u001b[0mread\u001b[0m\u001b[1;33m(\u001b[0m\u001b[1;33m)\u001b[0m\u001b[1;33m.\u001b[0m\u001b[0msplit\u001b[0m\u001b[1;33m(\u001b[0m\u001b[1;34m\"\\n\"\u001b[0m\u001b[1;33m)\u001b[0m\u001b[1;33m\u001b[0m\u001b[1;33m\u001b[0m\u001b[0m\n\u001b[0;32m      7\u001b[0m \u001b[1;33m\u001b[0m\u001b[0m\n",
      "\u001b[1;31mFileNotFoundError\u001b[0m: [Errno 2] No such file or directory: 'filename.txt'"
     ]
    }
   ],
   "source": [
    "!pip3 install snscrape\n",
    "!rm -rf filename.txt\n",
    "!wget https://raw.githubusercontent.com/tezz-io/ds_lab/main/output/filename.txt\n",
    "\n",
    "f1 = open(\"filename.txt\")\n",
    "s = f1.read().split(\"\\n\")\n",
    "\n",
    "import snscrape.modules.twitter as sntwitter\n",
    "import pandas as pd\n",
    "import json\n",
    "\n",
    "tweets1 = {}\n",
    "'''\n",
    "def increment_date(date):\n",
    "  year = int(date[0:4])\n",
    "  month = int(date[5:7])\n",
    "  date = int(date[8:])\n",
    "  date += 1\n",
    "  if month in [1, 3, 5, 7, 8, 10, 12] and date > 31:\n",
    "    date = 1\n",
    "    month += 1\n",
    "  if month in [4, 6, 9, 11] and date > 30:\n",
    "    date = 1\n",
    "    month += 1\n",
    "  if month == 2 and year % 4 == 0 and date > 29:\n",
    "    date = 1\n",
    "    month += 1\n",
    "  if month == 2 and year % 4 != 0 and date > 28:\n",
    "    date = 1\n",
    "    month += 1\n",
    "  if month > 12:\n",
    "    month = 1\n",
    "    year += 1\n",
    "\n",
    "  x = \"\"\n",
    "  x += str(year) + '-'\n",
    "  if month < 10:\n",
    "    x += '0'\n",
    "  x += str(month) + '-'\n",
    "  if date < 10:\n",
    "    x += '0'\n",
    "  x += str(date)\n",
    "\n",
    "  return x\n",
    "\n",
    "\n",
    "for x in s:\n",
    "  x = str(x)\n",
    "  x = x[0:4] + \"-\" + x[4:6] + \"-\" + x[6:]\n",
    "  print(x, increment_date(x))\n",
    "\n",
    "  # Creating list to append tweets data to\n",
    "  tweets_list2 = {}\n",
    "\n",
    "  # Using TwitterSearchScraper to scrape data and append tweets to list\n",
    "  for i,tweet in enumerate(sntwitter.TwitterSearchScraper('#mannkibaat since:'+x+' until:'+increment_date(x)).get_items()):\n",
    "      if i>1000:\n",
    "          break\n",
    "      tweets_list2[tweet.id] = tweet.content\n",
    "  tweets1[x] = tweets_list2  \n",
    "  # print(tweets_list2)\n",
    "    \n",
    "# print(tweets1)\n",
    "# Creating a dataframe from the tweets list above\n",
    "f = open(\"tweets.json\",\"w+\")\n",
    "json.dump(tweets1,f,ensure_ascii = True)\n",
    "\n",
    "\n",
    "'''"
   ]
  },
  {
   "cell_type": "code",
   "execution_count": 7,
   "metadata": {
    "id": "k7M1voKSjaMd"
   },
   "outputs": [
    {
     "name": "stdout",
     "output_type": "stream",
     "text": [
      "Requirement already satisfied: snscrape in c:\\users\\yadu\\miniconda3\\lib\\site-packages (0.3.4)\n",
      "Requirement already satisfied: lxml in c:\\users\\yadu\\miniconda3\\lib\\site-packages (from snscrape) (4.6.1)\n",
      "Requirement already satisfied: beautifulsoup4 in c:\\users\\yadu\\miniconda3\\lib\\site-packages (from snscrape) (4.9.3)\n",
      "Requirement already satisfied: requests[socks] in c:\\users\\yadu\\miniconda3\\lib\\site-packages (from snscrape) (2.25.1)\n",
      "Requirement already satisfied: soupsieve>1.2 in c:\\users\\yadu\\miniconda3\\lib\\site-packages (from beautifulsoup4->snscrape) (2.0.1)\n",
      "Requirement already satisfied: urllib3<1.27,>=1.21.1 in c:\\users\\yadu\\miniconda3\\lib\\site-packages (from requests[socks]->snscrape) (1.26.4)\n",
      "Requirement already satisfied: certifi>=2017.4.17 in c:\\users\\yadu\\miniconda3\\lib\\site-packages (from requests[socks]->snscrape) (2020.12.5)\n",
      "Requirement already satisfied: chardet<5,>=3.0.2 in c:\\users\\yadu\\miniconda3\\lib\\site-packages (from requests[socks]->snscrape) (3.0.4)\n",
      "Requirement already satisfied: idna<3,>=2.5 in c:\\users\\yadu\\miniconda3\\lib\\site-packages (from requests[socks]->snscrape) (2.8)\n",
      "Requirement already satisfied: PySocks!=1.5.7,>=1.5.6 in c:\\users\\yadu\\miniconda3\\lib\\site-packages (from requests[socks]->snscrape) (1.7.1)\n"
     ]
    },
    {
     "name": "stderr",
     "output_type": "stream",
     "text": [
      "WARNING: You are using pip version 21.2.4; however, version 21.3.1 is available.\n",
      "You should consider upgrading via the 'c:\\users\\yadu\\miniconda3\\python.exe -m pip install --upgrade pip' command.\n"
     ]
    },
    {
     "ename": "TypeError",
     "evalue": "'TwitterSearchScraper' object is not iterable",
     "output_type": "error",
     "traceback": [
      "\u001b[1;31m---------------------------------------------------------------------------\u001b[0m",
      "\u001b[1;31mTypeError\u001b[0m                                 Traceback (most recent call last)",
      "\u001b[1;32m<ipython-input-7-6da8e0478da3>\u001b[0m in \u001b[0;36m<module>\u001b[1;34m\u001b[0m\n\u001b[0;32m      3\u001b[0m \u001b[1;32mimport\u001b[0m \u001b[0mpandas\u001b[0m \u001b[1;32mas\u001b[0m \u001b[0mpd\u001b[0m\u001b[1;33m\u001b[0m\u001b[1;33m\u001b[0m\u001b[0m\n\u001b[0;32m      4\u001b[0m \u001b[1;32mimport\u001b[0m \u001b[0mjson\u001b[0m\u001b[1;33m\u001b[0m\u001b[1;33m\u001b[0m\u001b[0m\n\u001b[1;32m----> 5\u001b[1;33m \u001b[1;32mfor\u001b[0m \u001b[0mi\u001b[0m\u001b[1;33m,\u001b[0m\u001b[0mtweet\u001b[0m \u001b[1;32min\u001b[0m \u001b[0menumerate\u001b[0m\u001b[1;33m(\u001b[0m\u001b[0msntwitter\u001b[0m\u001b[1;33m.\u001b[0m\u001b[0mTwitterSearchScraper\u001b[0m\u001b[1;33m(\u001b[0m\u001b[1;34m'#mannkibaat since:\\'20211024\\' until:\\'20211025\\''\u001b[0m\u001b[1;33m)\u001b[0m\u001b[1;33m)\u001b[0m\u001b[1;33m.\u001b[0m\u001b[0mget_items\u001b[0m\u001b[1;33m(\u001b[0m\u001b[1;33m)\u001b[0m\u001b[1;33m:\u001b[0m\u001b[1;33m\u001b[0m\u001b[1;33m\u001b[0m\u001b[0m\n\u001b[0m\u001b[0;32m      6\u001b[0m     \u001b[1;32mif\u001b[0m \u001b[0mi\u001b[0m \u001b[1;33m<\u001b[0m \u001b[1;36m10\u001b[0m\u001b[1;33m:\u001b[0m\u001b[1;33m\u001b[0m\u001b[1;33m\u001b[0m\u001b[0m\n\u001b[0;32m      7\u001b[0m           \u001b[0mprint\u001b[0m\u001b[1;33m(\u001b[0m\u001b[0mtweet\u001b[0m\u001b[1;33m.\u001b[0m\u001b[0mid\u001b[0m\u001b[1;33m)\u001b[0m\u001b[1;33m\u001b[0m\u001b[1;33m\u001b[0m\u001b[0m\n",
      "\u001b[1;31mTypeError\u001b[0m: 'TwitterSearchScraper' object is not iterable"
     ]
    }
   ],
   "source": [
    "!pip3 install snscrape\n",
    "import snscrape.modules.twitter as sntwitter\n",
    "import pandas as pd\n",
    "import json\n"
   ]
  },
  {
   "cell_type": "code",
   "execution_count": 19,
   "metadata": {},
   "outputs": [
    {
     "name": "stdout",
     "output_type": "stream",
     "text": [
      "⚡️ Highlights of the 81st Episode of #MannKiBaat:\n",
      "\n",
      "https://t.co/JjU1WQ3qMP\n",
      "@sambitswaraj @narendramodi Yup @sambitswaraj @ModiWorstPMEver is just good for his #horseshit crap 💩 name #MannKiBaat\n",
      "@prasanna_s Modi-ji has single-handedly done 2000 #MannKiBaat sessions which made people to drop everything to find a solution to mute him, thereby solving many other governance issues.\n",
      "#MannKiBaat\n",
      "The whole country is soon going to celebrate Dussehra, the victory of good over evil. Drawing inspiration from the festival, PM Modi said we must remember our fight against Corona.\n",
      "#MannKiBaat\n",
      "September 25th was the birth anniversary Pandit Deendayal Upadhyay, one of the greatest thinkers of the last century. PM Modi said that his policies to empower the society, the path shown by him to Antyodaya, is inspirational even today.\n",
      "#MannKiBaat\n",
      "India has immense potential for exporting medicinal plants. PM Modi urges scientists, researchers &amp; start-ups to pay attention to herbal products to not only increase the wellness and immunity of the people, but also help in increasing the income of farmers and youth\n",
      "#MannKiBaat\n",
      "The trend is shifting towards medicinal plants and herbal products. Odisha's Sahuji has tirelessly worked on medicinal farming on his 1.5 acres of land.\n",
      "#MannKiBaat\n",
      "A letter by Satish ji from Ranchi drew PM Modi’s attention to an Aloe Vera Village in Jharkhand. The women of Deori village near Ranchi had taken training in Aloe Vera cultivation &amp; started Aloe Vera cultivation\n",
      "#MannKiBaat\n",
      "A group of 8 differently-abled people commemorated their journey to the Siachen glacier reflecting the ‘can do’ attitude. They made a world record by waving the Indian flag on 'Kumar Post' situated at an altitude of more than 15,000 ft.\n",
      "#MannKiBaat\n",
      "Over 5000 amateur writers are working towards promulgating the lives of Unsung Heroes who have contributed to India's growth &amp; independence story. PM Modi urges more such people to come forward &amp; share such stories of courage.\n"
     ]
    }
   ],
   "source": [
    "for i,tweet in enumerate(sntwitter.TwitterSearchScraper('#mannkibaat since:2021-09-26 until:2021-09-27').get_items()):\n",
    "    if i < 10:\n",
    "        print(tweet.content)"
   ]
  },
  {
   "cell_type": "code",
   "execution_count": null,
   "metadata": {},
   "outputs": [],
   "source": []
  }
 ],
 "metadata": {
  "colab": {
   "name": "scrape_twitter.ipynb",
   "provenance": []
  },
  "kernelspec": {
   "display_name": "Python 3",
   "language": "python",
   "name": "python3"
  },
  "language_info": {
   "codemirror_mode": {
    "name": "ipython",
    "version": 3
   },
   "file_extension": ".py",
   "mimetype": "text/x-python",
   "name": "python",
   "nbconvert_exporter": "python",
   "pygments_lexer": "ipython3",
   "version": "3.8.3"
  }
 },
 "nbformat": 4,
 "nbformat_minor": 1
}
