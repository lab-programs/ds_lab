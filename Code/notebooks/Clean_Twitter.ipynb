{
  "nbformat": 4,
  "nbformat_minor": 0,
  "metadata": {
    "colab": {
      "name": "Clean_Twitter.ipynb",
      "provenance": [],
      "collapsed_sections": []
    },
    "kernelspec": {
      "name": "python3",
      "display_name": "Python 3"
    },
    "language_info": {
      "name": "python"
    }
  },
  "cells": [
    {
      "cell_type": "code",
      "metadata": {
        "colab": {
          "base_uri": "https://localhost:8080/"
        },
        "id": "p3ujwh0oexOt",
        "outputId": "625630f6-7eb3-418d-eb63-b818a6e7d47f"
      },
      "source": [
        "!rm -rf cleaner.py\n",
        "!rm -rf tweets48.json\n",
        "!rm -rf etl_twitter.py\n",
        "!wget https://raw.githubusercontent.com/tezz-io/ds_lab/main/Code/scripts/cleaner.py\n",
        "!wget https://raw.githubusercontent.com/tezz-io/ds_lab/main/output/tweets48.json\n",
        "!wget https://raw.githubusercontent.com/tezz-io/ds_lab/main/Code/scripts/etl_twitter.py"
      ],
      "execution_count": 1,
      "outputs": [
        {
          "output_type": "stream",
          "name": "stdout",
          "text": [
            "--2021-11-07 09:29:04--  https://raw.githubusercontent.com/tezz-io/ds_lab/main/Code/scripts/cleaner.py\n",
            "Resolving raw.githubusercontent.com (raw.githubusercontent.com)... 185.199.108.133, 185.199.109.133, 185.199.110.133, ...\n",
            "Connecting to raw.githubusercontent.com (raw.githubusercontent.com)|185.199.108.133|:443... connected.\n",
            "HTTP request sent, awaiting response... 200 OK\n",
            "Length: 4246 (4.1K) [text/plain]\n",
            "Saving to: ‘cleaner.py’\n",
            "\n",
            "\rcleaner.py            0%[                    ]       0  --.-KB/s               \rcleaner.py          100%[===================>]   4.15K  --.-KB/s    in 0s      \n",
            "\n",
            "2021-11-07 09:29:04 (64.6 MB/s) - ‘cleaner.py’ saved [4246/4246]\n",
            "\n",
            "--2021-11-07 09:29:04--  https://raw.githubusercontent.com/tezz-io/ds_lab/main/output/tweets48.json\n",
            "Resolving raw.githubusercontent.com (raw.githubusercontent.com)... 185.199.108.133, 185.199.109.133, 185.199.110.133, ...\n",
            "Connecting to raw.githubusercontent.com (raw.githubusercontent.com)|185.199.108.133|:443... connected.\n",
            "HTTP request sent, awaiting response... 200 OK\n",
            "Length: 53185159 (51M) [text/plain]\n",
            "Saving to: ‘tweets48.json.1’\n",
            "\n",
            "tweets48.json.1     100%[===================>]  50.72M   201MB/s    in 0.3s    \n",
            "\n",
            "2021-11-07 09:29:05 (201 MB/s) - ‘tweets48.json.1’ saved [53185159/53185159]\n",
            "\n",
            "--2021-11-07 09:29:05--  https://raw.githubusercontent.com/tezz-io/ds_lab/main/Code/scripts/etl_twitter.py\n",
            "Resolving raw.githubusercontent.com (raw.githubusercontent.com)... 185.199.108.133, 185.199.109.133, 185.199.110.133, ...\n",
            "Connecting to raw.githubusercontent.com (raw.githubusercontent.com)|185.199.108.133|:443... connected.\n",
            "HTTP request sent, awaiting response... 200 OK\n",
            "Length: 720 [text/plain]\n",
            "Saving to: ‘etl_twitter.py’\n",
            "\n",
            "etl_twitter.py      100%[===================>]     720  --.-KB/s    in 0s      \n",
            "\n",
            "2021-11-07 09:29:05 (51.1 MB/s) - ‘etl_twitter.py’ saved [720/720]\n",
            "\n"
          ]
        }
      ]
    },
    {
      "cell_type": "code",
      "metadata": {
        "colab": {
          "base_uri": "https://localhost:8080/"
        },
        "id": "uasyh1dqfL-n",
        "outputId": "07a61c56-6deb-4eed-f232-a9202ee4dca0"
      },
      "source": [
        "!ls"
      ],
      "execution_count": 2,
      "outputs": [
        {
          "output_type": "stream",
          "name": "stdout",
          "text": [
            "cleaned_tweets48.csv  etl_twitter.py  sample_data    tweets48.json.1\n",
            "cleaner.py\t      __pycache__     tweets48.json\n"
          ]
        }
      ]
    },
    {
      "cell_type": "code",
      "metadata": {
        "colab": {
          "base_uri": "https://localhost:8080/"
        },
        "id": "jJe3ebz0fNQD",
        "outputId": "150896ee-2bd9-4836-a11d-06ce53a7cc5c"
      },
      "source": [
        "from cleaner import clean_df\n",
        "from etl_twitter import get_big_df\n",
        "import pandas as pd"
      ],
      "execution_count": 3,
      "outputs": [
        {
          "output_type": "stream",
          "name": "stdout",
          "text": [
            "[nltk_data] Downloading package stopwords to /root/nltk_data...\n",
            "[nltk_data]   Package stopwords is already up-to-date!\n",
            "[nltk_data] Downloading package punkt to /root/nltk_data...\n",
            "[nltk_data]   Package punkt is already up-to-date!\n"
          ]
        }
      ]
    },
    {
      "cell_type": "code",
      "metadata": {
        "id": "qoMF5GQFhK_t"
      },
      "source": [
        "df = get_big_df('tweets48.json') # about 25s"
      ],
      "execution_count": 4,
      "outputs": []
    },
    {
      "cell_type": "code",
      "metadata": {
        "colab": {
          "base_uri": "https://localhost:8080/",
          "height": 204
        },
        "id": "2qub7QArhWLH",
        "outputId": "0dbc1715-4786-492a-ddaf-24402cbea57d"
      },
      "source": [
        "df.head()"
      ],
      "execution_count": 5,
      "outputs": [
        {
          "output_type": "execute_result",
          "data": {
            "text/html": [
              "<div>\n",
              "<style scoped>\n",
              "    .dataframe tbody tr th:only-of-type {\n",
              "        vertical-align: middle;\n",
              "    }\n",
              "\n",
              "    .dataframe tbody tr th {\n",
              "        vertical-align: top;\n",
              "    }\n",
              "\n",
              "    .dataframe thead th {\n",
              "        text-align: right;\n",
              "    }\n",
              "</style>\n",
              "<table border=\"1\" class=\"dataframe\">\n",
              "  <thead>\n",
              "    <tr style=\"text-align: right;\">\n",
              "      <th></th>\n",
              "      <th>id</th>\n",
              "      <th>date</th>\n",
              "      <th>content</th>\n",
              "    </tr>\n",
              "  </thead>\n",
              "  <tbody>\n",
              "    <tr>\n",
              "      <th>1452749734716661762</th>\n",
              "      <td>1452749734716661762</td>\n",
              "      <td>2021-10-24</td>\n",
              "      <td>#Mannkibaat\\n\\nvia NaMo App</td>\n",
              "    </tr>\n",
              "    <tr>\n",
              "      <th>1452725732002697219</th>\n",
              "      <td>1452725732002697219</td>\n",
              "      <td>2021-10-24</td>\n",
              "      <td>#MannKiBaat #PMModi #MyGovIndia Those who do n...</td>\n",
              "    </tr>\n",
              "    <tr>\n",
              "      <th>1452720861367078912</th>\n",
              "      <td>1452720861367078912</td>\n",
              "      <td>2021-10-24</td>\n",
              "      <td>आप local खरीदेंगे तो आपका त्योहार भी रोशन होगा...</td>\n",
              "    </tr>\n",
              "    <tr>\n",
              "      <th>1452720388371357699</th>\n",
              "      <td>1452720388371357699</td>\n",
              "      <td>2021-10-24</td>\n",
              "      <td>@javedmansari @LangaMahesh Nobody in BJP would...</td>\n",
              "    </tr>\n",
              "    <tr>\n",
              "      <th>1452713887451607044</th>\n",
              "      <td>1452713887451607044</td>\n",
              "      <td>2021-10-24</td>\n",
              "      <td>Listened to our Hon PM Shri.@narendramodi ji’s...</td>\n",
              "    </tr>\n",
              "  </tbody>\n",
              "</table>\n",
              "</div>"
            ],
            "text/plain": [
              "                                      id  ...                                            content\n",
              "1452749734716661762  1452749734716661762  ...                        #Mannkibaat\\n\\nvia NaMo App\n",
              "1452725732002697219  1452725732002697219  ...  #MannKiBaat #PMModi #MyGovIndia Those who do n...\n",
              "1452720861367078912  1452720861367078912  ...  आप local खरीदेंगे तो आपका त्योहार भी रोशन होगा...\n",
              "1452720388371357699  1452720388371357699  ...  @javedmansari @LangaMahesh Nobody in BJP would...\n",
              "1452713887451607044  1452713887451607044  ...  Listened to our Hon PM Shri.@narendramodi ji’s...\n",
              "\n",
              "[5 rows x 3 columns]"
            ]
          },
          "metadata": {},
          "execution_count": 5
        }
      ]
    },
    {
      "cell_type": "code",
      "metadata": {
        "colab": {
          "base_uri": "https://localhost:8080/",
          "height": 204
        },
        "id": "AvpF-yOtipKT",
        "outputId": "5fa411bb-3084-458b-9d90-11bd3863aaef"
      },
      "source": [
        "df1 = clean_df(df, cols=['content']) # about 35s\n",
        "df1.head()"
      ],
      "execution_count": 6,
      "outputs": [
        {
          "output_type": "execute_result",
          "data": {
            "text/html": [
              "<div>\n",
              "<style scoped>\n",
              "    .dataframe tbody tr th:only-of-type {\n",
              "        vertical-align: middle;\n",
              "    }\n",
              "\n",
              "    .dataframe tbody tr th {\n",
              "        vertical-align: top;\n",
              "    }\n",
              "\n",
              "    .dataframe thead th {\n",
              "        text-align: right;\n",
              "    }\n",
              "</style>\n",
              "<table border=\"1\" class=\"dataframe\">\n",
              "  <thead>\n",
              "    <tr style=\"text-align: right;\">\n",
              "      <th></th>\n",
              "      <th>id</th>\n",
              "      <th>date</th>\n",
              "      <th>content</th>\n",
              "      <th>cleaned_content</th>\n",
              "    </tr>\n",
              "  </thead>\n",
              "  <tbody>\n",
              "    <tr>\n",
              "      <th>1452749734716661762</th>\n",
              "      <td>1452749734716661762</td>\n",
              "      <td>2021-10-24</td>\n",
              "      <td>#Mannkibaat\\n\\nvia NaMo App</td>\n",
              "      <td>mannkibaat via namo app</td>\n",
              "    </tr>\n",
              "    <tr>\n",
              "      <th>1452725732002697219</th>\n",
              "      <td>1452725732002697219</td>\n",
              "      <td>2021-10-24</td>\n",
              "      <td>#MannKiBaat #PMModi #MyGovIndia Those who do n...</td>\n",
              "      <td>mannkibaat pmmodi mygovindia stand india gover...</td>\n",
              "    </tr>\n",
              "    <tr>\n",
              "      <th>1452720861367078912</th>\n",
              "      <td>1452720861367078912</td>\n",
              "      <td>2021-10-24</td>\n",
              "      <td>आप local खरीदेंगे तो आपका त्योहार भी रोशन होगा...</td>\n",
              "      <td>local mannkibaat httpstcoagncronqjh</td>\n",
              "    </tr>\n",
              "    <tr>\n",
              "      <th>1452720388371357699</th>\n",
              "      <td>1452720388371357699</td>\n",
              "      <td>2021-10-24</td>\n",
              "      <td>@javedmansari @LangaMahesh Nobody in BJP would...</td>\n",
              "      <td>javedmansari langamahesh nobody bjp would want...</td>\n",
              "    </tr>\n",
              "    <tr>\n",
              "      <th>1452713887451607044</th>\n",
              "      <td>1452713887451607044</td>\n",
              "      <td>2021-10-24</td>\n",
              "      <td>Listened to our Hon PM Shri.@narendramodi ji’s...</td>\n",
              "      <td>listened hon pm shrinarendramodi ji mannkibaat...</td>\n",
              "    </tr>\n",
              "  </tbody>\n",
              "</table>\n",
              "</div>"
            ],
            "text/plain": [
              "                                      id  ...                                    cleaned_content\n",
              "1452749734716661762  1452749734716661762  ...                           mannkibaat via namo app \n",
              "1452725732002697219  1452725732002697219  ...  mannkibaat pmmodi mygovindia stand india gover...\n",
              "1452720861367078912  1452720861367078912  ...               local mannkibaat httpstcoagncronqjh \n",
              "1452720388371357699  1452720388371357699  ...  javedmansari langamahesh nobody bjp would want...\n",
              "1452713887451607044  1452713887451607044  ...  listened hon pm shrinarendramodi ji mannkibaat...\n",
              "\n",
              "[5 rows x 4 columns]"
            ]
          },
          "metadata": {},
          "execution_count": 6
        }
      ]
    },
    {
      "cell_type": "code",
      "metadata": {
        "colab": {
          "base_uri": "https://localhost:8080/"
        },
        "id": "qMfTluYii0uS",
        "outputId": "e3719a25-05e0-4797-d64c-847333449fb2"
      },
      "source": [
        "print(df1.iloc[2]['content'])\n",
        "print(df1.iloc[2]['cleaned_content'])"
      ],
      "execution_count": 7,
      "outputs": [
        {
          "output_type": "stream",
          "name": "stdout",
          "text": [
            "आप local खरीदेंगे तो आपका त्योहार भी रोशन होगा और किसी गरीब भाई-बहन, किसी कारीगर, किसी बुनकर के घर में भी रोशनी आएगी | #MannKiBaat https://t.co/agncrONqjH\n",
            "local mannkibaat httpstcoagncronqjh \n"
          ]
        }
      ]
    },
    {
      "cell_type": "code",
      "metadata": {
        "colab": {
          "base_uri": "https://localhost:8080/"
        },
        "id": "5-5ztp0tkqL5",
        "outputId": "f99ebc51-b4d7-4586-920e-607fa5410c83"
      },
      "source": [
        "print(df1.iloc[1]['content'])\n",
        "print(df1.iloc[1]['cleaned_content'])"
      ],
      "execution_count": 8,
      "outputs": [
        {
          "output_type": "stream",
          "name": "stdout",
          "text": [
            "#MannKiBaat #PMModi #MyGovIndia Those who do not stand by India should not have any government jobs and their passports should be cancelled. Cancel Mehbooba Mufti’s passport and citizenship. Sport should be left as sport and not politics\n",
            "mannkibaat pmmodi mygovindia stand india government jobs passports cancelled cancel mehbooba mufti passport citizenship sport left sport politics \n"
          ]
        }
      ]
    },
    {
      "cell_type": "code",
      "metadata": {
        "id": "Lepf0X0_mYgW"
      },
      "source": [
        "df1.drop('content', 1, inplace=True)\n",
        "df1.rename({'cleaned_content': 'content'}, axis=1, inplace=True)\n",
        "df1.to_csv('cleaned_tweets48.csv')"
      ],
      "execution_count": 9,
      "outputs": []
    },
    {
      "cell_type": "code",
      "metadata": {
        "colab": {
          "base_uri": "https://localhost:8080/",
          "height": 204
        },
        "id": "qDP8HOapnOTQ",
        "outputId": "a6de2218-82e0-4611-b712-9b422f4346e3"
      },
      "source": [
        "df1.head()"
      ],
      "execution_count": 10,
      "outputs": [
        {
          "output_type": "execute_result",
          "data": {
            "text/html": [
              "<div>\n",
              "<style scoped>\n",
              "    .dataframe tbody tr th:only-of-type {\n",
              "        vertical-align: middle;\n",
              "    }\n",
              "\n",
              "    .dataframe tbody tr th {\n",
              "        vertical-align: top;\n",
              "    }\n",
              "\n",
              "    .dataframe thead th {\n",
              "        text-align: right;\n",
              "    }\n",
              "</style>\n",
              "<table border=\"1\" class=\"dataframe\">\n",
              "  <thead>\n",
              "    <tr style=\"text-align: right;\">\n",
              "      <th></th>\n",
              "      <th>id</th>\n",
              "      <th>date</th>\n",
              "      <th>content</th>\n",
              "    </tr>\n",
              "  </thead>\n",
              "  <tbody>\n",
              "    <tr>\n",
              "      <th>1452749734716661762</th>\n",
              "      <td>1452749734716661762</td>\n",
              "      <td>2021-10-24</td>\n",
              "      <td>mannkibaat via namo app</td>\n",
              "    </tr>\n",
              "    <tr>\n",
              "      <th>1452725732002697219</th>\n",
              "      <td>1452725732002697219</td>\n",
              "      <td>2021-10-24</td>\n",
              "      <td>mannkibaat pmmodi mygovindia stand india gover...</td>\n",
              "    </tr>\n",
              "    <tr>\n",
              "      <th>1452720861367078912</th>\n",
              "      <td>1452720861367078912</td>\n",
              "      <td>2021-10-24</td>\n",
              "      <td>local mannkibaat httpstcoagncronqjh</td>\n",
              "    </tr>\n",
              "    <tr>\n",
              "      <th>1452720388371357699</th>\n",
              "      <td>1452720388371357699</td>\n",
              "      <td>2021-10-24</td>\n",
              "      <td>javedmansari langamahesh nobody bjp would want...</td>\n",
              "    </tr>\n",
              "    <tr>\n",
              "      <th>1452713887451607044</th>\n",
              "      <td>1452713887451607044</td>\n",
              "      <td>2021-10-24</td>\n",
              "      <td>listened hon pm shrinarendramodi ji mannkibaat...</td>\n",
              "    </tr>\n",
              "  </tbody>\n",
              "</table>\n",
              "</div>"
            ],
            "text/plain": [
              "                                      id  ...                                            content\n",
              "1452749734716661762  1452749734716661762  ...                           mannkibaat via namo app \n",
              "1452725732002697219  1452725732002697219  ...  mannkibaat pmmodi mygovindia stand india gover...\n",
              "1452720861367078912  1452720861367078912  ...               local mannkibaat httpstcoagncronqjh \n",
              "1452720388371357699  1452720388371357699  ...  javedmansari langamahesh nobody bjp would want...\n",
              "1452713887451607044  1452713887451607044  ...  listened hon pm shrinarendramodi ji mannkibaat...\n",
              "\n",
              "[5 rows x 3 columns]"
            ]
          },
          "metadata": {},
          "execution_count": 10
        }
      ]
    },
    {
      "cell_type": "code",
      "metadata": {
        "id": "sFZeGNT5uiGv"
      },
      "source": [
        ""
      ],
      "execution_count": 10,
      "outputs": []
    }
  ]
}