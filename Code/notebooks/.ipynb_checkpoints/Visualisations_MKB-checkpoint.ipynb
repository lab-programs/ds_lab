{
 "cells": [
  {
   "cell_type": "code",
   "execution_count": 4,
   "metadata": {},
   "outputs": [],
   "source": [
    "import json\n",
    "import pandas as pd\n"
   ]
  },
  {
   "cell_type": "code",
   "execution_count": 6,
   "metadata": {},
   "outputs": [],
   "source": [
    "#df = pd.read_json('../../output/mkb_speech_raw.json',typ = 'Series')"
   ]
  },
  {
   "cell_type": "code",
   "execution_count": 8,
   "metadata": {},
   "outputs": [],
   "source": [
    "with open('../../output/mkb_speech_raw.json','r') as f:\n",
    "    data = json.load(f)\n",
    "    \n"
   ]
  },
  {
   "cell_type": "code",
   "execution_count": 10,
   "metadata": {},
   "outputs": [],
   "source": [
    "#print(data)"
   ]
  },
  {
   "cell_type": "code",
   "execution_count": 11,
   "metadata": {},
   "outputs": [],
   "source": [
    "#df2 = pd.DataFrame([data])\n",
    "#df2.head()\n",
    "#df3 = df2.T\n",
    "#df3.head()"
   ]
  },
  {
   "cell_type": "code",
   "execution_count": 15,
   "metadata": {},
   "outputs": [
    {
     "name": "stdout",
     "output_type": "stream",
     "text": [
      "Episode date \t Ep word length\n",
      "20211024  \t  25063\n",
      "20210926  \t  22332\n",
      "20210829  \t  23790\n",
      "20210725  \t  23414\n",
      "20210627  \t  27728\n",
      "20210530  \t  30518\n",
      "20210425  \t  26475\n",
      "20210328  \t  22543\n",
      "20210228  \t  22216\n",
      "20210131  \t  21006\n",
      "20201227  \t  19623\n",
      "20201129  \t  21307\n",
      "20201025  \t  23119\n",
      "20200927  \t  28172\n",
      "20200830  \t  21595\n",
      "20200726  \t  27446\n",
      "20200628  \t  23268\n",
      "20200531  \t  40972\n",
      "20200426  \t  21178\n",
      "20200329  \t  28058\n",
      "20200223  \t  16539\n",
      "20200126  \t  22148\n",
      "20191229  \t  21687\n",
      "20191124  \t  26801\n",
      "20191027  \t  20114\n",
      "20190929  \t  21618\n",
      "20190825  \t  24500\n",
      "20190728  \t  19646\n",
      "20190630  \t  24912\n",
      "20190224  \t  20789\n",
      "20190127  \t  20881\n",
      "20181230  \t  21475\n",
      "20181125  \t  21045\n",
      "20181028  \t  20009\n",
      "20180930  \t  16161\n",
      "20180826  \t  18839\n",
      "20180729  \t  19539\n",
      "20180624  \t  21447\n",
      "20180527  \t  19336\n",
      "20180429  \t  23478\n",
      "20180325  \t  20330\n",
      "20180225  \t  18367\n",
      "20180128  \t  19401\n",
      "20171231  \t  20636\n",
      "20171029  \t  20548\n",
      "20170924  \t  21089\n",
      "20170827  \t  22879\n",
      "20170730  \t  22302\n",
      "20170625  \t  19787\n",
      "20170528  \t  20859\n",
      "20170430  \t  23410\n",
      "20170326  \t  22886\n",
      "20170226  \t  22748\n",
      "20170129  \t  27968\n",
      "20161225  \t  23428\n",
      "20161127  \t  28606\n",
      "20161030  \t  26391\n",
      "20160925  \t  24396\n",
      "20160828  \t  24796\n",
      "20160731  \t  27533\n",
      "20160626  \t  23251\n",
      "20160522  \t  26918\n",
      "20160424  \t  27118\n",
      "20160327  \t  22821\n",
      "20160228  \t  28830\n",
      "20160131  \t  17872\n",
      "20151227  \t  18176\n",
      "20151129  \t  19709\n",
      "20151025  \t  24730\n",
      "20150920  \t  22132\n",
      "20150830  \t  15276\n",
      "20150726  \t  14492\n",
      "20150628  \t  16655\n",
      "20150531  \t  19137\n",
      "20150426  \t  9105\n",
      "20150322  \t  25997\n",
      "20150222  \t  17513\n",
      "20150127  \t  22256\n",
      "20141214  \t  18509\n",
      "20141102  \t  12560\n",
      "20141003  \t  11170\n"
     ]
    }
   ],
   "source": [
    "print(\"Episode date \\t Ep word length\")\n",
    "for k,v in data.items():\n",
    "    print(k, \" \\t \",len(v))"
   ]
  },
  {
   "cell_type": "code",
   "execution_count": 16,
   "metadata": {},
   "outputs": [],
   "source": [
    "tot_len = {}\n",
    "for k,v in data.items():\n",
    "    yr = k[:4]\n",
    "    if yr not in tot_len:\n",
    "        tot_len[yr] = []\n",
    "        tot_len[yr].append(len(v))\n",
    "    else:\n",
    "        tot_len[yr].append(len(v))\n",
    "        "
   ]
  },
  {
   "cell_type": "code",
   "execution_count": 17,
   "metadata": {},
   "outputs": [
    {
     "name": "stdout",
     "output_type": "stream",
     "text": [
      "Year: 2021 \n",
      " Ep lengths: [25063, 22332, 23790, 23414, 27728, 30518, 26475, 22543, 22216, 21006]\n",
      "Year: 2020 \n",
      " Ep lengths: [19623, 21307, 23119, 28172, 21595, 27446, 23268, 40972, 21178, 28058, 16539, 22148]\n",
      "Year: 2019 \n",
      " Ep lengths: [21687, 26801, 20114, 21618, 24500, 19646, 24912, 20789, 20881]\n",
      "Year: 2018 \n",
      " Ep lengths: [21475, 21045, 20009, 16161, 18839, 19539, 21447, 19336, 23478, 20330, 18367, 19401]\n",
      "Year: 2017 \n",
      " Ep lengths: [20636, 20548, 21089, 22879, 22302, 19787, 20859, 23410, 22886, 22748, 27968]\n",
      "Year: 2016 \n",
      " Ep lengths: [23428, 28606, 26391, 24396, 24796, 27533, 23251, 26918, 27118, 22821, 28830, 17872]\n",
      "Year: 2015 \n",
      " Ep lengths: [18176, 19709, 24730, 22132, 15276, 14492, 16655, 19137, 9105, 25997, 17513, 22256]\n",
      "Year: 2014 \n",
      " Ep lengths: [18509, 12560, 11170]\n"
     ]
    }
   ],
   "source": [
    "for k,v in tot_len.items():\n",
    "    print(\"Year:\",k,\"\\n\",\"Ep lengths:\",v)"
   ]
  },
  {
   "cell_type": "code",
   "execution_count": 21,
   "metadata": {},
   "outputs": [
    {
     "data": {
      "text/plain": [
       "{'2021': 24508,\n",
       " '2020': 24452,\n",
       " '2019': 22327,\n",
       " '2018': 19952,\n",
       " '2017': 22282,\n",
       " '2016': 25163,\n",
       " '2015': 18764,\n",
       " '2014': 14079}"
      ]
     },
     "execution_count": 21,
     "metadata": {},
     "output_type": "execute_result"
    }
   ],
   "source": [
    "avg_len = {}\n",
    "for k,v in tot_len.items():\n",
    "    avg_len[k] = sum(v)//len(v)\n",
    "avg_len"
   ]
  },
  {
   "cell_type": "code",
   "execution_count": 22,
   "metadata": {},
   "outputs": [],
   "source": [
    "import matplotlib.pyplot as plt\n"
   ]
  },
  {
   "cell_type": "code",
   "execution_count": 23,
   "metadata": {},
   "outputs": [
    {
     "data": {
      "image/png": "[encoded data removed]",
      "text/plain": [
       "<Figure size 432x288 with 1 Axes>"
      ]
     },
     "metadata": {
      "needs_background": "light"
     },
     "output_type": "display_data"
    }
   ],
   "source": [
    "plt.bar(avg_len.keys(), avg_len.values(), color = 'g')\n",
    "plt.title(\"Avg Word length of speech\")\n",
    "plt.show()"
   ]
  },
  {
   "cell_type": "code",
   "execution_count": 24,
   "metadata": {},
   "outputs": [],
   "source": [
    "import seaborn as sns\n",
    "from nltk.corpus import stopwords\n",
    "from collections import  Counter\n",
    "\n",
    "def plot_barchart(text):\n",
    "    stop=set(stopwords.words('english'))\n",
    "    \n",
    "    new= text.split()\n",
    "    #print(new)\n",
    "    #new=new.values.tolist()\n",
    "    corpus=[i for i in new]\n",
    "\n",
    "    counter=Counter(corpus)\n",
    "    most=counter.most_common()\n",
    "    x, y=[], []\n",
    "    for word,count in most[:40]:\n",
    "        if (word not in stop):\n",
    "            x.append(word)\n",
    "            y.append(count)\n",
    "            \n",
    "    sns.barplot(x=y,y=x)"
   ]
  },
  {
   "cell_type": "code",
   "execution_count": 25,
   "metadata": {},
   "outputs": [],
   "source": [
    "import nltk\n",
    "#nltk.download('stopwords')"
   ]
  },
  {
   "cell_type": "code",
   "execution_count": 26,
   "metadata": {},
   "outputs": [
    {
     "data": {
      "image/png": "[encoded data removed]",
      "text/plain": [
       "<Figure size 432x288 with 1 Axes>"
      ]
     },
     "metadata": {
      "needs_background": "light"
     },
     "output_type": "display_data"
    }
   ],
   "source": [
    "plot_barchart(data['20170129'])"
   ]
  },
  {
   "cell_type": "code",
   "execution_count": 42,
   "metadata": {},
   "outputs": [
    {
     "data": {
      "image/png": "[encoded data removed]",
      "text/plain": [
       "<Figure size 432x288 with 1 Axes>"
      ]
     },
     "metadata": {
      "needs_background": "light"
     },
     "output_type": "display_data"
    }
   ],
   "source": [
    "plot_barchart(data['20210725'])"
   ]
  },
  {
   "cell_type": "code",
   "execution_count": 43,
   "metadata": {},
   "outputs": [
    {
     "data": {
      "image/png": "[encoded data removed]",
      "text/plain": [
       "<Figure size 432x288 with 1 Axes>"
      ]
     },
     "metadata": {
      "needs_background": "light"
     },
     "output_type": "display_data"
    }
   ],
   "source": [
    "plot_barchart(data['20210530'])"
   ]
  },
  {
   "cell_type": "code",
   "execution_count": 44,
   "metadata": {},
   "outputs": [
    {
     "data": {
      "image/png": "[encoded data removed]",
      "text/plain": [
       "<Figure size 432x288 with 1 Axes>"
      ]
     },
     "metadata": {
      "needs_background": "light"
     },
     "output_type": "display_data"
    }
   ],
   "source": [
    "plot_barchart(data['20160228'])"
   ]
  },
  {
   "cell_type": "code",
   "execution_count": 66,
   "metadata": {},
   "outputs": [],
   "source": [
    "import seaborn as sns\n",
    "import numpy as np\n",
    "from nltk.corpus import stopwords\n",
    "from sklearn.feature_extraction.text import CountVectorizer\n",
    "from collections import  Counter\n",
    "\n",
    "def plot_ngrams(text, n=2):\n",
    "    stop=set(stopwords.words('english'))\n",
    "\n",
    "    new= text.split()\n",
    "    #new=new.values.tolist()\n",
    "    corpus=[i for i in new]\n",
    "    return corpus\n",
    "\n",
    "def _get_top_ngram(corpus, n=2):\n",
    "    vec = CountVectorizer(ngram_range=(n, n)).fit(corpus)\n",
    "    bag_of_words = vec.transform(corpus)\n",
    "    sum_words = bag_of_words.sum(axis=0) \n",
    "    words_freq = [(word, sum_words[0, idx]) \n",
    "                    for word, idx in vec.vocabulary_.items()]\n",
    "    words_freq =sorted(words_freq, key = lambda x: x[1], reverse=True)\n",
    "    return words_freq[:10]\n",
    "def final_plot(corpus, n = 2):\n",
    "    top_n_bigrams=_get_top_ngram(corpus,n)[:10]\n",
    "    x,y=map(list,zip(*top_n_bigrams))\n",
    "    sns.barplot(x=y,y=x)"
   ]
  },
  {
   "cell_type": "code",
   "execution_count": 30,
   "metadata": {},
   "outputs": [],
   "source": [
    "#text = plot_ngrams(data['20190127'])\n",
    "#final_plot(text)"
   ]
  },
  {
   "cell_type": "code",
   "execution_count": 29,
   "metadata": {},
   "outputs": [],
   "source": [
    "#text = plot_ngrams(data['20210926'])\n",
    "#final_plot(text)"
   ]
  },
  {
   "cell_type": "code",
   "execution_count": 28,
   "metadata": {},
   "outputs": [],
   "source": [
    "#text = plot_ngrams(data['20210725'])\n",
    "#final_plot(text)"
   ]
  },
  {
   "cell_type": "code",
   "execution_count": 27,
   "metadata": {},
   "outputs": [],
   "source": [
    "#text = plot_ngrams(data['20210530'])\n",
    "#final_plot(text)"
   ]
  },
  {
   "cell_type": "code",
   "execution_count": null,
   "metadata": {},
   "outputs": [],
   "source": []
  },
  {
   "cell_type": "code",
   "execution_count": null,
   "metadata": {},
   "outputs": [],
   "source": []
  }
 ],
 "metadata": {
  "kernelspec": {
   "display_name": "Python 3",
   "language": "python",
   "name": "python3"
  },
  "language_info": {
   "codemirror_mode": {
    "name": "ipython",
    "version": 3
   },
   "file_extension": ".py",
   "mimetype": "text/x-python",
   "name": "python",
   "nbconvert_exporter": "python",
   "pygments_lexer": "ipython3",
   "version": "3.8.3"
  }
 },
 "nbformat": 4,
 "nbformat_minor": 4
}
