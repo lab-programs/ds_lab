{
  "nbformat": 4,
  "nbformat_minor": 0,
  "metadata": {
    "colab": {
      "name": "POSTagging.ipynb",
      "provenance": [],
      "collapsed_sections": [],
      "authorship_tag": "ABX9TyNIWHt4+nHDSGuIztLhKBzy",
      "include_colab_link": true
    },
    "kernelspec": {
      "name": "python3",
      "display_name": "Python 3"
    },
    "language_info": {
      "name": "python"
    }
  },
  "cells": [
    {
      "cell_type": "markdown",
      "metadata": {
        "id": "view-in-github",
        "colab_type": "text"
      },
      "source": [
        "<a href=\"https://colab.research.google.com/github/tezz-io/ds_lab/blob/main/POSTagging.ipynb\" target=\"_parent\"><img src=\"https://colab.research.google.com/assets/colab-badge.svg\" alt=\"Open In Colab\"/></a>"
      ]
    },
    {
      "cell_type": "code",
      "metadata": {
        "colab": {
          "base_uri": "https://localhost:8080/"
        },
        "id": "emby7DVYA8Kb",
        "outputId": "9f9930ea-034c-491c-f76b-d199087753ad"
      },
      "source": [
        "!rm -rf MKB.csv\n",
        "!wget https://media.githubusercontent.com/media/tezz-io/ds_lab/main/output/MKB.csv"
      ],
      "execution_count": 1,
      "outputs": [
        {
          "output_type": "stream",
          "name": "stdout",
          "text": [
            "--2021-11-11 03:23:37--  https://media.githubusercontent.com/media/tezz-io/ds_lab/main/output/MKB.csv\n",
            "Resolving media.githubusercontent.com (media.githubusercontent.com)... 185.199.111.133, 185.199.108.133, 185.199.110.133, ...\n",
            "Connecting to media.githubusercontent.com (media.githubusercontent.com)|185.199.111.133|:443... connected.\n",
            "HTTP request sent, awaiting response... 200 OK\n",
            "Length: 2973553 (2.8M) [text/plain]\n",
            "Saving to: ‘MKB.csv’\n",
            "\n",
            "MKB.csv             100%[===================>]   2.83M  --.-KB/s    in 0.07s   \n",
            "\n",
            "2021-11-11 03:23:38 (42.7 MB/s) - ‘MKB.csv’ saved [2973553/2973553]\n",
            "\n"
          ]
        }
      ]
    },
    {
      "cell_type": "code",
      "metadata": {
        "colab": {
          "base_uri": "https://localhost:8080/"
        },
        "id": "-nBwNfTQBWIl",
        "outputId": "443d0018-b2eb-41ef-d530-3f5417e5ad3c"
      },
      "source": [
        "from textblob import TextBlob\n",
        "import pandas as pd\n",
        "\n",
        "df = pd.read_csv('MKB.csv')\n",
        "\n",
        "string = \"\"\n",
        "for i, r in df.iterrows():\n",
        "  string += r['Content'] + \" \" \n",
        "\n",
        "len(string)"
      ],
      "execution_count": 5,
      "outputs": [
        {
          "output_type": "execute_result",
          "data": {
            "text/plain": [
              "1793455"
            ]
          },
          "metadata": {},
          "execution_count": 5
        }
      ]
    },
    {
      "cell_type": "code",
      "metadata": {
        "colab": {
          "base_uri": "https://localhost:8080/"
        },
        "id": "a8dc-dPACJ5g",
        "outputId": "e3da5daa-56ed-4b9d-e14e-1cd0f67e240b"
      },
      "source": [
        "import nltk\n",
        "nltk.download('punkt')\n",
        "nltk.download('averaged_perceptron_tagger')\n",
        "\n",
        "blob = TextBlob(string)\n",
        "df1 = pd.DataFrame()\n",
        "words = []\n",
        "tags = []\n",
        "x = blob.tags\n",
        "for i in x:\n",
        "  words.append(i[0])\n",
        "  tags.append(i[1])\n",
        "\n",
        "df1['word'] = words\n",
        "df1['tag'] = tags"
      ],
      "execution_count": 9,
      "outputs": [
        {
          "output_type": "stream",
          "name": "stdout",
          "text": [
            "[nltk_data] Downloading package punkt to /root/nltk_data...\n",
            "[nltk_data]   Package punkt is already up-to-date!\n",
            "[nltk_data] Downloading package averaged_perceptron_tagger to\n",
            "[nltk_data]     /root/nltk_data...\n",
            "[nltk_data]   Unzipping taggers/averaged_perceptron_tagger.zip.\n"
          ]
        }
      ]
    },
    {
      "cell_type": "code",
      "metadata": {
        "colab": {
          "base_uri": "https://localhost:8080/",
          "height": 204
        },
        "id": "dJ5q4xIqCoCx",
        "outputId": "eeef60a9-0fc1-417a-ebcd-7377224a2c78"
      },
      "source": [
        "df1.head()"
      ],
      "execution_count": 10,
      "outputs": [
        {
          "output_type": "execute_result",
          "data": {
            "text/html": [
              "<div>\n",
              "<style scoped>\n",
              "    .dataframe tbody tr th:only-of-type {\n",
              "        vertical-align: middle;\n",
              "    }\n",
              "\n",
              "    .dataframe tbody tr th {\n",
              "        vertical-align: top;\n",
              "    }\n",
              "\n",
              "    .dataframe thead th {\n",
              "        text-align: right;\n",
              "    }\n",
              "</style>\n",
              "<table border=\"1\" class=\"dataframe\">\n",
              "  <thead>\n",
              "    <tr style=\"text-align: right;\">\n",
              "      <th></th>\n",
              "      <th>word</th>\n",
              "      <th>tag</th>\n",
              "    </tr>\n",
              "  </thead>\n",
              "  <tbody>\n",
              "    <tr>\n",
              "      <th>0</th>\n",
              "      <td>My</td>\n",
              "      <td>PRP$</td>\n",
              "    </tr>\n",
              "    <tr>\n",
              "      <th>1</th>\n",
              "      <td>dear</td>\n",
              "      <td>JJ</td>\n",
              "    </tr>\n",
              "    <tr>\n",
              "      <th>2</th>\n",
              "      <td>countrymen</td>\n",
              "      <td>NNS</td>\n",
              "    </tr>\n",
              "    <tr>\n",
              "      <th>3</th>\n",
              "      <td>Namaskar…namaskar</td>\n",
              "      <td>NNP</td>\n",
              "    </tr>\n",
              "    <tr>\n",
              "      <th>4</th>\n",
              "      <td>a</td>\n",
              "      <td>DT</td>\n",
              "    </tr>\n",
              "  </tbody>\n",
              "</table>\n",
              "</div>"
            ],
            "text/plain": [
              "                word   tag\n",
              "0                 My  PRP$\n",
              "1               dear    JJ\n",
              "2         countrymen   NNS\n",
              "3  Namaskar…namaskar   NNP\n",
              "4                  a    DT"
            ]
          },
          "metadata": {},
          "execution_count": 10
        }
      ]
    },
    {
      "cell_type": "code",
      "metadata": {
        "colab": {
          "base_uri": "https://localhost:8080/"
        },
        "id": "Dgq408CNDcgm",
        "outputId": "74aa9cfa-ee57-400c-d7a7-37897a5c6d9d"
      },
      "source": [
        "x = set(df1.tag)\n",
        "x"
      ],
      "execution_count": 17,
      "outputs": [
        {
          "output_type": "execute_result",
          "data": {
            "text/plain": [
              "{'CC',\n",
              " 'CD',\n",
              " 'DT',\n",
              " 'EX',\n",
              " 'FW',\n",
              " 'IN',\n",
              " 'JJ',\n",
              " 'JJR',\n",
              " 'JJS',\n",
              " 'MD',\n",
              " 'NN',\n",
              " 'NNP',\n",
              " 'NNPS',\n",
              " 'NNS',\n",
              " 'PDT',\n",
              " 'POS',\n",
              " 'PRP',\n",
              " 'PRP$',\n",
              " 'RB',\n",
              " 'RBR',\n",
              " 'RBS',\n",
              " 'RP',\n",
              " 'TO',\n",
              " 'UH',\n",
              " 'VB',\n",
              " 'VBD',\n",
              " 'VBG',\n",
              " 'VBN',\n",
              " 'VBP',\n",
              " 'VBZ',\n",
              " 'WDT',\n",
              " 'WP',\n",
              " 'WP$',\n",
              " 'WRB'}"
            ]
          },
          "metadata": {},
          "execution_count": 17
        }
      ]
    },
    {
      "cell_type": "code",
      "metadata": {
        "colab": {
          "base_uri": "https://localhost:8080/",
          "height": 538
        },
        "id": "kxHAEgKMDjyj",
        "outputId": "6ce99e19-a91e-402c-bf5a-a4c046d73070"
      },
      "source": [
        "s1 = df1.groupby('tag')['word'].count()\n",
        "s1.plot.bar(figsize=(20,10))"
      ],
      "execution_count": 27,
      "outputs": [
        {
          "output_type": "execute_result",
          "data": {
            "text/plain": [
              "<matplotlib.axes._subplots.AxesSubplot at 0x7fc8c04c7450>"
            ]
          },
          "metadata": {},
          "execution_count": 27
        },
        {
          "output_type": "display_data",
          "data": {
            "image/png": "[encoded data removed]",
            "text/plain": [
              "<Figure size 1440x720 with 1 Axes>"
            ]
          },
          "metadata": {
            "needs_background": "light"
          }
        }
      ]
    },
    {
      "cell_type": "code",
      "metadata": {
        "colab": {
          "base_uri": "https://localhost:8080/"
        },
        "id": "Z-bPgOUaFpg1",
        "outputId": "5926e6d5-149c-409d-fecc-59c0ea0c2258"
      },
      "source": [
        "s1"
      ],
      "execution_count": 28,
      "outputs": [
        {
          "output_type": "execute_result",
          "data": {
            "text/plain": [
              "tag\n",
              "CC      10131\n",
              "CD       3743\n",
              "DT      33323\n",
              "EX       1004\n",
              "FW         51\n",
              "IN      39122\n",
              "JJ      21267\n",
              "JJR       709\n",
              "JJS       572\n",
              "MD       5298\n",
              "NN      46127\n",
              "NNP     26858\n",
              "NNPS      257\n",
              "NNS     20765\n",
              "PDT       534\n",
              "POS        10\n",
              "PRP     17501\n",
              "PRP$     7668\n",
              "RB      14071\n",
              "RBR       256\n",
              "RBS       106\n",
              "RP        696\n",
              "TO       8820\n",
              "UH         86\n",
              "VB      13340\n",
              "VBD      7262\n",
              "VBG      6097\n",
              "VBN      8435\n",
              "VBP      9783\n",
              "VBZ      8725\n",
              "WDT      1358\n",
              "WP       1359\n",
              "WP$        48\n",
              "WRB      1789\n",
              "Name: word, dtype: int64"
            ]
          },
          "metadata": {},
          "execution_count": 28
        }
      ]
    },
    {
      "cell_type": "code",
      "metadata": {
        "id": "LIG_PjJ8GEbn"
      },
      "source": [
        ""
      ],
      "execution_count": null,
      "outputs": []
    }
  ]
}
