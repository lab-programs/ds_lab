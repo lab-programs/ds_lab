{
  "nbformat": 4,
  "nbformat_minor": 0,
  "metadata": {
    "colab": {
      "name": "StatisticsDistributionsOfTwitter.ipynb",
      "provenance": [],
      "collapsed_sections": [],
      "authorship_tag": "ABX9TyPrdhmjgttZkMAy9DlFMPDI",
      "include_colab_link": true
    },
    "kernelspec": {
      "name": "python3",
      "display_name": "Python 3"
    },
    "language_info": {
      "name": "python"
    }
  },
  "cells": [
    {
      "cell_type": "markdown",
      "metadata": {
        "id": "view-in-github",
        "colab_type": "text"
      },
      "source": [
        "<a href=\"https://colab.research.google.com/github/tezz-io/ds_lab/blob/main/StatisticsDistributionsOfTwitter.ipynb\" target=\"_parent\"><img src=\"https://colab.research.google.com/assets/colab-badge.svg\" alt=\"Open In Colab\"/></a>"
      ]
    },
    {
      "cell_type": "code",
      "metadata": {
        "id": "Mw01lEn0uhgJ"
      },
      "source": [
        "# 1. Box plot of word count\n",
        "# 2. POS tagging\n",
        "# 3. Non-english tagging"
      ],
      "execution_count": null,
      "outputs": []
    },
    {
      "cell_type": "markdown",
      "metadata": {
        "id": "Gmbzj3wPvgjv"
      },
      "source": [
        "## Summary statistics, Distributions and Visualization"
      ]
    },
    {
      "cell_type": "markdown",
      "metadata": {
        "id": "VPTWeJWYv1cK"
      },
      "source": [
        "### Word Frequency table."
      ]
    },
    {
      "cell_type": "code",
      "metadata": {
        "colab": {
          "base_uri": "https://localhost:8080/"
        },
        "id": "Z7ELj7ojwFrV",
        "outputId": "43a9f059-fecb-4326-9194-3e84dde9fddd"
      },
      "source": [
        "# Download the dataset\n",
        "!rm -rf cleaned_tweets48.csv\n",
        "!wget https://media.githubusercontent.com/media/tezz-io/ds_lab/main/output/cleaned_tweets48.csv"
      ],
      "execution_count": null,
      "outputs": [
        {
          "output_type": "stream",
          "name": "stdout",
          "text": [
            "--2021-11-10 10:46:07--  https://media.githubusercontent.com/media/tezz-io/ds_lab/main/output/cleaned_tweets48.csv\n",
            "Resolving media.githubusercontent.com (media.githubusercontent.com)... 185.199.108.133, 185.199.109.133, 185.199.110.133, ...\n",
            "Connecting to media.githubusercontent.com (media.githubusercontent.com)|185.199.108.133|:443... connected.\n",
            "HTTP request sent, awaiting response... 200 OK\n",
            "Length: 21100294 (20M) [text/plain]\n",
            "Saving to: ‘cleaned_tweets48.csv’\n",
            "\n",
            "cleaned_tweets48.cs 100%[===================>]  20.12M   125MB/s    in 0.2s    \n",
            "\n",
            "2021-11-10 10:46:08 (125 MB/s) - ‘cleaned_tweets48.csv’ saved [21100294/21100294]\n",
            "\n"
          ]
        }
      ]
    },
    {
      "cell_type": "code",
      "metadata": {
        "id": "sPHTN5eewmpl"
      },
      "source": [
        "# Load the dataset\n",
        "import pandas as pd\n",
        "df = pd.read_csv( 'cleaned_tweets48.csv')"
      ],
      "execution_count": null,
      "outputs": []
    },
    {
      "cell_type": "code",
      "metadata": {
        "colab": {
          "base_uri": "https://localhost:8080/",
          "height": 204
        },
        "id": "wwd4lKDWxCgl",
        "outputId": "93b2acb9-39c0-4470-ecb4-b388d2e1ef89"
      },
      "source": [
        "# Preview the dataset\n",
        "df.head()"
      ],
      "execution_count": null,
      "outputs": [
        {
          "output_type": "execute_result",
          "data": {
            "text/html": [
              "<div>\n",
              "<style scoped>\n",
              "    .dataframe tbody tr th:only-of-type {\n",
              "        vertical-align: middle;\n",
              "    }\n",
              "\n",
              "    .dataframe tbody tr th {\n",
              "        vertical-align: top;\n",
              "    }\n",
              "\n",
              "    .dataframe thead th {\n",
              "        text-align: right;\n",
              "    }\n",
              "</style>\n",
              "<table border=\"1\" class=\"dataframe\">\n",
              "  <thead>\n",
              "    <tr style=\"text-align: right;\">\n",
              "      <th></th>\n",
              "      <th>Unnamed: 0</th>\n",
              "      <th>id</th>\n",
              "      <th>date</th>\n",
              "      <th>content</th>\n",
              "    </tr>\n",
              "  </thead>\n",
              "  <tbody>\n",
              "    <tr>\n",
              "      <th>0</th>\n",
              "      <td>1452749734716661762</td>\n",
              "      <td>1452749734716661762</td>\n",
              "      <td>2021-10-24</td>\n",
              "      <td>mannkibaat via namo app</td>\n",
              "    </tr>\n",
              "    <tr>\n",
              "      <th>1</th>\n",
              "      <td>1452725732002697219</td>\n",
              "      <td>1452725732002697219</td>\n",
              "      <td>2021-10-24</td>\n",
              "      <td>mannkibaat pmmodi mygovindia stand india gover...</td>\n",
              "    </tr>\n",
              "    <tr>\n",
              "      <th>2</th>\n",
              "      <td>1452720861367078912</td>\n",
              "      <td>1452720861367078912</td>\n",
              "      <td>2021-10-24</td>\n",
              "      <td>local mannkibaat httpstcoagncronqjh</td>\n",
              "    </tr>\n",
              "    <tr>\n",
              "      <th>3</th>\n",
              "      <td>1452720388371357699</td>\n",
              "      <td>1452720388371357699</td>\n",
              "      <td>2021-10-24</td>\n",
              "      <td>javedmansari langamahesh nobody bjp would want...</td>\n",
              "    </tr>\n",
              "    <tr>\n",
              "      <th>4</th>\n",
              "      <td>1452713887451607044</td>\n",
              "      <td>1452713887451607044</td>\n",
              "      <td>2021-10-24</td>\n",
              "      <td>listened hon pm shrinarendramodi ji mannkibaat...</td>\n",
              "    </tr>\n",
              "  </tbody>\n",
              "</table>\n",
              "</div>"
            ],
            "text/plain": [
              "            Unnamed: 0  ...                                            content\n",
              "0  1452749734716661762  ...                           mannkibaat via namo app \n",
              "1  1452725732002697219  ...  mannkibaat pmmodi mygovindia stand india gover...\n",
              "2  1452720861367078912  ...               local mannkibaat httpstcoagncronqjh \n",
              "3  1452720388371357699  ...  javedmansari langamahesh nobody bjp would want...\n",
              "4  1452713887451607044  ...  listened hon pm shrinarendramodi ji mannkibaat...\n",
              "\n",
              "[5 rows x 4 columns]"
            ]
          },
          "metadata": {},
          "execution_count": 5
        }
      ]
    },
    {
      "cell_type": "code",
      "metadata": {
        "id": "eu84QyJhxIls"
      },
      "source": [
        "df = df.drop('Unnamed: 0', 1)"
      ],
      "execution_count": null,
      "outputs": []
    },
    {
      "cell_type": "code",
      "metadata": {
        "colab": {
          "base_uri": "https://localhost:8080/",
          "height": 204
        },
        "id": "fXZkAe4axg_s",
        "outputId": "835a7e20-b734-4a94-fbb5-81d2494664cd"
      },
      "source": [
        "df.head()"
      ],
      "execution_count": null,
      "outputs": [
        {
          "output_type": "execute_result",
          "data": {
            "text/html": [
              "<div>\n",
              "<style scoped>\n",
              "    .dataframe tbody tr th:only-of-type {\n",
              "        vertical-align: middle;\n",
              "    }\n",
              "\n",
              "    .dataframe tbody tr th {\n",
              "        vertical-align: top;\n",
              "    }\n",
              "\n",
              "    .dataframe thead th {\n",
              "        text-align: right;\n",
              "    }\n",
              "</style>\n",
              "<table border=\"1\" class=\"dataframe\">\n",
              "  <thead>\n",
              "    <tr style=\"text-align: right;\">\n",
              "      <th></th>\n",
              "      <th>id</th>\n",
              "      <th>date</th>\n",
              "      <th>content</th>\n",
              "    </tr>\n",
              "  </thead>\n",
              "  <tbody>\n",
              "    <tr>\n",
              "      <th>0</th>\n",
              "      <td>1452749734716661762</td>\n",
              "      <td>2021-10-24</td>\n",
              "      <td>mannkibaat via namo app</td>\n",
              "    </tr>\n",
              "    <tr>\n",
              "      <th>1</th>\n",
              "      <td>1452725732002697219</td>\n",
              "      <td>2021-10-24</td>\n",
              "      <td>mannkibaat pmmodi mygovindia stand india gover...</td>\n",
              "    </tr>\n",
              "    <tr>\n",
              "      <th>2</th>\n",
              "      <td>1452720861367078912</td>\n",
              "      <td>2021-10-24</td>\n",
              "      <td>local mannkibaat httpstcoagncronqjh</td>\n",
              "    </tr>\n",
              "    <tr>\n",
              "      <th>3</th>\n",
              "      <td>1452720388371357699</td>\n",
              "      <td>2021-10-24</td>\n",
              "      <td>javedmansari langamahesh nobody bjp would want...</td>\n",
              "    </tr>\n",
              "    <tr>\n",
              "      <th>4</th>\n",
              "      <td>1452713887451607044</td>\n",
              "      <td>2021-10-24</td>\n",
              "      <td>listened hon pm shrinarendramodi ji mannkibaat...</td>\n",
              "    </tr>\n",
              "  </tbody>\n",
              "</table>\n",
              "</div>"
            ],
            "text/plain": [
              "                    id  ...                                            content\n",
              "0  1452749734716661762  ...                           mannkibaat via namo app \n",
              "1  1452725732002697219  ...  mannkibaat pmmodi mygovindia stand india gover...\n",
              "2  1452720861367078912  ...               local mannkibaat httpstcoagncronqjh \n",
              "3  1452720388371357699  ...  javedmansari langamahesh nobody bjp would want...\n",
              "4  1452713887451607044  ...  listened hon pm shrinarendramodi ji mannkibaat...\n",
              "\n",
              "[5 rows x 3 columns]"
            ]
          },
          "metadata": {},
          "execution_count": 7
        }
      ]
    },
    {
      "cell_type": "code",
      "metadata": {
        "id": "J6Df_tvE29ht"
      },
      "source": [
        "def remove_newlines_tabs_multispaces( string ):\n",
        "  new_string = \"\"\n",
        "  for i in string:\n",
        "    if i != '\\n':\n",
        "      new_string += i\n",
        "    else:\n",
        "      new_string += ' '\n",
        "  \n",
        "  string = \"\"\n",
        "  for i in new_string:\n",
        "    if i != '\\t':\n",
        "      string += i\n",
        "    else:\n",
        "      string += ' '\n",
        "  \n",
        "  new_string = \"\"\n",
        "  for i in range(len(string)-1):\n",
        "    if( string[i] != ' ' ):\n",
        "      new_string += string[i]\n",
        "    else:\n",
        "      if string[i+1] == ' ':\n",
        "        continue\n",
        "      else:\n",
        "        new_string += string[i]\n",
        "  return new_string"
      ],
      "execution_count": null,
      "outputs": []
    },
    {
      "cell_type": "code",
      "metadata": {
        "id": "az5OHwbjyQY8"
      },
      "source": [
        "def word_frequency_table( paragraph ):\n",
        "  paragraph = remove_newlines_tabs_multispaces( paragraph )\n",
        "  words = paragraph.strip().split(' ')\n",
        "  wft = {}\n",
        "  to_remove = [\"mannkibaat\", \"narendramodi\", \"pm\", \"modi\", \"via\", \"app\", \"namo\", \"amp\", \"rt\", \"ji\", \"ki\"]\n",
        "  for i in words:\n",
        "    if i in to_remove:\n",
        "      continue\n",
        "    if \"http\" in i:\n",
        "      continue\n",
        "    if i in wft.keys():\n",
        "      wft[i] += 1\n",
        "    else:\n",
        "      wft[i] = 1\n",
        "  \n",
        "  df = pd.DataFrame()\n",
        "  df = pd.DataFrame.from_dict(wft, orient='index')\n",
        "  return df"
      ],
      "execution_count": null,
      "outputs": []
    },
    {
      "cell_type": "code",
      "metadata": {
        "id": "brrZBwZo1Kd0"
      },
      "source": [
        "paragraph = \"\"\n",
        "for i, r in df.iterrows():\n",
        "  paragraph += \" \" + r['content']"
      ],
      "execution_count": null,
      "outputs": []
    },
    {
      "cell_type": "code",
      "metadata": {
        "colab": {
          "base_uri": "https://localhost:8080/",
          "height": 419
        },
        "id": "EH2K4LMz1Sel",
        "outputId": "557e0271-b52e-4cd8-ddf8-388bf09aef6d"
      },
      "source": [
        "wft = word_frequency_table(paragraph)\n",
        "wft.columns = ['count']\n",
        "wft = wft.sort_values(by=['count'], ascending=False)\n",
        "wft"
      ],
      "execution_count": null,
      "outputs": [
        {
          "output_type": "execute_result",
          "data": {
            "text/html": [
              "<div>\n",
              "<style scoped>\n",
              "    .dataframe tbody tr th:only-of-type {\n",
              "        vertical-align: middle;\n",
              "    }\n",
              "\n",
              "    .dataframe tbody tr th {\n",
              "        vertical-align: top;\n",
              "    }\n",
              "\n",
              "    .dataframe thead th {\n",
              "        text-align: right;\n",
              "    }\n",
              "</style>\n",
              "<table border=\"1\" class=\"dataframe\">\n",
              "  <thead>\n",
              "    <tr style=\"text-align: right;\">\n",
              "      <th></th>\n",
              "      <th>count</th>\n",
              "    </tr>\n",
              "  </thead>\n",
              "  <tbody>\n",
              "    <tr>\n",
              "      <th>india</th>\n",
              "      <td>16058</td>\n",
              "    </tr>\n",
              "    <tr>\n",
              "      <th>pmoindia</th>\n",
              "      <td>11720</td>\n",
              "    </tr>\n",
              "    <tr>\n",
              "      <th>people</th>\n",
              "      <td>5935</td>\n",
              "    </tr>\n",
              "    <tr>\n",
              "      <th>narendra</th>\n",
              "      <td>4950</td>\n",
              "    </tr>\n",
              "    <tr>\n",
              "      <th>baat</th>\n",
              "      <td>4581</td>\n",
              "    </tr>\n",
              "    <tr>\n",
              "      <th>...</th>\n",
              "      <td>...</td>\n",
              "    </tr>\n",
              "    <tr>\n",
              "      <th>typenoof</th>\n",
              "      <td>1</td>\n",
              "    </tr>\n",
              "    <tr>\n",
              "      <th>jaybhadrakali</th>\n",
              "      <td>1</td>\n",
              "    </tr>\n",
              "    <tr>\n",
              "      <th>wordsslay</th>\n",
              "      <td>1</td>\n",
              "    </tr>\n",
              "    <tr>\n",
              "      <th>usake</th>\n",
              "      <td>1</td>\n",
              "    </tr>\n",
              "    <tr>\n",
              "      <th>saffronisation</th>\n",
              "      <td>1</td>\n",
              "    </tr>\n",
              "  </tbody>\n",
              "</table>\n",
              "<p>77805 rows × 1 columns</p>\n",
              "</div>"
            ],
            "text/plain": [
              "                count\n",
              "india           16058\n",
              "pmoindia        11720\n",
              "people           5935\n",
              "narendra         4950\n",
              "baat             4581\n",
              "...               ...\n",
              "typenoof            1\n",
              "jaybhadrakali       1\n",
              "wordsslay           1\n",
              "usake               1\n",
              "saffronisation      1\n",
              "\n",
              "[77805 rows x 1 columns]"
            ]
          },
          "metadata": {},
          "execution_count": 11
        }
      ]
    },
    {
      "cell_type": "code",
      "metadata": {
        "colab": {
          "base_uri": "https://localhost:8080/",
          "height": 979
        },
        "id": "krucGOKV5U8X",
        "outputId": "52550c4e-ae31-4679-9cea-b0ee2e8c5c85"
      },
      "source": [
        "wft15 = wft.head(30)\n",
        "wft15"
      ],
      "execution_count": null,
      "outputs": [
        {
          "output_type": "execute_result",
          "data": {
            "text/html": [
              "<div>\n",
              "<style scoped>\n",
              "    .dataframe tbody tr th:only-of-type {\n",
              "        vertical-align: middle;\n",
              "    }\n",
              "\n",
              "    .dataframe tbody tr th {\n",
              "        vertical-align: top;\n",
              "    }\n",
              "\n",
              "    .dataframe thead th {\n",
              "        text-align: right;\n",
              "    }\n",
              "</style>\n",
              "<table border=\"1\" class=\"dataframe\">\n",
              "  <thead>\n",
              "    <tr style=\"text-align: right;\">\n",
              "      <th></th>\n",
              "      <th>count</th>\n",
              "    </tr>\n",
              "  </thead>\n",
              "  <tbody>\n",
              "    <tr>\n",
              "      <th>india</th>\n",
              "      <td>16058</td>\n",
              "    </tr>\n",
              "    <tr>\n",
              "      <th>pmoindia</th>\n",
              "      <td>11720</td>\n",
              "    </tr>\n",
              "    <tr>\n",
              "      <th>people</th>\n",
              "      <td>5935</td>\n",
              "    </tr>\n",
              "    <tr>\n",
              "      <th>narendra</th>\n",
              "      <td>4950</td>\n",
              "    </tr>\n",
              "    <tr>\n",
              "      <th>baat</th>\n",
              "      <td>4581</td>\n",
              "    </tr>\n",
              "    <tr>\n",
              "      <th>today</th>\n",
              "      <td>4249</td>\n",
              "    </tr>\n",
              "    <tr>\n",
              "      <th>world</th>\n",
              "      <td>3911</td>\n",
              "    </tr>\n",
              "    <tr>\n",
              "      <th>mann</th>\n",
              "      <td>3596</td>\n",
              "    </tr>\n",
              "    <tr>\n",
              "      <th>nation</th>\n",
              "      <td>3569</td>\n",
              "    </tr>\n",
              "    <tr>\n",
              "      <th>country</th>\n",
              "      <td>3544</td>\n",
              "    </tr>\n",
              "    <tr>\n",
              "      <th>indian</th>\n",
              "      <td>3537</td>\n",
              "    </tr>\n",
              "    <tr>\n",
              "      <th>us</th>\n",
              "      <td>3453</td>\n",
              "    </tr>\n",
              "    <tr>\n",
              "      <th>one</th>\n",
              "      <td>3344</td>\n",
              "    </tr>\n",
              "    <tr>\n",
              "      <th>new</th>\n",
              "      <td>3214</td>\n",
              "    </tr>\n",
              "    <tr>\n",
              "      <th>pmonair</th>\n",
              "      <td>2890</td>\n",
              "    </tr>\n",
              "    <tr>\n",
              "      <th>hai</th>\n",
              "      <td>2710</td>\n",
              "    </tr>\n",
              "    <tr>\n",
              "      <th>also</th>\n",
              "      <td>2662</td>\n",
              "    </tr>\n",
              "    <tr>\n",
              "      <th>time</th>\n",
              "      <td>2603</td>\n",
              "    </tr>\n",
              "    <tr>\n",
              "      <th>day</th>\n",
              "      <td>2577</td>\n",
              "    </tr>\n",
              "    <tr>\n",
              "      <th>shri</th>\n",
              "      <td>2555</td>\n",
              "    </tr>\n",
              "    <tr>\n",
              "      <th>bjp</th>\n",
              "      <td>2530</td>\n",
              "    </tr>\n",
              "    <tr>\n",
              "      <th>every</th>\n",
              "      <td>2487</td>\n",
              "    </tr>\n",
              "    <tr>\n",
              "      <th>took</th>\n",
              "      <td>2448</td>\n",
              "    </tr>\n",
              "    <tr>\n",
              "      <th>says</th>\n",
              "      <td>2410</td>\n",
              "    </tr>\n",
              "    <tr>\n",
              "      <th>youth</th>\n",
              "      <td>2390</td>\n",
              "    </tr>\n",
              "    <tr>\n",
              "      <th>quiz</th>\n",
              "      <td>2381</td>\n",
              "    </tr>\n",
              "    <tr>\n",
              "      <th>makeinindia</th>\n",
              "      <td>2334</td>\n",
              "    </tr>\n",
              "    <tr>\n",
              "      <th>sir</th>\n",
              "      <td>2317</td>\n",
              "    </tr>\n",
              "    <tr>\n",
              "      <th>try</th>\n",
              "      <td>2308</td>\n",
              "    </tr>\n",
              "    <tr>\n",
              "      <th>said</th>\n",
              "      <td>2292</td>\n",
              "    </tr>\n",
              "  </tbody>\n",
              "</table>\n",
              "</div>"
            ],
            "text/plain": [
              "             count\n",
              "india        16058\n",
              "pmoindia     11720\n",
              "people        5935\n",
              "narendra      4950\n",
              "baat          4581\n",
              "today         4249\n",
              "world         3911\n",
              "mann          3596\n",
              "nation        3569\n",
              "country       3544\n",
              "indian        3537\n",
              "us            3453\n",
              "one           3344\n",
              "new           3214\n",
              "pmonair       2890\n",
              "hai           2710\n",
              "also          2662\n",
              "time          2603\n",
              "day           2577\n",
              "shri          2555\n",
              "bjp           2530\n",
              "every         2487\n",
              "took          2448\n",
              "says          2410\n",
              "youth         2390\n",
              "quiz          2381\n",
              "makeinindia   2334\n",
              "sir           2317\n",
              "try           2308\n",
              "said          2292"
            ]
          },
          "metadata": {},
          "execution_count": 12
        }
      ]
    },
    {
      "cell_type": "markdown",
      "metadata": {
        "id": "LgoxeI5uRBUH"
      },
      "source": [
        "### Plotting the Twitter word count"
      ]
    },
    {
      "cell_type": "code",
      "metadata": {
        "colab": {
          "base_uri": "https://localhost:8080/",
          "height": 555
        },
        "id": "L8w3YSqW7VJf",
        "outputId": "e01a3ad1-cffe-49d4-f2ff-20281cd073c1"
      },
      "source": [
        "import matplotlib.pyplot as plt\n",
        "wft15.plot.bar(figsize=(20,10))"
      ],
      "execution_count": null,
      "outputs": [
        {
          "output_type": "execute_result",
          "data": {
            "text/plain": [
              "<matplotlib.axes._subplots.AxesSubplot at 0x7f26074f9e10>"
            ]
          },
          "metadata": {},
          "execution_count": 13
        },
        {
          "output_type": "display_data",
          "data": {
            "image/png": "[encoded data removed]",
            "text/plain": [
              "<Figure size 1440x720 with 1 Axes>"
            ]
          },
          "metadata": {
            "needs_background": "light"
          }
        }
      ]
    },
    {
      "cell_type": "code",
      "metadata": {
        "id": "yh_dtIDaR_EL"
      },
      "source": [
        ""
      ],
      "execution_count": null,
      "outputs": []
    }
  ]
}