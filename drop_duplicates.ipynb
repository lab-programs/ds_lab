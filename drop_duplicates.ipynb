{
  "nbformat": 4,
  "nbformat_minor": 0,
  "metadata": {
    "colab": {
      "name": "drop_duplicates.ipynb",
      "provenance": []
    },
    "kernelspec": {
      "name": "python3",
      "display_name": "Python 3"
    },
    "language_info": {
      "name": "python"
    }
  },
  "cells": [
    {
      "cell_type": "code",
      "metadata": {
        "id": "H-qXJG1Lw7ev"
      },
      "source": [
        "import pandas as pd\n",
        "df = pd.read_csv(\"mkb (4).csv\")"
      ],
      "execution_count": 2,
      "outputs": []
    },
    {
      "cell_type": "code",
      "metadata": {
        "colab": {
          "base_uri": "https://localhost:8080/",
          "height": 206
        },
        "id": "4aLO7TChxYiR",
        "outputId": "77b8afe7-faf3-4a75-a356-059f39d6d5e2"
      },
      "source": [
        "df.head()"
      ],
      "execution_count": 3,
      "outputs": [
        {
          "output_type": "execute_result",
          "data": {
            "text/html": [
              "<div>\n",
              "<style scoped>\n",
              "    .dataframe tbody tr th:only-of-type {\n",
              "        vertical-align: middle;\n",
              "    }\n",
              "\n",
              "    .dataframe tbody tr th {\n",
              "        vertical-align: top;\n",
              "    }\n",
              "\n",
              "    .dataframe thead th {\n",
              "        text-align: right;\n",
              "    }\n",
              "</style>\n",
              "<table border=\"1\" class=\"dataframe\">\n",
              "  <thead>\n",
              "    <tr style=\"text-align: right;\">\n",
              "      <th></th>\n",
              "      <th>Unnamed: 0</th>\n",
              "      <th>episode</th>\n",
              "      <th>content</th>\n",
              "    </tr>\n",
              "  </thead>\n",
              "  <tbody>\n",
              "    <tr>\n",
              "      <th>0</th>\n",
              "      <td>0</td>\n",
              "      <td>Mann Ki Baat, October 2021</td>\n",
              "      <td>\\n My dear countrymen, Namaskar…namaskar a bil...</td>\n",
              "    </tr>\n",
              "    <tr>\n",
              "      <th>1</th>\n",
              "      <td>1</td>\n",
              "      <td>Mann Ki Baat, September 2021</td>\n",
              "      <td>\\n My dear countrymen, Namaskar. You are aware...</td>\n",
              "    </tr>\n",
              "    <tr>\n",
              "      <th>2</th>\n",
              "      <td>2</td>\n",
              "      <td>Mann Ki Baat, August 2021</td>\n",
              "      <td>\\n My dear countrymen, Namaskar. All of us kno...</td>\n",
              "    </tr>\n",
              "    <tr>\n",
              "      <th>3</th>\n",
              "      <td>3</td>\n",
              "      <td>Mann Ki Baat, July 2021</td>\n",
              "      <td>\\n My dear countrymen, Namaskar. A few amazing...</td>\n",
              "    </tr>\n",
              "    <tr>\n",
              "      <th>4</th>\n",
              "      <td>4</td>\n",
              "      <td>Mann Ki Baat, June 2021</td>\n",
              "      <td>\\n My dear countrymen, Namaskar.  Often in Man...</td>\n",
              "    </tr>\n",
              "  </tbody>\n",
              "</table>\n",
              "</div>"
            ],
            "text/plain": [
              "   Unnamed: 0  ...                                            content\n",
              "0           0  ...  \\n My dear countrymen, Namaskar…namaskar a bil...\n",
              "1           1  ...  \\n My dear countrymen, Namaskar. You are aware...\n",
              "2           2  ...  \\n My dear countrymen, Namaskar. All of us kno...\n",
              "3           3  ...  \\n My dear countrymen, Namaskar. A few amazing...\n",
              "4           4  ...  \\n My dear countrymen, Namaskar.  Often in Man...\n",
              "\n",
              "[5 rows x 3 columns]"
            ]
          },
          "metadata": {},
          "execution_count": 3
        }
      ]
    },
    {
      "cell_type": "code",
      "metadata": {
        "id": "bUv9Z26Ixwsu"
      },
      "source": [
        "df = df.drop('Unnamed: 0', 1)"
      ],
      "execution_count": 4,
      "outputs": []
    },
    {
      "cell_type": "code",
      "metadata": {
        "colab": {
          "base_uri": "https://localhost:8080/",
          "height": 206
        },
        "id": "fM2HmDcex8FS",
        "outputId": "59f8571b-959a-4b85-ab24-de74f0c955ea"
      },
      "source": [
        "df.head()"
      ],
      "execution_count": 5,
      "outputs": [
        {
          "output_type": "execute_result",
          "data": {
            "text/html": [
              "<div>\n",
              "<style scoped>\n",
              "    .dataframe tbody tr th:only-of-type {\n",
              "        vertical-align: middle;\n",
              "    }\n",
              "\n",
              "    .dataframe tbody tr th {\n",
              "        vertical-align: top;\n",
              "    }\n",
              "\n",
              "    .dataframe thead th {\n",
              "        text-align: right;\n",
              "    }\n",
              "</style>\n",
              "<table border=\"1\" class=\"dataframe\">\n",
              "  <thead>\n",
              "    <tr style=\"text-align: right;\">\n",
              "      <th></th>\n",
              "      <th>episode</th>\n",
              "      <th>content</th>\n",
              "    </tr>\n",
              "  </thead>\n",
              "  <tbody>\n",
              "    <tr>\n",
              "      <th>0</th>\n",
              "      <td>Mann Ki Baat, October 2021</td>\n",
              "      <td>\\n My dear countrymen, Namaskar…namaskar a bil...</td>\n",
              "    </tr>\n",
              "    <tr>\n",
              "      <th>1</th>\n",
              "      <td>Mann Ki Baat, September 2021</td>\n",
              "      <td>\\n My dear countrymen, Namaskar. You are aware...</td>\n",
              "    </tr>\n",
              "    <tr>\n",
              "      <th>2</th>\n",
              "      <td>Mann Ki Baat, August 2021</td>\n",
              "      <td>\\n My dear countrymen, Namaskar. All of us kno...</td>\n",
              "    </tr>\n",
              "    <tr>\n",
              "      <th>3</th>\n",
              "      <td>Mann Ki Baat, July 2021</td>\n",
              "      <td>\\n My dear countrymen, Namaskar. A few amazing...</td>\n",
              "    </tr>\n",
              "    <tr>\n",
              "      <th>4</th>\n",
              "      <td>Mann Ki Baat, June 2021</td>\n",
              "      <td>\\n My dear countrymen, Namaskar.  Often in Man...</td>\n",
              "    </tr>\n",
              "  </tbody>\n",
              "</table>\n",
              "</div>"
            ],
            "text/plain": [
              "                        episode                                            content\n",
              "0    Mann Ki Baat, October 2021  \\n My dear countrymen, Namaskar…namaskar a bil...\n",
              "1  Mann Ki Baat, September 2021  \\n My dear countrymen, Namaskar. You are aware...\n",
              "2     Mann Ki Baat, August 2021  \\n My dear countrymen, Namaskar. All of us kno...\n",
              "3       Mann Ki Baat, July 2021  \\n My dear countrymen, Namaskar. A few amazing...\n",
              "4       Mann Ki Baat, June 2021  \\n My dear countrymen, Namaskar.  Often in Man..."
            ]
          },
          "metadata": {},
          "execution_count": 5
        }
      ]
    },
    {
      "cell_type": "code",
      "metadata": {
        "id": "fORIzLB5x_Kc"
      },
      "source": [
        "df = df.drop_duplicates()"
      ],
      "execution_count": 10,
      "outputs": []
    },
    {
      "cell_type": "code",
      "metadata": {
        "colab": {
          "base_uri": "https://localhost:8080/",
          "height": 423
        },
        "id": "iJb6OH7uyEP2",
        "outputId": "ac9d2fec-0cf9-41ad-fec4-e18363959ad5"
      },
      "source": [
        "df"
      ],
      "execution_count": 11,
      "outputs": [
        {
          "output_type": "execute_result",
          "data": {
            "text/html": [
              "<div>\n",
              "<style scoped>\n",
              "    .dataframe tbody tr th:only-of-type {\n",
              "        vertical-align: middle;\n",
              "    }\n",
              "\n",
              "    .dataframe tbody tr th {\n",
              "        vertical-align: top;\n",
              "    }\n",
              "\n",
              "    .dataframe thead th {\n",
              "        text-align: right;\n",
              "    }\n",
              "</style>\n",
              "<table border=\"1\" class=\"dataframe\">\n",
              "  <thead>\n",
              "    <tr style=\"text-align: right;\">\n",
              "      <th></th>\n",
              "      <th>episode</th>\n",
              "      <th>content</th>\n",
              "    </tr>\n",
              "  </thead>\n",
              "  <tbody>\n",
              "    <tr>\n",
              "      <th>0</th>\n",
              "      <td>Mann Ki Baat, October 2021</td>\n",
              "      <td>\\n My dear countrymen, Namaskar…namaskar a bil...</td>\n",
              "    </tr>\n",
              "    <tr>\n",
              "      <th>1</th>\n",
              "      <td>Mann Ki Baat, September 2021</td>\n",
              "      <td>\\n My dear countrymen, Namaskar. You are aware...</td>\n",
              "    </tr>\n",
              "    <tr>\n",
              "      <th>2</th>\n",
              "      <td>Mann Ki Baat, August 2021</td>\n",
              "      <td>\\n My dear countrymen, Namaskar. All of us kno...</td>\n",
              "    </tr>\n",
              "    <tr>\n",
              "      <th>3</th>\n",
              "      <td>Mann Ki Baat, July 2021</td>\n",
              "      <td>\\n My dear countrymen, Namaskar. A few amazing...</td>\n",
              "    </tr>\n",
              "    <tr>\n",
              "      <th>4</th>\n",
              "      <td>Mann Ki Baat, June 2021</td>\n",
              "      <td>\\n My dear countrymen, Namaskar.  Often in Man...</td>\n",
              "    </tr>\n",
              "    <tr>\n",
              "      <th>...</th>\n",
              "      <td>...</td>\n",
              "      <td>...</td>\n",
              "    </tr>\n",
              "    <tr>\n",
              "      <th>112</th>\n",
              "      <td>Mann Ki Baat, February 2015</td>\n",
              "      <td>\\n नमस्ते, युवा दोस्तो। आज तो पूरा दिन भर शायद...</td>\n",
              "    </tr>\n",
              "    <tr>\n",
              "      <th>113</th>\n",
              "      <td>Mann Ki Baat, January 2015</td>\n",
              "      <td>\\n   (Hon’ble Shri Narendra Modi):    Today, S...</td>\n",
              "    </tr>\n",
              "    <tr>\n",
              "      <th>114</th>\n",
              "      <td>Mann Ki Baat, December 2014</td>\n",
              "      <td>\\n My Dear Fellow Countrymen,   Today I have t...</td>\n",
              "    </tr>\n",
              "    <tr>\n",
              "      <th>115</th>\n",
              "      <td>Mann Ki Baat, November 2014</td>\n",
              "      <td>\\n My dear fellow countrymen,  I am with you a...</td>\n",
              "    </tr>\n",
              "    <tr>\n",
              "      <th>116</th>\n",
              "      <td>Mann Ki Baat, October 2014</td>\n",
              "      <td>\\n My Dear Countrymen,   Today is the holy fes...</td>\n",
              "    </tr>\n",
              "  </tbody>\n",
              "</table>\n",
              "<p>84 rows × 2 columns</p>\n",
              "</div>"
            ],
            "text/plain": [
              "                          episode                                            content\n",
              "0      Mann Ki Baat, October 2021  \\n My dear countrymen, Namaskar…namaskar a bil...\n",
              "1    Mann Ki Baat, September 2021  \\n My dear countrymen, Namaskar. You are aware...\n",
              "2       Mann Ki Baat, August 2021  \\n My dear countrymen, Namaskar. All of us kno...\n",
              "3         Mann Ki Baat, July 2021  \\n My dear countrymen, Namaskar. A few amazing...\n",
              "4         Mann Ki Baat, June 2021  \\n My dear countrymen, Namaskar.  Often in Man...\n",
              "..                            ...                                                ...\n",
              "112   Mann Ki Baat, February 2015  \\n नमस्ते, युवा दोस्तो। आज तो पूरा दिन भर शायद...\n",
              "113    Mann Ki Baat, January 2015  \\n   (Hon’ble Shri Narendra Modi):    Today, S...\n",
              "114   Mann Ki Baat, December 2014  \\n My Dear Fellow Countrymen,   Today I have t...\n",
              "115   Mann Ki Baat, November 2014  \\n My dear fellow countrymen,  I am with you a...\n",
              "116    Mann Ki Baat, October 2014  \\n My Dear Countrymen,   Today is the holy fes...\n",
              "\n",
              "[84 rows x 2 columns]"
            ]
          },
          "metadata": {},
          "execution_count": 11
        }
      ]
    },
    {
      "cell_type": "code",
      "metadata": {
        "colab": {
          "base_uri": "https://localhost:8080/"
        },
        "id": "cloPIS9RyHDW",
        "outputId": "f1dd6b7e-e498-4897-a68d-1c58e5ce858c"
      },
      "source": [
        "print(df)"
      ],
      "execution_count": 12,
      "outputs": [
        {
          "output_type": "stream",
          "name": "stdout",
          "text": [
            "                          episode                                            content\n",
            "0      Mann Ki Baat, October 2021  \\n My dear countrymen, Namaskar…namaskar a bil...\n",
            "1    Mann Ki Baat, September 2021  \\n My dear countrymen, Namaskar. You are aware...\n",
            "2       Mann Ki Baat, August 2021  \\n My dear countrymen, Namaskar. All of us kno...\n",
            "3         Mann Ki Baat, July 2021  \\n My dear countrymen, Namaskar. A few amazing...\n",
            "4         Mann Ki Baat, June 2021  \\n My dear countrymen, Namaskar.  Often in Man...\n",
            "..                            ...                                                ...\n",
            "112   Mann Ki Baat, February 2015  \\n नमस्ते, युवा दोस्तो। आज तो पूरा दिन भर शायद...\n",
            "113    Mann Ki Baat, January 2015  \\n   (Hon’ble Shri Narendra Modi):    Today, S...\n",
            "114   Mann Ki Baat, December 2014  \\n My Dear Fellow Countrymen,   Today I have t...\n",
            "115   Mann Ki Baat, November 2014  \\n My dear fellow countrymen,  I am with you a...\n",
            "116    Mann Ki Baat, October 2014  \\n My Dear Countrymen,   Today is the holy fes...\n",
            "\n",
            "[84 rows x 2 columns]\n"
          ]
        }
      ]
    },
    {
      "cell_type": "code",
      "metadata": {
        "id": "JjUfDP3mymWh"
      },
      "source": [
        "df.to_csv(\"mkb_final.csv\")"
      ],
      "execution_count": 13,
      "outputs": []
    },
    {
      "cell_type": "code",
      "metadata": {
        "id": "VcQ9Zh45ytDj"
      },
      "source": [
        ""
      ],
      "execution_count": null,
      "outputs": []
    }
  ]
}