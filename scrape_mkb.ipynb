{
  "nbformat": 4,
  "nbformat_minor": 0,
  "metadata": {
    "colab": {
      "name": "scrape_mkb.ipynb",
      "provenance": [],
      "collapsed_sections": []
    },
    "kernelspec": {
      "name": "python3",
      "display_name": "Python 3"
    },
    "language_info": {
      "name": "python"
    }
  },
  "cells": [
    {
      "cell_type": "code",
      "metadata": {
        "colab": {
          "base_uri": "https://localhost:8080/"
        },
        "id": "Y3CsqW6gRv6F",
        "outputId": "51e36b64-777a-40ea-e226-ebd9a6544629"
      },
      "source": [
        "!pip3 install lxml bs4\n",
        "\n",
        "from bs4 import BeautifulSoup\n",
        "\n",
        "f = open('content.html', 'r')\n",
        "soup = BeautifulSoup(f, features=\"lxml\")\n",
        "a = soup.find_all(\"div\", {\"class\": \"mCustomScrollbar\"})\n",
        "b = soup.find_all(\"span\", {\"class\": \"readTitle\"})\n",
        "\n",
        "import pandas as pd\n",
        "\n",
        "xl = []\n",
        "yl = []\n",
        "\n",
        "for i in b:\n",
        "  i = str(i)\n",
        "  start1 = i.find('<span class=\"readTitle\">')\n",
        "  string = '<span class=\"readTitle\">'\n",
        "  start1 += len(string)\n",
        "  end1 = i.find('</span>')\n",
        "  i = i.replace('<span class=\"readTitle\">', '')\n",
        "  i = i.replace('</span>', '')\n",
        "  y = i.strip()\n",
        "  yl.append(y)\n",
        "\n",
        "for i in a:\n",
        "  i = str(i)\n",
        "  string = '<div class=\"mCustomScrollbar\" data-mcs-theme=\"dark\" style=\"height:400px\">'\n",
        "  start = i.find('<div class=\"mCustomScrollbar\" data-mcs-theme=\"dark\" style=\"height:400px\">')\n",
        "  start += len(string)\n",
        "  end = i.find('</div>')\n",
        "  i = i.replace('<p>', ' ')\n",
        "  i = i.replace('<p style=\"text-align: justify;\">', ' ')\n",
        "  i = i.replace('<span style=\"\"font-weight: 400;\"\">', ' ')\n",
        "  i = i.replace('</span>', ' ')\n",
        "  i = i.replace('<strong>', ' ')\n",
        "  i = i.replace('</strong>', ' ')  \n",
        "  i = i.replace('<em>', ' ')\n",
        "  i = i.replace('</em>', ' ')\n",
        "  i = i.replace('<sup>', ' ')\n",
        "  i = i.replace('</sup>', ' ')\n",
        "  i = i.replace('</p>', ' ')\n",
        "  i = i.replace('<br>', ' ')\n",
        "  i = i.replace('<br/>', ' ')\n",
        "  i = i.replace('</div>', '')\n",
        "  x = i[start:end]\n",
        "  x.replace(\"i.e.\", \"that is\")\n",
        "  xl.append(x)\n",
        "\n",
        "data = yl\n",
        "df = pd.DataFrame(data, columns=[\"episode\"])\n",
        "df['content'] = xl\n",
        "\n",
        "df.to_csv('mkb.csv')"
      ],
      "execution_count": null,
      "outputs": [
        {
          "output_type": "stream",
          "name": "stdout",
          "text": [
            "Requirement already satisfied: lxml in /usr/local/lib/python3.7/dist-packages (4.2.6)\n",
            "Requirement already satisfied: bs4 in /usr/local/lib/python3.7/dist-packages (0.0.1)\n",
            "Requirement already satisfied: beautifulsoup4 in /usr/local/lib/python3.7/dist-packages (from bs4) (4.6.3)\n"
          ]
        }
      ]
    },
    {
      "cell_type": "code",
      "metadata": {
        "id": "gy_iqDfESUb7"
      },
      "source": [
        ""
      ],
      "execution_count": null,
      "outputs": []
    }
  ]
}